{
 "cells": [
  {
   "cell_type": "markdown",
   "metadata": {},
   "source": [
    "## Final Project Module 3: Statistical Analysis and Hypothesis Testing\n",
    "\n",
    "\n",
    "* Student name: Francis Morales\n",
    "* Instructor name: Eli Thomas\n",
    "* Blog post URL: \n",
    "* Presentation Link:\n"
   ]
  },
  {
   "cell_type": "markdown",
   "metadata": {},
   "source": [
    "## Project Northwind Database"
   ]
  },
  {
   "cell_type": "markdown",
   "metadata": {},
   "source": [
    "<img src=\"Northwind_ERD_updated.png\" height=\"100%\" width=\"100%\">"
   ]
  },
  {
   "cell_type": "code",
   "execution_count": 2,
   "metadata": {},
   "outputs": [],
   "source": [
    "# import libraries\n",
    "import pandas as pd\n",
    "import numpy as np\n",
    "import sqlite3 as sql\n",
    "\n",
    "import scipy.stats as scs\n",
    "import matplotlib.pyplot as plt\n",
    "import seaborn as sns\n",
    "plt.style.use('seaborn')\n",
    "\n",
    "from sklearn import preprocessing\n",
    "\n",
    "import statsmodels.api as sm\n",
    "from statsmodels.formula.api import ols"
   ]
  },
  {
   "cell_type": "code",
   "execution_count": 3,
   "metadata": {},
   "outputs": [],
   "source": [
    "# Create a connection object that represents the database\n",
    "cnx = sql.connect(r'Northwind_small.sqlite')\n",
    "#Create a cursor instance to use execute/fetchall methods\n",
    "c = cnx.cursor()"
   ]
  },
  {
   "cell_type": "code",
   "execution_count": 4,
   "metadata": {
    "scrolled": true
   },
   "outputs": [
    {
     "data": {
      "text/plain": [
       "[('Employee',),\n",
       " ('Category',),\n",
       " ('Customer',),\n",
       " ('Shipper',),\n",
       " ('Supplier',),\n",
       " ('Order',),\n",
       " ('Product',),\n",
       " ('OrderDetail',),\n",
       " ('CustomerCustomerDemo',),\n",
       " ('CustomerDemographic',),\n",
       " ('Region',),\n",
       " ('Territory',),\n",
       " ('EmployeeTerritory',)]"
      ]
     },
     "execution_count": 4,
     "metadata": {},
     "output_type": "execute_result"
    }
   ],
   "source": [
    "#Every SQLite database has an SQLITE_MASTER table that defines the schema for the database\n",
    "#For tables, the type field will always be 'table' and the name field will be the name of the table\n",
    "c.execute(''' SELECT name FROM sqlite_master WHERE type = 'table';''')\n",
    "\n",
    "table_names = c.fetchall()\n",
    "table_names"
   ]
  },
  {
   "cell_type": "code",
   "execution_count": 215,
   "metadata": {
    "collapsed": true
   },
   "outputs": [
    {
     "data": {
      "text/plain": [
       "[(0, 'Id', 'VARCHAR(8000)', 0, None, 1),\n",
       " (1, 'CompanyName', 'VARCHAR(8000)', 0, None, 0),\n",
       " (2, 'ContactName', 'VARCHAR(8000)', 0, None, 0),\n",
       " (3, 'ContactTitle', 'VARCHAR(8000)', 0, None, 0),\n",
       " (4, 'Address', 'VARCHAR(8000)', 0, None, 0),\n",
       " (5, 'City', 'VARCHAR(8000)', 0, None, 0),\n",
       " (6, 'Region', 'VARCHAR(8000)', 0, None, 0),\n",
       " (7, 'PostalCode', 'VARCHAR(8000)', 0, None, 0),\n",
       " (8, 'Country', 'VARCHAR(8000)', 0, None, 0),\n",
       " (9, 'Phone', 'VARCHAR(8000)', 0, None, 0),\n",
       " (10, 'Fax', 'VARCHAR(8000)', 0, None, 0)]"
      ]
     },
     "execution_count": 215,
     "metadata": {},
     "output_type": "execute_result"
    }
   ],
   "source": [
    "#get table column names \n",
    "c.execute(\"PRAGMA table_info('Customer')\")\n",
    "c.fetchall()"
   ]
  },
  {
   "cell_type": "code",
   "execution_count": 340,
   "metadata": {},
   "outputs": [],
   "source": [
    "#Plot sales over time\n",
    "dataSalesoverTime = pd.read_sql_query('''SELECT strftime('%m-%Y', o.OrderDate) as Order_Date,\n",
    "                            SUM((od.UnitPrice * od.Quantity) - (od.UnitPrice * od.Quantity * od.Discount )) as 'Total_Sales'\n",
    "                            FROM 'Order' o\n",
    "                            JOIN 'OrderDetail' od ON o.Id = od.OrderId\n",
    "                            GROUP BY Order_Date\n",
    "                            ;''', cnx)"
   ]
  },
  {
   "cell_type": "code",
   "execution_count": 341,
   "metadata": {},
   "outputs": [],
   "source": [
    "dataSalesoverTime['Order_Date'] = pd.to_datetime(dataSalesoverTime['Order_Date']) "
   ]
  },
  {
   "cell_type": "code",
   "execution_count": 342,
   "metadata": {
    "scrolled": true
   },
   "outputs": [
    {
     "data": {
      "text/html": [
       "<div>\n",
       "<style scoped>\n",
       "    .dataframe tbody tr th:only-of-type {\n",
       "        vertical-align: middle;\n",
       "    }\n",
       "\n",
       "    .dataframe tbody tr th {\n",
       "        vertical-align: top;\n",
       "    }\n",
       "\n",
       "    .dataframe thead th {\n",
       "        text-align: right;\n",
       "    }\n",
       "</style>\n",
       "<table border=\"1\" class=\"dataframe\">\n",
       "  <thead>\n",
       "    <tr style=\"text-align: right;\">\n",
       "      <th></th>\n",
       "      <th>Order_Date</th>\n",
       "      <th>Total_Sales</th>\n",
       "    </tr>\n",
       "  </thead>\n",
       "  <tbody>\n",
       "    <tr>\n",
       "      <th>0</th>\n",
       "      <td>2013-01-01</td>\n",
       "      <td>61258.0700</td>\n",
       "    </tr>\n",
       "    <tr>\n",
       "      <th>1</th>\n",
       "      <td>2014-01-01</td>\n",
       "      <td>94222.1105</td>\n",
       "    </tr>\n",
       "    <tr>\n",
       "      <th>2</th>\n",
       "      <td>2013-02-01</td>\n",
       "      <td>38483.6350</td>\n",
       "    </tr>\n",
       "    <tr>\n",
       "      <th>3</th>\n",
       "      <td>2014-02-01</td>\n",
       "      <td>99415.2875</td>\n",
       "    </tr>\n",
       "    <tr>\n",
       "      <th>4</th>\n",
       "      <td>2013-03-01</td>\n",
       "      <td>38547.2200</td>\n",
       "    </tr>\n",
       "  </tbody>\n",
       "</table>\n",
       "</div>"
      ],
      "text/plain": [
       "  Order_Date  Total_Sales\n",
       "0 2013-01-01   61258.0700\n",
       "1 2014-01-01   94222.1105\n",
       "2 2013-02-01   38483.6350\n",
       "3 2014-02-01   99415.2875\n",
       "4 2013-03-01   38547.2200"
      ]
     },
     "execution_count": 342,
     "metadata": {},
     "output_type": "execute_result"
    }
   ],
   "source": [
    "dataSalesoverTime.head()"
   ]
  },
  {
   "cell_type": "code",
   "execution_count": 343,
   "metadata": {},
   "outputs": [
    {
     "name": "stdout",
     "output_type": "stream",
     "text": [
      "23\n",
      "2012-07-01 00:00:00\n",
      "2014-05-01 00:00:00\n"
     ]
    }
   ],
   "source": [
    "print(len(dataSalesoverTime['Total_Sales']))\n",
    "print(dataSalesoverTime['Order_Date'].min())\n",
    "print(dataSalesoverTime['Order_Date'].max())\n",
    "# print(dataSalesoverTime['ValDate'].mid())"
   ]
  },
  {
   "cell_type": "code",
   "execution_count": 361,
   "metadata": {
    "scrolled": true
   },
   "outputs": [
    {
     "name": "stderr",
     "output_type": "stream",
     "text": [
      "C:\\Users\\franc\\AppData\\Local\\Continuum\\anaconda3\\lib\\site-packages\\matplotlib\\cbook\\__init__.py:1725: UserWarning: Saw kwargs ['c', 'color'] which are all aliases for 'color'.  Kept value from 'color'\n",
      "  seen=seen, canon=canonical, used=seen[-1]))\n",
      "C:\\Users\\franc\\AppData\\Local\\Continuum\\anaconda3\\lib\\site-packages\\matplotlib\\cbook\\__init__.py:1725: UserWarning: Saw kwargs ['c', 'color'] which are all aliases for 'color'.  Kept value from 'color'\n",
      "  seen=seen, canon=canonical, used=seen[-1]))\n"
     ]
    },
    {
     "data": {
      "image/png": "[encoded data removed]",
      "text/plain": [
       "<Figure size 864x288 with 1 Axes>"
      ]
     },
     "metadata": {},
     "output_type": "display_data"
    }
   ],
   "source": [
    "#Plot sales over time\n",
    "plt.figure(figsize=(12, 4))\n",
    "ax = sns.lineplot(x=\"Order_Date\", y=\"Total_Sales\", data=dataSalesoverTime, c='coral')"
   ]
  },
  {
   "cell_type": "code",
   "execution_count": 352,
   "metadata": {},
   "outputs": [],
   "source": [
    "#What is the total number of Customers the company has?\n",
    "dfTotalCustomers = pd.read_sql_query('''SELECT DISTINCT Id FROM 'Customer'\n",
    "                            ;''', cnx)"
   ]
  },
  {
   "cell_type": "code",
   "execution_count": 354,
   "metadata": {},
   "outputs": [
    {
     "data": {
      "text/plain": [
       "91"
      ]
     },
     "execution_count": 354,
     "metadata": {},
     "output_type": "execute_result"
    }
   ],
   "source": [
    "len(dfTotalCustomers['Id'])"
   ]
  },
  {
   "cell_type": "code",
   "execution_count": 356,
   "metadata": {},
   "outputs": [],
   "source": [
    "#What is the total number of Products the company offer?\n",
    "dfTotalProduct = pd.read_sql_query('''SELECT DISTINCT Id FROM 'Product'\n",
    "                            ;''', cnx)"
   ]
  },
  {
   "cell_type": "code",
   "execution_count": 357,
   "metadata": {},
   "outputs": [
    {
     "data": {
      "text/plain": [
       "77"
      ]
     },
     "execution_count": 357,
     "metadata": {},
     "output_type": "execute_result"
    }
   ],
   "source": [
    "len(dfTotalProduct['Id'])"
   ]
  },
  {
   "cell_type": "markdown",
   "metadata": {},
   "source": [
    "# Hypothesis 1 - Do customers with more orders placed generate higher sales amounts?\n",
    "- $H_0: \\mu_1 = \\mu_2$ Customers with more orders placed spend the same amount on average as customers with less orders placed\n",
    "- $H_a: \\mu_1 > \\mu_2$ Customers with more orders placed spend more than customers with less orders placed"
   ]
  },
  {
   "cell_type": "markdown",
   "metadata": {},
   "source": [
    "## Exp 1: Data Exploration"
   ]
  },
  {
   "cell_type": "code",
   "execution_count": 95,
   "metadata": {},
   "outputs": [],
   "source": [
    "#Get the total sales amount per customer ID\n",
    "#Get the count of number of orders placed by customer\n",
    "\n",
    "data1 = pd.read_sql_query('''SELECT o.CustomerId, \n",
    "                            SUM((od.UnitPrice * od.Quantity) - (od.UnitPrice * od.Quantity * od.Discount )) as 'TotalAmount',\n",
    "                            COUNT(o.Id) as 'CountOrders'\n",
    "                            FROM 'Order' o\n",
    "                            JOIN 'OrderDetail' od ON o.Id = od.OrderId\n",
    "                            GROUP BY o.CustomerId\n",
    "                            ;''', cnx)"
   ]
  },
  {
   "cell_type": "code",
   "execution_count": 9,
   "metadata": {},
   "outputs": [
    {
     "data": {
      "text/plain": [
       "20.0"
      ]
     },
     "execution_count": 9,
     "metadata": {},
     "output_type": "execute_result"
    }
   ],
   "source": [
    "#get the median of frequency orders to create the samples\n",
    "data1['CountOrders'].median()"
   ]
  },
  {
   "cell_type": "code",
   "execution_count": 10,
   "metadata": {},
   "outputs": [],
   "source": [
    "#create 2 sample groups \n",
    "#sample groups are divided by the median order frequency (our independent variable)\n",
    "#This will allow to check if the TotalAmount means between groups are significantly different\n",
    "high_frequency = data1.loc[data1['CountOrders'] > data1['CountOrders'].median()]\n",
    "low_frequency = data1.loc[data1['CountOrders'] <= data1['CountOrders'].median()]"
   ]
  },
  {
   "cell_type": "markdown",
   "metadata": {},
   "source": [
    "##### Histogram to check normality"
   ]
  },
  {
   "cell_type": "code",
   "execution_count": 121,
   "metadata": {},
   "outputs": [
    {
     "data": {
      "image/png": "[encoded data removed]",
      "text/plain": [
       "<Figure size 576x360 with 2 Axes>"
      ]
     },
     "metadata": {},
     "output_type": "display_data"
    }
   ],
   "source": [
    "#Check normality in data\n",
    "fig, (ax1, ax2) = plt.subplots(1,2,figsize=(8,5))\n",
    "\n",
    "ax1.hist(low_frequency['TotalAmount'], bins=20, color='b', alpha=0.7, label='low frequency customers')\n",
    "ax1.set_xlabel('\\nTotal Amount - Low Freq Customers', fontweight='bold')\n",
    "ax1.set_ylabel('Num of Customers\\n')\n",
    "ax1.legend()\n",
    "\n",
    "ax2.hist(high_frequency['TotalAmount'], bins=20, color='r', alpha=0.7, label='high frequency customers')\n",
    "ax2.set_xlabel('\\nTotal Amount - High Freq Customers', fontweight='bold')\n",
    "ax2.legend();"
   ]
  },
  {
   "cell_type": "markdown",
   "metadata": {},
   "source": [
    "##### Shapiro test to check normality\n",
    "- H0: distribution is normal\n",
    "- Ha: distribution is not normal"
   ]
  },
  {
   "cell_type": "code",
   "execution_count": 254,
   "metadata": {},
   "outputs": [
    {
     "ename": "NameError",
     "evalue": "name 'high_frequency' is not defined",
     "output_type": "error",
     "traceback": [
      "\u001b[1;31m---------------------------------------------------------------------------\u001b[0m",
      "\u001b[1;31mNameError\u001b[0m                                 Traceback (most recent call last)",
      "\u001b[1;32m<ipython-input-254-d8ba5a7282af>\u001b[0m in \u001b[0;36m<module>\u001b[1;34m\u001b[0m\n\u001b[1;32m----> 1\u001b[1;33m \u001b[0mprint\u001b[0m\u001b[1;33m(\u001b[0m\u001b[0mscs\u001b[0m\u001b[1;33m.\u001b[0m\u001b[0mshapiro\u001b[0m\u001b[1;33m(\u001b[0m\u001b[0mhigh_frequency\u001b[0m\u001b[1;33m[\u001b[0m\u001b[1;34m'TotalAmount'\u001b[0m\u001b[1;33m]\u001b[0m\u001b[1;33m)\u001b[0m\u001b[1;33m,\u001b[0m \u001b[0mscs\u001b[0m\u001b[1;33m.\u001b[0m\u001b[0mshapiro\u001b[0m\u001b[1;33m(\u001b[0m\u001b[0mlow_frequency\u001b[0m\u001b[1;33m[\u001b[0m\u001b[1;34m'TotalAmount'\u001b[0m\u001b[1;33m]\u001b[0m\u001b[1;33m)\u001b[0m\u001b[1;33m)\u001b[0m\u001b[1;33m\u001b[0m\u001b[1;33m\u001b[0m\u001b[0m\n\u001b[0m",
      "\u001b[1;31mNameError\u001b[0m: name 'high_frequency' is not defined"
     ]
    }
   ],
   "source": [
    "print(scs.shapiro(high_frequency['TotalAmount']), scs.shapiro(low_frequency['TotalAmount']))"
   ]
  },
  {
   "cell_type": "markdown",
   "metadata": {},
   "source": [
    "> With p-values below the alpha level (0.05) we reject H0 and have significant evidence to assume that the samples do not follow a normal distribution."
   ]
  },
  {
   "cell_type": "markdown",
   "metadata": {},
   "source": [
    "##### Levene test to check for equal variances\n",
    "- H0: v1=v2\n",
    "\n",
    "- Ha: v1!=v2"
   ]
  },
  {
   "cell_type": "code",
   "execution_count": 13,
   "metadata": {},
   "outputs": [
    {
     "data": {
      "text/plain": [
       "LeveneResult(statistic=11.818379956321802, pvalue=0.0009019045930232378)"
      ]
     },
     "execution_count": 13,
     "metadata": {},
     "output_type": "execute_result"
    }
   ],
   "source": [
    "# Levene Test for testing homogeneity of variances\n",
    "# I will be evaluating if the total amount comes from a normal distribution\n",
    "\n",
    "scs.levene(high_frequency['TotalAmount'], low_frequency['TotalAmount'])"
   ]
  },
  {
   "cell_type": "markdown",
   "metadata": {},
   "source": [
    "> We have significant evidence to reject H0 and conclude that the variances in the samples are different.\n",
    "Since the variances between the two groups are not equal, we cannot use a T-test"
   ]
  },
  {
   "cell_type": "markdown",
   "metadata": {},
   "source": [
    "## Exp 1: Monte Carlo Simulation"
   ]
  },
  {
   "cell_type": "markdown",
   "metadata": {},
   "source": [
    "**After inspection of the sample distributions we determined that a non-parametric method will be used since the sample distributions do not comply with the normality and equal variance assumptions.**"
   ]
  },
  {
   "cell_type": "code",
   "execution_count": 14,
   "metadata": {},
   "outputs": [
    {
     "data": {
      "text/plain": [
       "21086.921466632968"
      ]
     },
     "execution_count": 14,
     "metadata": {},
     "output_type": "execute_result"
    }
   ],
   "source": [
    "#get the mean difference \n",
    "mean_diff = high_frequency['TotalAmount'].mean() - low_frequency['TotalAmount'].mean()\n",
    "mean_diff"
   ]
  },
  {
   "cell_type": "markdown",
   "metadata": {},
   "source": [
    "- On average, high frequency customers spent $21086 more than low frequency customers.\n",
    "- We will take 10000 random sample mean differences from our data and check if the random mean difference is greater than the study mean difference (high_frequency - low_frequency).\n",
    "- If not many random sample mean differences are greater than the study mean difference, then we can conclude that the study mean difference is not due to chance\n",
    "- We also calculate the p-value to check the percentage of random mean differences that are greater than the study mean difference"
   ]
  },
  {
   "cell_type": "code",
   "execution_count": 15,
   "metadata": {},
   "outputs": [],
   "source": [
    "#Monte Carlo Simulation\n",
    "sample_diffs = []\n",
    "counter = 0\n",
    "\n",
    "for i in range(10000):\n",
    "    sample_high = data1.sample(replace=False, n=len(high_frequency['TotalAmount']))\n",
    "    sample_low = data1.drop(sample_high.index, axis=0)\n",
    "    sample_diff = sample_high['TotalAmount'].mean() - sample_low['TotalAmount'].mean()\n",
    "    sample_diffs.append(sample_diff)\n",
    "    if sample_diff > mean_diff:\n",
    "        counter += 1"
   ]
  },
  {
   "cell_type": "code",
   "execution_count": 16,
   "metadata": {
    "scrolled": false
   },
   "outputs": [
    {
     "data": {
      "image/png": "[encoded data removed]",
      "text/plain": [
       "<Figure size 432x288 with 1 Axes>"
      ]
     },
     "metadata": {
      "needs_background": "light"
     },
     "output_type": "display_data"
    }
   ],
   "source": [
    "plt.hist(sample_diffs)\n",
    "plt.axvline(mean_diff, color = 'k')\n",
    "plt.title(f'p value: {np.round(counter / 10000, 3)}');"
   ]
  },
  {
   "cell_type": "markdown",
   "metadata": {},
   "source": [
    "## Exp 2: Data Exploration\n",
    "- Given the results from experiment 1, an additional experiment will be performed to confirm hypothesis\n",
    "- For this experiment, we will analyze if the low frequency sample group was influenced by the new customer onboarding date"
   ]
  },
  {
   "cell_type": "code",
   "execution_count": 292,
   "metadata": {},
   "outputs": [],
   "source": [
    "#DataFrame with order Id details and Order Date\n",
    "#This will help explore further the frequency of customers\n",
    "data2 = pd.read_sql_query('''SELECT o.Id, o.CustomerId, o.OrderDate, \n",
    "                            SUM((od.UnitPrice * od.Quantity) - (od.UnitPrice * od.Quantity * od.Discount )) as 'TotalAmount'\n",
    "                            FROM 'Order' o\n",
    "                            JOIN 'OrderDetail' od ON o.Id = od.OrderId\n",
    "                            GROUP BY o.Id\n",
    "                            ;''', cnx)"
   ]
  },
  {
   "cell_type": "code",
   "execution_count": 293,
   "metadata": {},
   "outputs": [],
   "source": [
    "data2['OrderDate'] = pd.to_datetime(data2['OrderDate'])"
   ]
  },
  {
   "cell_type": "code",
   "execution_count": 89,
   "metadata": {},
   "outputs": [
    {
     "data": {
      "text/html": [
       "<div>\n",
       "<style scoped>\n",
       "    .dataframe tbody tr th:only-of-type {\n",
       "        vertical-align: middle;\n",
       "    }\n",
       "\n",
       "    .dataframe tbody tr th {\n",
       "        vertical-align: top;\n",
       "    }\n",
       "\n",
       "    .dataframe thead th {\n",
       "        text-align: right;\n",
       "    }\n",
       "</style>\n",
       "<table border=\"1\" class=\"dataframe\">\n",
       "  <thead>\n",
       "    <tr style=\"text-align: right;\">\n",
       "      <th></th>\n",
       "      <th>Id</th>\n",
       "      <th>CustomerId</th>\n",
       "      <th>OrderDate</th>\n",
       "      <th>TotalAmount</th>\n",
       "    </tr>\n",
       "  </thead>\n",
       "  <tbody>\n",
       "    <tr>\n",
       "      <th>0</th>\n",
       "      <td>10248</td>\n",
       "      <td>VINET</td>\n",
       "      <td>2012-07-04</td>\n",
       "      <td>440.00</td>\n",
       "    </tr>\n",
       "    <tr>\n",
       "      <th>1</th>\n",
       "      <td>10249</td>\n",
       "      <td>TOMSP</td>\n",
       "      <td>2012-07-05</td>\n",
       "      <td>1863.40</td>\n",
       "    </tr>\n",
       "    <tr>\n",
       "      <th>2</th>\n",
       "      <td>10250</td>\n",
       "      <td>HANAR</td>\n",
       "      <td>2012-07-08</td>\n",
       "      <td>1552.60</td>\n",
       "    </tr>\n",
       "    <tr>\n",
       "      <th>3</th>\n",
       "      <td>10251</td>\n",
       "      <td>VICTE</td>\n",
       "      <td>2012-07-08</td>\n",
       "      <td>654.06</td>\n",
       "    </tr>\n",
       "    <tr>\n",
       "      <th>4</th>\n",
       "      <td>10252</td>\n",
       "      <td>SUPRD</td>\n",
       "      <td>2012-07-09</td>\n",
       "      <td>3597.90</td>\n",
       "    </tr>\n",
       "  </tbody>\n",
       "</table>\n",
       "</div>"
      ],
      "text/plain": [
       "      Id CustomerId  OrderDate  TotalAmount\n",
       "0  10248      VINET 2012-07-04       440.00\n",
       "1  10249      TOMSP 2012-07-05      1863.40\n",
       "2  10250      HANAR 2012-07-08      1552.60\n",
       "3  10251      VICTE 2012-07-08       654.06\n",
       "4  10252      SUPRD 2012-07-09      3597.90"
      ]
     },
     "execution_count": 89,
     "metadata": {},
     "output_type": "execute_result"
    }
   ],
   "source": [
    "data2.head()"
   ]
  },
  {
   "cell_type": "code",
   "execution_count": 305,
   "metadata": {},
   "outputs": [
    {
     "data": {
      "image/png": "[encoded data removed]",
      "text/plain": [
       "<Figure size 576x360 with 1 Axes>"
      ]
     },
     "metadata": {},
     "output_type": "display_data"
    }
   ],
   "source": [
    "#Plot sales over time for all customers\n",
    "plt.figure(figsize=(8, 5))\n",
    "sc = plt.scatter(data2['OrderDate'], data2['CustomerId'], marker='o', c='orange')\n",
    "plt.yticks([])\n",
    "plt.xlabel('Order Date', fontweight='bold')\n",
    "plt.ylabel('Customers', fontweight='bold')\n",
    "plt.show()"
   ]
  },
  {
   "cell_type": "code",
   "execution_count": 90,
   "metadata": {},
   "outputs": [],
   "source": [
    "#select the customer IDs from the high and low frequency from the second dataset\n",
    "High_freq = data2.loc[data2['CustomerId'].isin(high_frequency['CustomerId'])]\n",
    "Low_freq = data2.loc[data2['CustomerId'].isin(low_frequency['CustomerId'])]"
   ]
  },
  {
   "cell_type": "code",
   "execution_count": 77,
   "metadata": {},
   "outputs": [
    {
     "data": {
      "image/png": "[encoded data removed]",
      "text/plain": [
       "<Figure size 576x360 with 2 Axes>"
      ]
     },
     "metadata": {},
     "output_type": "display_data"
    },
    {
     "data": {
      "image/png": "[encoded data removed]",
      "text/plain": [
       "<Figure size 576x360 with 2 Axes>"
      ]
     },
     "metadata": {},
     "output_type": "display_data"
    }
   ],
   "source": [
    "#Plot of random sample of low frequency and hight frequency customers \n",
    "plt.figure(figsize=(8, 5))\n",
    "sc = plt.scatter(Low_freq['OrderDate'], Low_freq['CustomerId'], marker='o', c=Low_freq['TotalAmount'], cmap='viridis', vmin=Low_freq['TotalAmount'].min(), vmax=Low_freq['TotalAmount'].max())\n",
    "plt.xlabel('Order Date', fontweight='bold')\n",
    "plt.ylabel('Low Freq Customers\\n')\n",
    "plt.colorbar(sc)\n",
    "plt.show()\n",
    "\n",
    "plt.figure(figsize=(8, 5))\n",
    "sc2 = plt.scatter(High_freq['OrderDate'], High_freq['CustomerId'], marker='o', c=High_freq['TotalAmount'], cmap='viridis', vmin=High_freq['TotalAmount'].min(), vmax=High_freq['TotalAmount'].max())\n",
    "plt.xlabel('Order Date', fontweight='bold')\n",
    "plt.ylabel('High Freq Customers\\n')\n",
    "plt.colorbar(sc2)\n",
    "plt.show()"
   ]
  },
  {
   "cell_type": "markdown",
   "metadata": {},
   "source": [
    "> The plotted order IDs vs customer shows that there might be an influence in the number of orders by the date the customer started working with our store. We will make the assumption that most of the customers started working with Northwind by 07-2013 and we will do the hypothesis test on the new sample. "
   ]
  },
  {
   "cell_type": "markdown",
   "metadata": {},
   "source": [
    "##### Select new sample"
   ]
  },
  {
   "cell_type": "markdown",
   "metadata": {},
   "source": [
    "Selecting orders placed after 2013-07-01 since 97% of the customers had placed at least one order by then"
   ]
  },
  {
   "cell_type": "code",
   "execution_count": 111,
   "metadata": {},
   "outputs": [],
   "source": [
    "#Only orders places after 07-2013 will be considered\n",
    "#Get the total sales amount per customer ID\n",
    "#Get the count of number of orders placed by customer\n",
    "\n",
    "data3 = pd.read_sql_query('''SELECT o.CustomerId, o.OrderDate, \n",
    "                            SUM((od.UnitPrice * od.Quantity) - (od.UnitPrice * od.Quantity * od.Discount )) as 'TotalAmount',\n",
    "                            COUNT(o.Id) as 'CountOrders'\n",
    "                            FROM 'Order' o\n",
    "                            JOIN 'OrderDetail' od ON o.Id = od.OrderId\n",
    "                            WHERE o.OrderDate > '2013-07-01'\n",
    "                            GROUP BY o.CustomerId\n",
    "                            ;''', cnx) "
   ]
  },
  {
   "cell_type": "code",
   "execution_count": 114,
   "metadata": {},
   "outputs": [
    {
     "data": {
      "text/plain": [
       "11.0"
      ]
     },
     "execution_count": 114,
     "metadata": {},
     "output_type": "execute_result"
    }
   ],
   "source": [
    "data3['CountOrders'].median()"
   ]
  },
  {
   "cell_type": "code",
   "execution_count": 115,
   "metadata": {},
   "outputs": [],
   "source": [
    "#create 2 sample groups \n",
    "#sample groups are divided by the median order frequency (our independent variable)\n",
    "#This will allow to check if the TotalAmount means between groups are significantly different\n",
    "high_frequency2 = data3.loc[data1['CountOrders'] > data3['CountOrders'].median()]\n",
    "low_frequency2 = data3.loc[data1['CountOrders'] <= data3['CountOrders'].median()]"
   ]
  },
  {
   "cell_type": "markdown",
   "metadata": {},
   "source": [
    "##### Histogram to check normality"
   ]
  },
  {
   "cell_type": "code",
   "execution_count": 122,
   "metadata": {
    "scrolled": true
   },
   "outputs": [
    {
     "data": {
      "image/png": "[encoded data removed]",
      "text/plain": [
       "<Figure size 576x360 with 2 Axes>"
      ]
     },
     "metadata": {},
     "output_type": "display_data"
    }
   ],
   "source": [
    "#Check normality in data\n",
    "fig, (ax1, ax2) = plt.subplots(1,2,figsize=(8,5))\n",
    "\n",
    "ax1.hist(low_frequency2['TotalAmount'], bins=20, color='b', alpha=0.7, label='low frequency customers')\n",
    "ax1.set_xlabel('\\nTotal Amount - Low Freq Customers', fontweight='bold')\n",
    "ax1.set_ylabel('Num of Customers\\n')\n",
    "ax1.legend()\n",
    "\n",
    "ax2.hist(high_frequency2['TotalAmount'], bins=20, color='r', alpha=0.7, label='high frequency customers')\n",
    "ax2.set_xlabel('\\nTotal Amount - High Freq Customers', fontweight='bold')\n",
    "ax2.legend();"
   ]
  },
  {
   "cell_type": "markdown",
   "metadata": {},
   "source": [
    "##### Shapiro test to check normality\n",
    "- H0: distribution is normal\n",
    "- Ha: distribution is not normal"
   ]
  },
  {
   "cell_type": "code",
   "execution_count": 124,
   "metadata": {},
   "outputs": [
    {
     "name": "stdout",
     "output_type": "stream",
     "text": [
      "(0.5477457046508789, 2.0006945319200886e-12) (0.7365228533744812, 1.7483718693256378e-05)\n"
     ]
    }
   ],
   "source": [
    "print(scs.shapiro(high_frequency2['TotalAmount']), scs.shapiro(low_frequency2['TotalAmount']))"
   ]
  },
  {
   "cell_type": "markdown",
   "metadata": {},
   "source": [
    "> With p-values below the alpha level (0.05) we reject H0 and have significant evidence to assume that the samples do not follow a normal distribution."
   ]
  },
  {
   "cell_type": "markdown",
   "metadata": {},
   "source": [
    "## Exp 2: Monte Carlo Simulation\n",
    "After inspection of the sample distributions we determined that a non-parametric method will be used since the sample distributions do not comply with the normality and equal variance assumptions."
   ]
  },
  {
   "cell_type": "code",
   "execution_count": 125,
   "metadata": {},
   "outputs": [
    {
     "data": {
      "text/plain": [
       "2374.1676131778077"
      ]
     },
     "execution_count": 125,
     "metadata": {},
     "output_type": "execute_result"
    }
   ],
   "source": [
    "#get the mean difference \n",
    "mean_diff = high_frequency2['TotalAmount'].mean() - low_frequency2['TotalAmount'].mean()\n",
    "mean_diff"
   ]
  },
  {
   "cell_type": "markdown",
   "metadata": {},
   "source": [
    "- On average, high frequency customers spent $2374 more than low frequency customers.\n",
    "- We will take 10000 random sample mean differences from our data and check if the random mean difference is greater than the study mean difference (high_frequency - low_frequency).\n",
    "- If not many random sample mean differences are greater than the study mean difference, then we can conclude that the study mean difference is not due to chance\n",
    "- We also calculate the p-value to check the percentage of random mean differences that are greater than the study mean difference"
   ]
  },
  {
   "cell_type": "code",
   "execution_count": 49,
   "metadata": {},
   "outputs": [
    {
     "ename": "NameError",
     "evalue": "name 'data3' is not defined",
     "output_type": "error",
     "traceback": [
      "\u001b[1;31m---------------------------------------------------------------------------\u001b[0m",
      "\u001b[1;31mNameError\u001b[0m                                 Traceback (most recent call last)",
      "\u001b[1;32m<ipython-input-49-299f1c5a026f>\u001b[0m in \u001b[0;36m<module>\u001b[1;34m\u001b[0m\n\u001b[0;32m      3\u001b[0m \u001b[0mcounter\u001b[0m \u001b[1;33m=\u001b[0m \u001b[1;36m0\u001b[0m\u001b[1;33m\u001b[0m\u001b[1;33m\u001b[0m\u001b[0m\n\u001b[0;32m      4\u001b[0m \u001b[1;32mfor\u001b[0m \u001b[0mi\u001b[0m \u001b[1;32min\u001b[0m \u001b[0mrange\u001b[0m\u001b[1;33m(\u001b[0m\u001b[1;36m10000\u001b[0m\u001b[1;33m)\u001b[0m\u001b[1;33m:\u001b[0m\u001b[1;33m\u001b[0m\u001b[1;33m\u001b[0m\u001b[0m\n\u001b[1;32m----> 5\u001b[1;33m     \u001b[0msample_high\u001b[0m \u001b[1;33m=\u001b[0m \u001b[0mdata3\u001b[0m\u001b[1;33m.\u001b[0m\u001b[0msample\u001b[0m\u001b[1;33m(\u001b[0m\u001b[0mreplace\u001b[0m\u001b[1;33m=\u001b[0m\u001b[1;32mFalse\u001b[0m\u001b[1;33m,\u001b[0m \u001b[0mn\u001b[0m\u001b[1;33m=\u001b[0m\u001b[0mlen\u001b[0m\u001b[1;33m(\u001b[0m\u001b[0mhigh_frequency\u001b[0m\u001b[1;33m[\u001b[0m\u001b[1;34m'TotalAmount'\u001b[0m\u001b[1;33m]\u001b[0m\u001b[1;33m)\u001b[0m\u001b[1;33m)\u001b[0m\u001b[1;33m\u001b[0m\u001b[1;33m\u001b[0m\u001b[0m\n\u001b[0m\u001b[0;32m      6\u001b[0m     \u001b[0msample_low\u001b[0m \u001b[1;33m=\u001b[0m \u001b[0mdata3\u001b[0m\u001b[1;33m.\u001b[0m\u001b[0mdrop\u001b[0m\u001b[1;33m(\u001b[0m\u001b[0msample_high\u001b[0m\u001b[1;33m.\u001b[0m\u001b[0mindex\u001b[0m\u001b[1;33m,\u001b[0m \u001b[0maxis\u001b[0m\u001b[1;33m=\u001b[0m\u001b[1;36m0\u001b[0m\u001b[1;33m)\u001b[0m\u001b[1;33m\u001b[0m\u001b[1;33m\u001b[0m\u001b[0m\n\u001b[0;32m      7\u001b[0m     \u001b[0msample_diff\u001b[0m \u001b[1;33m=\u001b[0m \u001b[0msample_high\u001b[0m\u001b[1;33m[\u001b[0m\u001b[1;34m'TotalAmount'\u001b[0m\u001b[1;33m]\u001b[0m\u001b[1;33m.\u001b[0m\u001b[0mmean\u001b[0m\u001b[1;33m(\u001b[0m\u001b[1;33m)\u001b[0m \u001b[1;33m-\u001b[0m \u001b[0msample_low\u001b[0m\u001b[1;33m[\u001b[0m\u001b[1;34m'TotalAmount'\u001b[0m\u001b[1;33m]\u001b[0m\u001b[1;33m.\u001b[0m\u001b[0mmean\u001b[0m\u001b[1;33m(\u001b[0m\u001b[1;33m)\u001b[0m\u001b[1;33m\u001b[0m\u001b[1;33m\u001b[0m\u001b[0m\n",
      "\u001b[1;31mNameError\u001b[0m: name 'data3' is not defined"
     ]
    }
   ],
   "source": [
    "#Monte Carlo Simulation\n",
    "sample_diffs = []\n",
    "counter = 0\n",
    "for i in range(10000):\n",
    "    sample_high = data3.sample(replace=False, n=len(high_frequency['TotalAmount']))\n",
    "    sample_low = data3.drop(sample_high.index, axis=0)\n",
    "    sample_diff = sample_high['TotalAmount'].mean() - sample_low['TotalAmount'].mean()\n",
    "    sample_diffs.append(sample_diff)\n",
    "    if sample_diff > mean_diff:\n",
    "        counter += 1"
   ]
  },
  {
   "cell_type": "code",
   "execution_count": 127,
   "metadata": {},
   "outputs": [
    {
     "data": {
      "image/png": "[encoded data removed]",
      "text/plain": [
       "<Figure size 432x288 with 1 Axes>"
      ]
     },
     "metadata": {},
     "output_type": "display_data"
    }
   ],
   "source": [
    "plt.hist(sample_diffs)\n",
    "plt.axvline(mean_diff, color = 'k')\n",
    "plt.title(f'p value: {np.round(counter / 10000, 3)}');"
   ]
  },
  {
   "cell_type": "markdown",
   "metadata": {},
   "source": [
    "## Conclusions, Business Recommendations & Future Work"
   ]
  },
  {
   "cell_type": "markdown",
   "metadata": {},
   "source": [
    "##### Conclusions\n",
    "EXPERIMENT 1\n",
    "- A Shapiro test and a Levene test were used to check normality and equal variance assumptions. The results from these tests along with the plotted histograms confirmed that the data did not come from a normal distribution \n",
    "- A Monte Carlo simulation was used to evaluate our hypothesis and ensure reliable results\n",
    "- P-value = 0.0, therefore we have significant evidence to reject H0\n",
    "- The conclusion of this experiment is that customers with more orders placed spend more than customers with less orders placed; nevertheless, an additional experiment was performed to ensure that these results were not influenced by the customer's first order date\n",
    "\n",
    "\n",
    "\n",
    "EXPERIMENT 2\n",
    "\n",
    "- An initial assumption was made for this experiment: 97% of the customers had placed an order by 07-2013, therefore we only considered orders placed after that date for experiment 2\n",
    "- A Shapiro test and a histogram were used to test normality on the samples. The tests showed that the normality assumption was not met, therefore a non-parametric hypothesis test was used for experiment 2.\n",
    "- A Monte Carlo simulation was used to evaluate our hypothesis and ensure reliable results\n",
    "- P-value = 0.23, therefore we do not have significant evidence to reject H0.\n",
    "- The conclusion of this experiment is that frequency of customer purchases does not have a significant influence in the sales amount of Northwind.  "
   ]
  },
  {
   "cell_type": "markdown",
   "metadata": {},
   "source": [
    "##### Business Recommendations\n",
    "- The same marketing scheme can be used for both high frequency and low frequency customers\n",
    "- Invest money on new customer on-boarding\n",
    "- Consider creating a strategy geared to drive customers to make larger orders rather than more frequent ones in order to decrease shipping costs and order handling costs"
   ]
  },
  {
   "cell_type": "markdown",
   "metadata": {},
   "source": [
    "##### Future Work\n",
    "- Study customer retention\n",
    "- Study what is the rate of growth in the number of new customers\n",
    "- Growth of new customers per office (USA vs UK). Confirm if there is an office getting significantly more new customers.\n",
    "- Study if discounted items campaigns affect customer frequency\n",
    "- Check if shipping costs and order handling costs are significantly different between high frequency purchase customers and low frequency purchase customers\n",
    "- Study the rate of purchases per customer"
   ]
  },
  {
   "cell_type": "markdown",
   "metadata": {},
   "source": [
    "# Hypothesis 2 - Which employees bring in more revenue? UK or USA?\n",
    "- $H_0: \\mu_1 = \\mu_2$ Sales amount is the same for USA and UK employees\n",
    "- $H_a: \\mu_1 > \\mu_2$ USA employees sales amount is higher than UK employees sales amount\n",
    "\n",
    "We will study the sales by employee country rather than by customer country. Our interest with this hypothesis will be confirming if office best practices affect customer interactions reflected in an increase of sales "
   ]
  },
  {
   "cell_type": "markdown",
   "metadata": {},
   "source": [
    "## Data Exploration"
   ]
  },
  {
   "cell_type": "code",
   "execution_count": 16,
   "metadata": {
    "collapsed": true
   },
   "outputs": [
    {
     "data": {
      "text/plain": [
       "[(0, 'Id', 'INTEGER', 0, None, 1),\n",
       " (1, 'LastName', 'VARCHAR(8000)', 0, None, 0),\n",
       " (2, 'FirstName', 'VARCHAR(8000)', 0, None, 0),\n",
       " (3, 'Title', 'VARCHAR(8000)', 0, None, 0),\n",
       " (4, 'TitleOfCourtesy', 'VARCHAR(8000)', 0, None, 0),\n",
       " (5, 'BirthDate', 'VARCHAR(8000)', 0, None, 0),\n",
       " (6, 'HireDate', 'VARCHAR(8000)', 0, None, 0),\n",
       " (7, 'Address', 'VARCHAR(8000)', 0, None, 0),\n",
       " (8, 'City', 'VARCHAR(8000)', 0, None, 0),\n",
       " (9, 'Region', 'VARCHAR(8000)', 0, None, 0),\n",
       " (10, 'PostalCode', 'VARCHAR(8000)', 0, None, 0),\n",
       " (11, 'Country', 'VARCHAR(8000)', 0, None, 0),\n",
       " (12, 'HomePhone', 'VARCHAR(8000)', 0, None, 0),\n",
       " (13, 'Extension', 'VARCHAR(8000)', 0, None, 0),\n",
       " (14, 'Photo', 'BLOB', 0, None, 0),\n",
       " (15, 'Notes', 'VARCHAR(8000)', 0, None, 0),\n",
       " (16, 'ReportsTo', 'INTEGER', 0, None, 0),\n",
       " (17, 'PhotoPath', 'VARCHAR(8000)', 0, None, 0)]"
      ]
     },
     "execution_count": 16,
     "metadata": {},
     "output_type": "execute_result"
    }
   ],
   "source": [
    "c.execute(\"PRAGMA table_info('Employee')\")\n",
    "c.fetchall()"
   ]
  },
  {
   "cell_type": "code",
   "execution_count": 151,
   "metadata": {},
   "outputs": [],
   "source": [
    "#Check the number of countries for employeeID 1\n",
    "dataEmp1 = pd.read_sql_query('''SELECT e.Id as 'EmployeeId', e.Country, c.Country\n",
    "                            FROM 'Employee' e\n",
    "                            JOIN 'Order' o ON e.Id = o.EmployeeId\n",
    "                            JOIN 'Customer' c ON c.Id = o.CustomerId\n",
    "                            WHERE e.Id = 1\n",
    "                            ;''', cnx)"
   ]
  },
  {
   "cell_type": "code",
   "execution_count": 152,
   "metadata": {
    "collapsed": true
   },
   "outputs": [
    {
     "data": {
      "text/html": [
       "<div>\n",
       "<style scoped>\n",
       "    .dataframe tbody tr th:only-of-type {\n",
       "        vertical-align: middle;\n",
       "    }\n",
       "\n",
       "    .dataframe tbody tr th {\n",
       "        vertical-align: top;\n",
       "    }\n",
       "\n",
       "    .dataframe thead th {\n",
       "        text-align: right;\n",
       "    }\n",
       "</style>\n",
       "<table border=\"1\" class=\"dataframe\">\n",
       "  <thead>\n",
       "    <tr style=\"text-align: right;\">\n",
       "      <th></th>\n",
       "      <th>EmployeeId</th>\n",
       "      <th>Country</th>\n",
       "      <th>Country</th>\n",
       "    </tr>\n",
       "  </thead>\n",
       "  <tbody>\n",
       "    <tr>\n",
       "      <th>0</th>\n",
       "      <td>1</td>\n",
       "      <td>USA</td>\n",
       "      <td>Austria</td>\n",
       "    </tr>\n",
       "    <tr>\n",
       "      <th>1</th>\n",
       "      <td>1</td>\n",
       "      <td>USA</td>\n",
       "      <td>Finland</td>\n",
       "    </tr>\n",
       "    <tr>\n",
       "      <th>2</th>\n",
       "      <td>1</td>\n",
       "      <td>USA</td>\n",
       "      <td>Italy</td>\n",
       "    </tr>\n",
       "    <tr>\n",
       "      <th>3</th>\n",
       "      <td>1</td>\n",
       "      <td>USA</td>\n",
       "      <td>Germany</td>\n",
       "    </tr>\n",
       "    <tr>\n",
       "      <th>4</th>\n",
       "      <td>1</td>\n",
       "      <td>USA</td>\n",
       "      <td>Brazil</td>\n",
       "    </tr>\n",
       "    <tr>\n",
       "      <th>5</th>\n",
       "      <td>1</td>\n",
       "      <td>USA</td>\n",
       "      <td>Mexico</td>\n",
       "    </tr>\n",
       "    <tr>\n",
       "      <th>6</th>\n",
       "      <td>1</td>\n",
       "      <td>USA</td>\n",
       "      <td>Mexico</td>\n",
       "    </tr>\n",
       "    <tr>\n",
       "      <th>7</th>\n",
       "      <td>1</td>\n",
       "      <td>USA</td>\n",
       "      <td>Spain</td>\n",
       "    </tr>\n",
       "    <tr>\n",
       "      <th>8</th>\n",
       "      <td>1</td>\n",
       "      <td>USA</td>\n",
       "      <td>USA</td>\n",
       "    </tr>\n",
       "    <tr>\n",
       "      <th>9</th>\n",
       "      <td>1</td>\n",
       "      <td>USA</td>\n",
       "      <td>USA</td>\n",
       "    </tr>\n",
       "    <tr>\n",
       "      <th>10</th>\n",
       "      <td>1</td>\n",
       "      <td>USA</td>\n",
       "      <td>Germany</td>\n",
       "    </tr>\n",
       "    <tr>\n",
       "      <th>11</th>\n",
       "      <td>1</td>\n",
       "      <td>USA</td>\n",
       "      <td>France</td>\n",
       "    </tr>\n",
       "    <tr>\n",
       "      <th>12</th>\n",
       "      <td>1</td>\n",
       "      <td>USA</td>\n",
       "      <td>Austria</td>\n",
       "    </tr>\n",
       "    <tr>\n",
       "      <th>13</th>\n",
       "      <td>1</td>\n",
       "      <td>USA</td>\n",
       "      <td>Venezuela</td>\n",
       "    </tr>\n",
       "    <tr>\n",
       "      <th>14</th>\n",
       "      <td>1</td>\n",
       "      <td>USA</td>\n",
       "      <td>Germany</td>\n",
       "    </tr>\n",
       "    <tr>\n",
       "      <th>15</th>\n",
       "      <td>1</td>\n",
       "      <td>USA</td>\n",
       "      <td>UK</td>\n",
       "    </tr>\n",
       "    <tr>\n",
       "      <th>16</th>\n",
       "      <td>1</td>\n",
       "      <td>USA</td>\n",
       "      <td>France</td>\n",
       "    </tr>\n",
       "    <tr>\n",
       "      <th>17</th>\n",
       "      <td>1</td>\n",
       "      <td>USA</td>\n",
       "      <td>Poland</td>\n",
       "    </tr>\n",
       "    <tr>\n",
       "      <th>18</th>\n",
       "      <td>1</td>\n",
       "      <td>USA</td>\n",
       "      <td>Canada</td>\n",
       "    </tr>\n",
       "    <tr>\n",
       "      <th>19</th>\n",
       "      <td>1</td>\n",
       "      <td>USA</td>\n",
       "      <td>UK</td>\n",
       "    </tr>\n",
       "  </tbody>\n",
       "</table>\n",
       "</div>"
      ],
      "text/plain": [
       "    EmployeeId Country    Country\n",
       "0            1     USA    Austria\n",
       "1            1     USA    Finland\n",
       "2            1     USA      Italy\n",
       "3            1     USA    Germany\n",
       "4            1     USA     Brazil\n",
       "5            1     USA     Mexico\n",
       "6            1     USA     Mexico\n",
       "7            1     USA      Spain\n",
       "8            1     USA        USA\n",
       "9            1     USA        USA\n",
       "10           1     USA    Germany\n",
       "11           1     USA     France\n",
       "12           1     USA    Austria\n",
       "13           1     USA  Venezuela\n",
       "14           1     USA    Germany\n",
       "15           1     USA         UK\n",
       "16           1     USA     France\n",
       "17           1     USA     Poland\n",
       "18           1     USA     Canada\n",
       "19           1     USA         UK"
      ]
     },
     "execution_count": 152,
     "metadata": {},
     "output_type": "execute_result"
    }
   ],
   "source": [
    "dataEmp1.head(20)"
   ]
  },
  {
   "cell_type": "code",
   "execution_count": 280,
   "metadata": {},
   "outputs": [],
   "source": [
    "#Check the number of unique countries each employee handles \n",
    "dataEmpId = pd.read_sql_query('''SELECT e.Id as 'EmployeeId', e.Country,\n",
    "                            COUNT (DISTINCT c.Country) as 'Customer_Countries_Count'\n",
    "                            FROM 'Employee' e\n",
    "                            JOIN 'Order' o ON e.Id = o.EmployeeId\n",
    "                            JOIN 'Customer' c ON c.Id = o.CustomerId\n",
    "                            GROUP BY e.Id\n",
    "                            ;''', cnx)"
   ]
  },
  {
   "cell_type": "code",
   "execution_count": 273,
   "metadata": {},
   "outputs": [
    {
     "data": {
      "text/html": [
       "<div>\n",
       "<style scoped>\n",
       "    .dataframe tbody tr th:only-of-type {\n",
       "        vertical-align: middle;\n",
       "    }\n",
       "\n",
       "    .dataframe tbody tr th {\n",
       "        vertical-align: top;\n",
       "    }\n",
       "\n",
       "    .dataframe thead th {\n",
       "        text-align: right;\n",
       "    }\n",
       "</style>\n",
       "<table border=\"1\" class=\"dataframe\">\n",
       "  <thead>\n",
       "    <tr style=\"text-align: right;\">\n",
       "      <th></th>\n",
       "      <th>EmployeeId</th>\n",
       "      <th>Country</th>\n",
       "      <th>Customer Countries</th>\n",
       "    </tr>\n",
       "  </thead>\n",
       "  <tbody>\n",
       "    <tr>\n",
       "      <th>0</th>\n",
       "      <td>1</td>\n",
       "      <td>USA</td>\n",
       "      <td>21</td>\n",
       "    </tr>\n",
       "    <tr>\n",
       "      <th>1</th>\n",
       "      <td>2</td>\n",
       "      <td>USA</td>\n",
       "      <td>18</td>\n",
       "    </tr>\n",
       "  </tbody>\n",
       "</table>\n",
       "</div>"
      ],
      "text/plain": [
       "   EmployeeId Country  Customer Countries\n",
       "0           1     USA                  21\n",
       "1           2     USA                  18"
      ]
     },
     "execution_count": 273,
     "metadata": {},
     "output_type": "execute_result"
    }
   ],
   "source": [
    "dataEmpId.head(2)"
   ]
  },
  {
   "cell_type": "code",
   "execution_count": 282,
   "metadata": {},
   "outputs": [
    {
     "name": "stdout",
     "output_type": "stream",
     "text": [
      "19.4\n",
      "17.25\n"
     ]
    }
   ],
   "source": [
    "#Check mean number of customers per Employee Office\n",
    "USA = dataEmpId.loc[dataEmpId['Country'] == 'USA']\n",
    "UK = dataEmpId.loc[dataEmpId['Country'] == 'UK']\n",
    "print(USA['Customer_Countries_Count'].mean())\n",
    "print(UK['Customer_Countries_Count'].mean())\n"
   ]
  },
  {
   "cell_type": "code",
   "execution_count": 289,
   "metadata": {},
   "outputs": [
    {
     "data": {
      "image/png": "[encoded data removed]",
      "text/plain": [
       "<Figure size 216x288 with 1 Axes>"
      ]
     },
     "metadata": {},
     "output_type": "display_data"
    }
   ],
   "source": [
    "#Visualize the mean number of customers per office\n",
    "plt.figure(figsize=(3,4))\n",
    "ax = sns.barplot(x=\"Country\", y=\"Customer_Countries_Count\", data=dataEmpId)"
   ]
  },
  {
   "cell_type": "code",
   "execution_count": 266,
   "metadata": {},
   "outputs": [],
   "source": [
    "#Visualize the number of employees per country\n",
    "#Divide the countries by UK vs USA employees\n",
    "dataCountryEmpl = pd.read_sql_query('''SELECT e.Country as 'Employee_Country', c.Country as 'Customer_Country',\n",
    "                            COUNT (DISTINCT e.Id) as 'Employee_Count'\n",
    "                            FROM 'Employee' e\n",
    "                            JOIN 'Order' o ON e.Id = o.EmployeeId\n",
    "                            JOIN 'Customer' c ON c.Id = o.CustomerId\n",
    "                            GROUP BY e.Country, c.Country\n",
    "                            ;''', cnx)"
   ]
  },
  {
   "cell_type": "code",
   "execution_count": 267,
   "metadata": {
    "collapsed": true
   },
   "outputs": [
    {
     "data": {
      "text/html": [
       "<div>\n",
       "<style scoped>\n",
       "    .dataframe tbody tr th:only-of-type {\n",
       "        vertical-align: middle;\n",
       "    }\n",
       "\n",
       "    .dataframe tbody tr th {\n",
       "        vertical-align: top;\n",
       "    }\n",
       "\n",
       "    .dataframe thead th {\n",
       "        text-align: right;\n",
       "    }\n",
       "</style>\n",
       "<table border=\"1\" class=\"dataframe\">\n",
       "  <thead>\n",
       "    <tr style=\"text-align: right;\">\n",
       "      <th></th>\n",
       "      <th>Employee_Country</th>\n",
       "      <th>Customer_Country</th>\n",
       "      <th>Employee_Count</th>\n",
       "    </tr>\n",
       "  </thead>\n",
       "  <tbody>\n",
       "    <tr>\n",
       "      <th>0</th>\n",
       "      <td>UK</td>\n",
       "      <td>Argentina</td>\n",
       "      <td>3</td>\n",
       "    </tr>\n",
       "    <tr>\n",
       "      <th>1</th>\n",
       "      <td>UK</td>\n",
       "      <td>Austria</td>\n",
       "      <td>3</td>\n",
       "    </tr>\n",
       "    <tr>\n",
       "      <th>2</th>\n",
       "      <td>UK</td>\n",
       "      <td>Belgium</td>\n",
       "      <td>4</td>\n",
       "    </tr>\n",
       "  </tbody>\n",
       "</table>\n",
       "</div>"
      ],
      "text/plain": [
       "  Employee_Country Customer_Country  Employee_Count\n",
       "0               UK        Argentina               3\n",
       "1               UK          Austria               3\n",
       "2               UK          Belgium               4"
      ]
     },
     "execution_count": 267,
     "metadata": {},
     "output_type": "execute_result"
    }
   ],
   "source": [
    "dataCountryEmpl.head(3)"
   ]
  },
  {
   "cell_type": "code",
   "execution_count": 271,
   "metadata": {
    "scrolled": false
   },
   "outputs": [
    {
     "data": {
      "image/png": "[encoded data removed]",
      "text/plain": [
       "<Figure size 1296x288 with 1 Axes>"
      ]
     },
     "metadata": {},
     "output_type": "display_data"
    }
   ],
   "source": [
    "sns.set(color_codes=True)\n",
    "# sns.set(style=\"whitegrid\")\n",
    "plt.figure(figsize=(18,4))\n",
    "ax = sns.barplot(x=\"Customer_Country\", y=\"Employee_Count\", hue=\"Employee_Country\", data=dataCountryEmpl)"
   ]
  },
  {
   "cell_type": "markdown",
   "metadata": {},
   "source": [
    "> As you can see from the graph, both USA and UK offices work with all of the countries Northwind provides services to. We will investigate forward to see if there is a significant difference between office best practices that directly affect sales."
   ]
  },
  {
   "cell_type": "code",
   "execution_count": 158,
   "metadata": {},
   "outputs": [],
   "source": [
    "#Create DataFrame for Hypothesis 2\n",
    "#After visualizing the spread of countries between employees from USA and UK we will analize the difference in sales\n",
    "#between employee country\n",
    "dataUSUK = pd.read_sql_query('''SELECT e.Id as 'EmployeeId', e.Country, \n",
    "                            SUM((od.UnitPrice * od.Quantity) - (od.UnitPrice * od.Quantity * od.Discount )) as 'TotalAmount'\n",
    "                            FROM 'Employee' e\n",
    "                            JOIN 'Order' o ON e.Id = o.EmployeeId\n",
    "                            JOIN 'OrderDetail' od ON o.Id = od.OrderId\n",
    "                            GROUP BY e.Id\n",
    "                            ;''', cnx)"
   ]
  },
  {
   "cell_type": "code",
   "execution_count": 159,
   "metadata": {
    "collapsed": true
   },
   "outputs": [
    {
     "data": {
      "text/html": [
       "<div>\n",
       "<style scoped>\n",
       "    .dataframe tbody tr th:only-of-type {\n",
       "        vertical-align: middle;\n",
       "    }\n",
       "\n",
       "    .dataframe tbody tr th {\n",
       "        vertical-align: top;\n",
       "    }\n",
       "\n",
       "    .dataframe thead th {\n",
       "        text-align: right;\n",
       "    }\n",
       "</style>\n",
       "<table border=\"1\" class=\"dataframe\">\n",
       "  <thead>\n",
       "    <tr style=\"text-align: right;\">\n",
       "      <th></th>\n",
       "      <th>EmployeeId</th>\n",
       "      <th>Country</th>\n",
       "      <th>TotalAmount</th>\n",
       "    </tr>\n",
       "  </thead>\n",
       "  <tbody>\n",
       "    <tr>\n",
       "      <th>0</th>\n",
       "      <td>1</td>\n",
       "      <td>USA</td>\n",
       "      <td>192107.6045</td>\n",
       "    </tr>\n",
       "    <tr>\n",
       "      <th>1</th>\n",
       "      <td>2</td>\n",
       "      <td>USA</td>\n",
       "      <td>166537.7550</td>\n",
       "    </tr>\n",
       "    <tr>\n",
       "      <th>2</th>\n",
       "      <td>3</td>\n",
       "      <td>USA</td>\n",
       "      <td>202812.8430</td>\n",
       "    </tr>\n",
       "    <tr>\n",
       "      <th>3</th>\n",
       "      <td>4</td>\n",
       "      <td>USA</td>\n",
       "      <td>232890.8460</td>\n",
       "    </tr>\n",
       "    <tr>\n",
       "      <th>4</th>\n",
       "      <td>5</td>\n",
       "      <td>UK</td>\n",
       "      <td>68792.2825</td>\n",
       "    </tr>\n",
       "  </tbody>\n",
       "</table>\n",
       "</div>"
      ],
      "text/plain": [
       "   EmployeeId Country  TotalAmount\n",
       "0           1     USA  192107.6045\n",
       "1           2     USA  166537.7550\n",
       "2           3     USA  202812.8430\n",
       "3           4     USA  232890.8460\n",
       "4           5      UK   68792.2825"
      ]
     },
     "execution_count": 159,
     "metadata": {},
     "output_type": "execute_result"
    }
   ],
   "source": [
    "dataUSUK.head()"
   ]
  },
  {
   "cell_type": "code",
   "execution_count": 160,
   "metadata": {},
   "outputs": [
    {
     "data": {
      "text/plain": [
       "USA    5\n",
       "UK     4\n",
       "Name: Country, dtype: int64"
      ]
     },
     "execution_count": 160,
     "metadata": {},
     "output_type": "execute_result"
    }
   ],
   "source": [
    "dataUSUK['Country'].value_counts()"
   ]
  },
  {
   "cell_type": "code",
   "execution_count": 161,
   "metadata": {},
   "outputs": [],
   "source": [
    "#create specific dataframes for each country\n",
    "dfUSA = dataUSUK.loc[dataUSUK['Country'] == 'USA']\n",
    "dfUK = dataUSUK.loc[dataUSUK['Country'] == 'UK']"
   ]
  },
  {
   "cell_type": "markdown",
   "metadata": {},
   "source": [
    "##### Histogram to check normality"
   ]
  },
  {
   "cell_type": "code",
   "execution_count": 42,
   "metadata": {
    "scrolled": true
   },
   "outputs": [
    {
     "data": {
      "image/png": "[encoded data removed]",
      "text/plain": [
       "<Figure size 576x360 with 2 Axes>"
      ]
     },
     "metadata": {
      "needs_background": "light"
     },
     "output_type": "display_data"
    }
   ],
   "source": [
    "#Check normality in data\n",
    "fig, (ax1, ax2) = plt.subplots(1,2,figsize=(8,5))\n",
    "\n",
    "ax1.hist(dfUK['TotalAmount'], color='b', alpha=0.7, label='UK Employees')\n",
    "ax1.set_xlabel('\\nTotal Amount - UK Employees', fontweight='bold')\n",
    "ax1.set_ylabel('Num of Customers\\n')\n",
    "ax1.legend()\n",
    "\n",
    "ax2.hist(dfUSA['TotalAmount'], color='r', alpha=0.7, label='USA Employees')\n",
    "ax2.set_xlabel('\\nTotal Amount - UK Employees', fontweight='bold')\n",
    "ax2.legend();"
   ]
  },
  {
   "cell_type": "markdown",
   "metadata": {},
   "source": [
    "##### Shapiro test to check normality\n",
    "- H0: distribution is normal\n",
    "- Ha: distribution is not normal"
   ]
  },
  {
   "cell_type": "code",
   "execution_count": 43,
   "metadata": {},
   "outputs": [
    {
     "name": "stdout",
     "output_type": "stream",
     "text": [
      "(0.7545575499534607, 0.042571838945150375) (0.9839245080947876, 0.9544581174850464)\n"
     ]
    }
   ],
   "source": [
    "print(scs.shapiro(dfUK['TotalAmount']), scs.shapiro(dfUSA['TotalAmount']))"
   ]
  },
  {
   "cell_type": "markdown",
   "metadata": {},
   "source": [
    "> dfUK has a p-value of 0.04, therefore we nahe enough evidence to reject H0 (dfUK does NOT come from a normal distribution). We will use a non-parametric test"
   ]
  },
  {
   "cell_type": "markdown",
   "metadata": {},
   "source": [
    "## Monte Carlo Simulation"
   ]
  },
  {
   "cell_type": "markdown",
   "metadata": {},
   "source": [
    "**After inspection of the sample distributions we determined that a non-parametric method will be used since the sample distributions do not comply with the normality assumption.**"
   ]
  },
  {
   "cell_type": "code",
   "execution_count": 45,
   "metadata": {},
   "outputs": [
    {
     "data": {
      "text/plain": [
       "98096.83682499999"
      ]
     },
     "execution_count": 45,
     "metadata": {},
     "output_type": "execute_result"
    }
   ],
   "source": [
    "#get the mean difference \n",
    "mean_diff = dfUSA['TotalAmount'].mean() - dfUK['TotalAmount'].mean()\n",
    "mean_diff"
   ]
  },
  {
   "cell_type": "code",
   "execution_count": 47,
   "metadata": {},
   "outputs": [],
   "source": [
    "#Monte Carlo Simulation\n",
    "sample_diffs = []\n",
    "counter = 0\n",
    "\n",
    "for i in range(10000):\n",
    "    sampleUSA = data4.sample(replace=False, n=len(dfUSA['TotalAmount']))\n",
    "    sampleUK = data4.drop(sampleUSA.index, axis=0)\n",
    "    sample_diff = sampleUSA['TotalAmount'].mean() - sampleUK['TotalAmount'].mean()\n",
    "    sample_diffs.append(sample_diff)\n",
    "    if sample_diff > mean_diff:\n",
    "        counter += 1"
   ]
  },
  {
   "cell_type": "code",
   "execution_count": 48,
   "metadata": {
    "scrolled": false
   },
   "outputs": [
    {
     "data": {
      "image/png": "[encoded data removed]",
      "text/plain": [
       "<Figure size 432x288 with 1 Axes>"
      ]
     },
     "metadata": {
      "needs_background": "light"
     },
     "output_type": "display_data"
    }
   ],
   "source": [
    "plt.hist(sample_diffs)\n",
    "plt.axvline(mean_diff, color = 'k')\n",
    "plt.title(f'p value: {np.round(counter / 10000, 3)}');"
   ]
  },
  {
   "cell_type": "markdown",
   "metadata": {},
   "source": [
    "## Conclusions, Business Recommendations & Future Work"
   ]
  },
  {
   "cell_type": "markdown",
   "metadata": {},
   "source": [
    "##### Conclusions\n",
    "- A Shapiro test and a histogram were used to test normality on the samples. The tests showed that the normality assumption was not met, therefore a non-parametric hypothesis test was used for this experiment.\n",
    "- A Monte Carlo simulation was used to evaluate our hypothesis and ensure reliable results\n",
    "- P-value = 0.05, therefore we do have significant evidence to reject H0.\n",
    "- The conclusion of this experiment is that customers that work with USA employees significantly bring more sales to Northwind that the customers that work with UK employees"
   ]
  },
  {
   "cell_type": "markdown",
   "metadata": {},
   "source": [
    "##### Business Recommendations\n",
    "- Identify the best practices USA employees are using to drive higher sales and leverage those in the UK\n",
    "- Investigate why there is a difference between the mean number of customers USA employees and UK employees work with\n",
    "- Further investgate the customer profiles to target an increase in sales"
   ]
  },
  {
   "cell_type": "markdown",
   "metadata": {},
   "source": [
    "##### Future Work\n",
    "- Further investigate each customer and create profiles for them based on sales and product purchases\n",
    "- Check if there are significant differences in sales between customers from the same country in order to evaluate the possibility of target marketing campaigns"
   ]
  },
  {
   "cell_type": "markdown",
   "metadata": {},
   "source": [
    "# Hypothesis 3 - Are PId60* and PId71* usually purchased together?\n",
    "- H0: PId60 mean units sold when PId71 is purchased =< PId60 mean units sold when PId71 is NOT purchased (difference between means = zero)\n",
    "\n",
    "> $H_0: \\mu_d =< 0$\n",
    "\n",
    "- Ha: PId60 mean units sold when PId71 is purchased > PId60 mean units sold when PId71 is NOT purchased\n",
    "\n",
    "> $H_a:  \\mu_d > 0$\n",
    "\n",
    "\n",
    "- PId = Product Id*\n",
    "- Since I specify the direction of the difference, it's a **one-tailed** test\n",
    "- PId60 is the best seller of Northwind\n",
    "- PId71 is the best seller among orders that contain PId60\n",
    "- Population for this test is all orders that contain PId60"
   ]
  },
  {
   "cell_type": "markdown",
   "metadata": {},
   "source": [
    "## Data Exploration"
   ]
  },
  {
   "cell_type": "code",
   "execution_count": 86,
   "metadata": {},
   "outputs": [],
   "source": [
    "#Find out what the best seller product is\n",
    "dfBestSeller = pd.read_sql_query('''SELECT od.ProductId, p.ProductName, p.CategoryId, c.CategoryName, \n",
    "                            SUM(od.Quantity) as 'UnitsSold'\n",
    "                            FROM 'OrderDetail' od\n",
    "                            JOIN 'Product' p ON p.Id = od.ProductId\n",
    "                            JOIN 'Category' c ON c.Id = p.CategoryId\n",
    "                            GROUP BY od.ProductId\n",
    "                            ;''', cnx)"
   ]
  },
  {
   "cell_type": "code",
   "execution_count": 87,
   "metadata": {
    "collapsed": true
   },
   "outputs": [
    {
     "data": {
      "text/html": [
       "<div>\n",
       "<style scoped>\n",
       "    .dataframe tbody tr th:only-of-type {\n",
       "        vertical-align: middle;\n",
       "    }\n",
       "\n",
       "    .dataframe tbody tr th {\n",
       "        vertical-align: top;\n",
       "    }\n",
       "\n",
       "    .dataframe thead th {\n",
       "        text-align: right;\n",
       "    }\n",
       "</style>\n",
       "<table border=\"1\" class=\"dataframe\">\n",
       "  <thead>\n",
       "    <tr style=\"text-align: right;\">\n",
       "      <th></th>\n",
       "      <th>ProductId</th>\n",
       "      <th>ProductName</th>\n",
       "      <th>CategoryId</th>\n",
       "      <th>CategoryName</th>\n",
       "      <th>UnitsSold</th>\n",
       "    </tr>\n",
       "  </thead>\n",
       "  <tbody>\n",
       "    <tr>\n",
       "      <th>59</th>\n",
       "      <td>60</td>\n",
       "      <td>Camembert Pierrot</td>\n",
       "      <td>4</td>\n",
       "      <td>Dairy Products</td>\n",
       "      <td>1577</td>\n",
       "    </tr>\n",
       "    <tr>\n",
       "      <th>58</th>\n",
       "      <td>59</td>\n",
       "      <td>Raclette Courdavault</td>\n",
       "      <td>4</td>\n",
       "      <td>Dairy Products</td>\n",
       "      <td>1496</td>\n",
       "    </tr>\n",
       "    <tr>\n",
       "      <th>30</th>\n",
       "      <td>31</td>\n",
       "      <td>Gorgonzola Telino</td>\n",
       "      <td>4</td>\n",
       "      <td>Dairy Products</td>\n",
       "      <td>1397</td>\n",
       "    </tr>\n",
       "    <tr>\n",
       "      <th>55</th>\n",
       "      <td>56</td>\n",
       "      <td>Gnocchi di nonna Alice</td>\n",
       "      <td>5</td>\n",
       "      <td>Grains/Cereals</td>\n",
       "      <td>1263</td>\n",
       "    </tr>\n",
       "    <tr>\n",
       "      <th>15</th>\n",
       "      <td>16</td>\n",
       "      <td>Pavlova</td>\n",
       "      <td>3</td>\n",
       "      <td>Confections</td>\n",
       "      <td>1158</td>\n",
       "    </tr>\n",
       "    <tr>\n",
       "      <th>74</th>\n",
       "      <td>75</td>\n",
       "      <td>Rhönbräu Klosterbier</td>\n",
       "      <td>1</td>\n",
       "      <td>Beverages</td>\n",
       "      <td>1155</td>\n",
       "    </tr>\n",
       "    <tr>\n",
       "      <th>23</th>\n",
       "      <td>24</td>\n",
       "      <td>Guaraná Fantástica</td>\n",
       "      <td>1</td>\n",
       "      <td>Beverages</td>\n",
       "      <td>1125</td>\n",
       "    </tr>\n",
       "    <tr>\n",
       "      <th>39</th>\n",
       "      <td>40</td>\n",
       "      <td>Boston Crab Meat</td>\n",
       "      <td>8</td>\n",
       "      <td>Seafood</td>\n",
       "      <td>1103</td>\n",
       "    </tr>\n",
       "    <tr>\n",
       "      <th>61</th>\n",
       "      <td>62</td>\n",
       "      <td>Tarte au sucre</td>\n",
       "      <td>3</td>\n",
       "      <td>Confections</td>\n",
       "      <td>1083</td>\n",
       "    </tr>\n",
       "    <tr>\n",
       "      <th>70</th>\n",
       "      <td>71</td>\n",
       "      <td>Flotemysost</td>\n",
       "      <td>4</td>\n",
       "      <td>Dairy Products</td>\n",
       "      <td>1057</td>\n",
       "    </tr>\n",
       "    <tr>\n",
       "      <th>1</th>\n",
       "      <td>2</td>\n",
       "      <td>Chang</td>\n",
       "      <td>1</td>\n",
       "      <td>Beverages</td>\n",
       "      <td>1057</td>\n",
       "    </tr>\n",
       "    <tr>\n",
       "      <th>20</th>\n",
       "      <td>21</td>\n",
       "      <td>Sir Rodney's Scones</td>\n",
       "      <td>3</td>\n",
       "      <td>Confections</td>\n",
       "      <td>1016</td>\n",
       "    </tr>\n",
       "    <tr>\n",
       "      <th>75</th>\n",
       "      <td>76</td>\n",
       "      <td>Lakkalikööri</td>\n",
       "      <td>1</td>\n",
       "      <td>Beverages</td>\n",
       "      <td>981</td>\n",
       "    </tr>\n",
       "    <tr>\n",
       "      <th>40</th>\n",
       "      <td>41</td>\n",
       "      <td>Jack's New England Clam Chowder</td>\n",
       "      <td>8</td>\n",
       "      <td>Seafood</td>\n",
       "      <td>981</td>\n",
       "    </tr>\n",
       "    <tr>\n",
       "      <th>16</th>\n",
       "      <td>17</td>\n",
       "      <td>Alice Mutton</td>\n",
       "      <td>6</td>\n",
       "      <td>Meat/Poultry</td>\n",
       "      <td>978</td>\n",
       "    </tr>\n",
       "    <tr>\n",
       "      <th>54</th>\n",
       "      <td>55</td>\n",
       "      <td>Pâté chinois</td>\n",
       "      <td>6</td>\n",
       "      <td>Meat/Poultry</td>\n",
       "      <td>903</td>\n",
       "    </tr>\n",
       "    <tr>\n",
       "      <th>12</th>\n",
       "      <td>13</td>\n",
       "      <td>Konbu</td>\n",
       "      <td>8</td>\n",
       "      <td>Seafood</td>\n",
       "      <td>891</td>\n",
       "    </tr>\n",
       "    <tr>\n",
       "      <th>50</th>\n",
       "      <td>51</td>\n",
       "      <td>Manjimup Dried Apples</td>\n",
       "      <td>7</td>\n",
       "      <td>Produce</td>\n",
       "      <td>886</td>\n",
       "    </tr>\n",
       "    <tr>\n",
       "      <th>34</th>\n",
       "      <td>35</td>\n",
       "      <td>Steeleye Stout</td>\n",
       "      <td>1</td>\n",
       "      <td>Beverages</td>\n",
       "      <td>883</td>\n",
       "    </tr>\n",
       "    <tr>\n",
       "      <th>0</th>\n",
       "      <td>1</td>\n",
       "      <td>Chai</td>\n",
       "      <td>1</td>\n",
       "      <td>Beverages</td>\n",
       "      <td>828</td>\n",
       "    </tr>\n",
       "    <tr>\n",
       "      <th>69</th>\n",
       "      <td>70</td>\n",
       "      <td>Outback Lager</td>\n",
       "      <td>1</td>\n",
       "      <td>Beverages</td>\n",
       "      <td>817</td>\n",
       "    </tr>\n",
       "    <tr>\n",
       "      <th>71</th>\n",
       "      <td>72</td>\n",
       "      <td>Mozzarella di Giovanni</td>\n",
       "      <td>4</td>\n",
       "      <td>Dairy Products</td>\n",
       "      <td>806</td>\n",
       "    </tr>\n",
       "    <tr>\n",
       "      <th>35</th>\n",
       "      <td>36</td>\n",
       "      <td>Inlagd Sill</td>\n",
       "      <td>8</td>\n",
       "      <td>Seafood</td>\n",
       "      <td>805</td>\n",
       "    </tr>\n",
       "    <tr>\n",
       "      <th>67</th>\n",
       "      <td>68</td>\n",
       "      <td>Scottish Longbreads</td>\n",
       "      <td>3</td>\n",
       "      <td>Confections</td>\n",
       "      <td>799</td>\n",
       "    </tr>\n",
       "    <tr>\n",
       "      <th>38</th>\n",
       "      <td>39</td>\n",
       "      <td>Chartreuse verte</td>\n",
       "      <td>1</td>\n",
       "      <td>Beverages</td>\n",
       "      <td>793</td>\n",
       "    </tr>\n",
       "    <tr>\n",
       "      <th>76</th>\n",
       "      <td>77</td>\n",
       "      <td>Original Frankfurter grüne Soße</td>\n",
       "      <td>2</td>\n",
       "      <td>Condiments</td>\n",
       "      <td>791</td>\n",
       "    </tr>\n",
       "    <tr>\n",
       "      <th>6</th>\n",
       "      <td>7</td>\n",
       "      <td>Uncle Bob's Organic Dried Pears</td>\n",
       "      <td>7</td>\n",
       "      <td>Produce</td>\n",
       "      <td>763</td>\n",
       "    </tr>\n",
       "    <tr>\n",
       "      <th>32</th>\n",
       "      <td>33</td>\n",
       "      <td>Geitost</td>\n",
       "      <td>4</td>\n",
       "      <td>Dairy Products</td>\n",
       "      <td>755</td>\n",
       "    </tr>\n",
       "    <tr>\n",
       "      <th>53</th>\n",
       "      <td>54</td>\n",
       "      <td>Tourtière</td>\n",
       "      <td>6</td>\n",
       "      <td>Meat/Poultry</td>\n",
       "      <td>755</td>\n",
       "    </tr>\n",
       "    <tr>\n",
       "      <th>25</th>\n",
       "      <td>26</td>\n",
       "      <td>Gumbär Gummibärchen</td>\n",
       "      <td>3</td>\n",
       "      <td>Confections</td>\n",
       "      <td>753</td>\n",
       "    </tr>\n",
       "    <tr>\n",
       "      <th>...</th>\n",
       "      <td>...</td>\n",
       "      <td>...</td>\n",
       "      <td>...</td>\n",
       "      <td>...</td>\n",
       "      <td>...</td>\n",
       "    </tr>\n",
       "    <tr>\n",
       "      <th>17</th>\n",
       "      <td>18</td>\n",
       "      <td>Carnarvon Tigers</td>\n",
       "      <td>8</td>\n",
       "      <td>Seafood</td>\n",
       "      <td>539</td>\n",
       "    </tr>\n",
       "    <tr>\n",
       "      <th>57</th>\n",
       "      <td>58</td>\n",
       "      <td>Escargots de Bourgogne</td>\n",
       "      <td>8</td>\n",
       "      <td>Seafood</td>\n",
       "      <td>534</td>\n",
       "    </tr>\n",
       "    <tr>\n",
       "      <th>48</th>\n",
       "      <td>49</td>\n",
       "      <td>Maxilaku</td>\n",
       "      <td>3</td>\n",
       "      <td>Confections</td>\n",
       "      <td>520</td>\n",
       "    </tr>\n",
       "    <tr>\n",
       "      <th>44</th>\n",
       "      <td>45</td>\n",
       "      <td>Rogede sild</td>\n",
       "      <td>8</td>\n",
       "      <td>Seafood</td>\n",
       "      <td>508</td>\n",
       "    </tr>\n",
       "    <tr>\n",
       "      <th>33</th>\n",
       "      <td>34</td>\n",
       "      <td>Sasquatch Ale</td>\n",
       "      <td>1</td>\n",
       "      <td>Beverages</td>\n",
       "      <td>506</td>\n",
       "    </tr>\n",
       "    <tr>\n",
       "      <th>51</th>\n",
       "      <td>52</td>\n",
       "      <td>Filo Mix</td>\n",
       "      <td>5</td>\n",
       "      <td>Grains/Cereals</td>\n",
       "      <td>500</td>\n",
       "    </tr>\n",
       "    <tr>\n",
       "      <th>46</th>\n",
       "      <td>47</td>\n",
       "      <td>Zaanse koeken</td>\n",
       "      <td>3</td>\n",
       "      <td>Confections</td>\n",
       "      <td>485</td>\n",
       "    </tr>\n",
       "    <tr>\n",
       "      <th>3</th>\n",
       "      <td>4</td>\n",
       "      <td>Chef Anton's Cajun Seasoning</td>\n",
       "      <td>2</td>\n",
       "      <td>Condiments</td>\n",
       "      <td>453</td>\n",
       "    </tr>\n",
       "    <tr>\n",
       "      <th>62</th>\n",
       "      <td>63</td>\n",
       "      <td>Vegie-spread</td>\n",
       "      <td>2</td>\n",
       "      <td>Condiments</td>\n",
       "      <td>445</td>\n",
       "    </tr>\n",
       "    <tr>\n",
       "      <th>56</th>\n",
       "      <td>57</td>\n",
       "      <td>Ravioli Angelo</td>\n",
       "      <td>5</td>\n",
       "      <td>Grains/Cereals</td>\n",
       "      <td>434</td>\n",
       "    </tr>\n",
       "    <tr>\n",
       "      <th>13</th>\n",
       "      <td>14</td>\n",
       "      <td>Tofu</td>\n",
       "      <td>7</td>\n",
       "      <td>Produce</td>\n",
       "      <td>404</td>\n",
       "    </tr>\n",
       "    <tr>\n",
       "      <th>7</th>\n",
       "      <td>8</td>\n",
       "      <td>Northwoods Cranberry Sauce</td>\n",
       "      <td>2</td>\n",
       "      <td>Condiments</td>\n",
       "      <td>372</td>\n",
       "    </tr>\n",
       "    <tr>\n",
       "      <th>26</th>\n",
       "      <td>27</td>\n",
       "      <td>Schoggi Schokolade</td>\n",
       "      <td>3</td>\n",
       "      <td>Confections</td>\n",
       "      <td>365</td>\n",
       "    </tr>\n",
       "    <tr>\n",
       "      <th>21</th>\n",
       "      <td>22</td>\n",
       "      <td>Gustaf's Knäckebröd</td>\n",
       "      <td>5</td>\n",
       "      <td>Grains/Cereals</td>\n",
       "      <td>348</td>\n",
       "    </tr>\n",
       "    <tr>\n",
       "      <th>11</th>\n",
       "      <td>12</td>\n",
       "      <td>Queso Manchego La Pastora</td>\n",
       "      <td>4</td>\n",
       "      <td>Dairy Products</td>\n",
       "      <td>344</td>\n",
       "    </tr>\n",
       "    <tr>\n",
       "      <th>2</th>\n",
       "      <td>3</td>\n",
       "      <td>Aniseed Syrup</td>\n",
       "      <td>2</td>\n",
       "      <td>Condiments</td>\n",
       "      <td>328</td>\n",
       "    </tr>\n",
       "    <tr>\n",
       "      <th>24</th>\n",
       "      <td>25</td>\n",
       "      <td>NuNuCa Nuß-Nougat-Creme</td>\n",
       "      <td>3</td>\n",
       "      <td>Confections</td>\n",
       "      <td>318</td>\n",
       "    </tr>\n",
       "    <tr>\n",
       "      <th>19</th>\n",
       "      <td>20</td>\n",
       "      <td>Sir Rodney's Marmalade</td>\n",
       "      <td>3</td>\n",
       "      <td>Confections</td>\n",
       "      <td>313</td>\n",
       "    </tr>\n",
       "    <tr>\n",
       "      <th>5</th>\n",
       "      <td>6</td>\n",
       "      <td>Grandma's Boysenberry Spread</td>\n",
       "      <td>2</td>\n",
       "      <td>Condiments</td>\n",
       "      <td>301</td>\n",
       "    </tr>\n",
       "    <tr>\n",
       "      <th>4</th>\n",
       "      <td>5</td>\n",
       "      <td>Chef Anton's Gumbo Mix</td>\n",
       "      <td>2</td>\n",
       "      <td>Condiments</td>\n",
       "      <td>298</td>\n",
       "    </tr>\n",
       "    <tr>\n",
       "      <th>73</th>\n",
       "      <td>74</td>\n",
       "      <td>Longlife Tofu</td>\n",
       "      <td>7</td>\n",
       "      <td>Produce</td>\n",
       "      <td>297</td>\n",
       "    </tr>\n",
       "    <tr>\n",
       "      <th>31</th>\n",
       "      <td>32</td>\n",
       "      <td>Mascarpone Fabioli</td>\n",
       "      <td>4</td>\n",
       "      <td>Dairy Products</td>\n",
       "      <td>297</td>\n",
       "    </tr>\n",
       "    <tr>\n",
       "      <th>72</th>\n",
       "      <td>73</td>\n",
       "      <td>Röd Kaviar</td>\n",
       "      <td>8</td>\n",
       "      <td>Seafood</td>\n",
       "      <td>293</td>\n",
       "    </tr>\n",
       "    <tr>\n",
       "      <th>65</th>\n",
       "      <td>66</td>\n",
       "      <td>Louisiana Hot Spiced Okra</td>\n",
       "      <td>2</td>\n",
       "      <td>Condiments</td>\n",
       "      <td>239</td>\n",
       "    </tr>\n",
       "    <tr>\n",
       "      <th>49</th>\n",
       "      <td>50</td>\n",
       "      <td>Valkoinen suklaa</td>\n",
       "      <td>3</td>\n",
       "      <td>Confections</td>\n",
       "      <td>235</td>\n",
       "    </tr>\n",
       "    <tr>\n",
       "      <th>66</th>\n",
       "      <td>67</td>\n",
       "      <td>Laughing Lumberjack Lager</td>\n",
       "      <td>1</td>\n",
       "      <td>Beverages</td>\n",
       "      <td>184</td>\n",
       "    </tr>\n",
       "    <tr>\n",
       "      <th>47</th>\n",
       "      <td>48</td>\n",
       "      <td>Chocolade</td>\n",
       "      <td>3</td>\n",
       "      <td>Confections</td>\n",
       "      <td>138</td>\n",
       "    </tr>\n",
       "    <tr>\n",
       "      <th>36</th>\n",
       "      <td>37</td>\n",
       "      <td>Gravad lax</td>\n",
       "      <td>8</td>\n",
       "      <td>Seafood</td>\n",
       "      <td>125</td>\n",
       "    </tr>\n",
       "    <tr>\n",
       "      <th>14</th>\n",
       "      <td>15</td>\n",
       "      <td>Genen Shouyu</td>\n",
       "      <td>2</td>\n",
       "      <td>Condiments</td>\n",
       "      <td>122</td>\n",
       "    </tr>\n",
       "    <tr>\n",
       "      <th>8</th>\n",
       "      <td>9</td>\n",
       "      <td>Mishi Kobe Niku</td>\n",
       "      <td>6</td>\n",
       "      <td>Meat/Poultry</td>\n",
       "      <td>95</td>\n",
       "    </tr>\n",
       "  </tbody>\n",
       "</table>\n",
       "<p>77 rows × 5 columns</p>\n",
       "</div>"
      ],
      "text/plain": [
       "    ProductId                      ProductName  CategoryId    CategoryName  \\\n",
       "59         60                Camembert Pierrot           4  Dairy Products   \n",
       "58         59             Raclette Courdavault           4  Dairy Products   \n",
       "30         31                Gorgonzola Telino           4  Dairy Products   \n",
       "55         56           Gnocchi di nonna Alice           5  Grains/Cereals   \n",
       "15         16                          Pavlova           3     Confections   \n",
       "74         75             Rhönbräu Klosterbier           1       Beverages   \n",
       "23         24               Guaraná Fantástica           1       Beverages   \n",
       "39         40                 Boston Crab Meat           8         Seafood   \n",
       "61         62                   Tarte au sucre           3     Confections   \n",
       "70         71                      Flotemysost           4  Dairy Products   \n",
       "1           2                            Chang           1       Beverages   \n",
       "20         21              Sir Rodney's Scones           3     Confections   \n",
       "75         76                     Lakkalikööri           1       Beverages   \n",
       "40         41  Jack's New England Clam Chowder           8         Seafood   \n",
       "16         17                     Alice Mutton           6    Meat/Poultry   \n",
       "54         55                     Pâté chinois           6    Meat/Poultry   \n",
       "12         13                            Konbu           8         Seafood   \n",
       "50         51            Manjimup Dried Apples           7         Produce   \n",
       "34         35                   Steeleye Stout           1       Beverages   \n",
       "0           1                             Chai           1       Beverages   \n",
       "69         70                    Outback Lager           1       Beverages   \n",
       "71         72           Mozzarella di Giovanni           4  Dairy Products   \n",
       "35         36                      Inlagd Sill           8         Seafood   \n",
       "67         68              Scottish Longbreads           3     Confections   \n",
       "38         39                 Chartreuse verte           1       Beverages   \n",
       "76         77  Original Frankfurter grüne Soße           2      Condiments   \n",
       "6           7  Uncle Bob's Organic Dried Pears           7         Produce   \n",
       "32         33                          Geitost           4  Dairy Products   \n",
       "53         54                        Tourtière           6    Meat/Poultry   \n",
       "25         26              Gumbär Gummibärchen           3     Confections   \n",
       "..        ...                              ...         ...             ...   \n",
       "17         18                 Carnarvon Tigers           8         Seafood   \n",
       "57         58           Escargots de Bourgogne           8         Seafood   \n",
       "48         49                         Maxilaku           3     Confections   \n",
       "44         45                      Rogede sild           8         Seafood   \n",
       "33         34                    Sasquatch Ale           1       Beverages   \n",
       "51         52                         Filo Mix           5  Grains/Cereals   \n",
       "46         47                    Zaanse koeken           3     Confections   \n",
       "3           4     Chef Anton's Cajun Seasoning           2      Condiments   \n",
       "62         63                     Vegie-spread           2      Condiments   \n",
       "56         57                   Ravioli Angelo           5  Grains/Cereals   \n",
       "13         14                             Tofu           7         Produce   \n",
       "7           8       Northwoods Cranberry Sauce           2      Condiments   \n",
       "26         27               Schoggi Schokolade           3     Confections   \n",
       "21         22              Gustaf's Knäckebröd           5  Grains/Cereals   \n",
       "11         12        Queso Manchego La Pastora           4  Dairy Products   \n",
       "2           3                    Aniseed Syrup           2      Condiments   \n",
       "24         25          NuNuCa Nuß-Nougat-Creme           3     Confections   \n",
       "19         20           Sir Rodney's Marmalade           3     Confections   \n",
       "5           6     Grandma's Boysenberry Spread           2      Condiments   \n",
       "4           5           Chef Anton's Gumbo Mix           2      Condiments   \n",
       "73         74                    Longlife Tofu           7         Produce   \n",
       "31         32               Mascarpone Fabioli           4  Dairy Products   \n",
       "72         73                       Röd Kaviar           8         Seafood   \n",
       "65         66        Louisiana Hot Spiced Okra           2      Condiments   \n",
       "49         50                 Valkoinen suklaa           3     Confections   \n",
       "66         67        Laughing Lumberjack Lager           1       Beverages   \n",
       "47         48                        Chocolade           3     Confections   \n",
       "36         37                       Gravad lax           8         Seafood   \n",
       "14         15                     Genen Shouyu           2      Condiments   \n",
       "8           9                  Mishi Kobe Niku           6    Meat/Poultry   \n",
       "\n",
       "    UnitsSold  \n",
       "59       1577  \n",
       "58       1496  \n",
       "30       1397  \n",
       "55       1263  \n",
       "15       1158  \n",
       "74       1155  \n",
       "23       1125  \n",
       "39       1103  \n",
       "61       1083  \n",
       "70       1057  \n",
       "1        1057  \n",
       "20       1016  \n",
       "75        981  \n",
       "40        981  \n",
       "16        978  \n",
       "54        903  \n",
       "12        891  \n",
       "50        886  \n",
       "34        883  \n",
       "0         828  \n",
       "69        817  \n",
       "71        806  \n",
       "35        805  \n",
       "67        799  \n",
       "38        793  \n",
       "76        791  \n",
       "6         763  \n",
       "32        755  \n",
       "53        755  \n",
       "25        753  \n",
       "..        ...  \n",
       "17        539  \n",
       "57        534  \n",
       "48        520  \n",
       "44        508  \n",
       "33        506  \n",
       "51        500  \n",
       "46        485  \n",
       "3         453  \n",
       "62        445  \n",
       "56        434  \n",
       "13        404  \n",
       "7         372  \n",
       "26        365  \n",
       "21        348  \n",
       "11        344  \n",
       "2         328  \n",
       "24        318  \n",
       "19        313  \n",
       "5         301  \n",
       "4         298  \n",
       "73        297  \n",
       "31        297  \n",
       "72        293  \n",
       "65        239  \n",
       "49        235  \n",
       "66        184  \n",
       "47        138  \n",
       "36        125  \n",
       "14        122  \n",
       "8          95  \n",
       "\n",
       "[77 rows x 5 columns]"
      ]
     },
     "execution_count": 87,
     "metadata": {},
     "output_type": "execute_result"
    }
   ],
   "source": [
    "dfBestSeller.sort_values(by='UnitsSold', ascending=False)"
   ]
  },
  {
   "cell_type": "code",
   "execution_count": 98,
   "metadata": {
    "collapsed": true
   },
   "outputs": [
    {
     "name": "stdout",
     "output_type": "stream",
     "text": [
      "<class 'pandas.core.frame.DataFrame'>\n",
      "RangeIndex: 77 entries, 0 to 76\n",
      "Data columns (total 5 columns):\n",
      "ProductId       77 non-null int64\n",
      "ProductName     77 non-null object\n",
      "CategoryId      77 non-null int64\n",
      "CategoryName    77 non-null object\n",
      "UnitsSold       77 non-null int64\n",
      "dtypes: int64(3), object(2)\n",
      "memory usage: 3.1+ KB\n"
     ]
    }
   ],
   "source": [
    "dfBestSeller.info()"
   ]
  },
  {
   "cell_type": "markdown",
   "metadata": {},
   "source": [
    "> - There are 77 different products in the company. \n",
    "> - The best seller is  ProductId= 60-'Camembert Pierrot' with 1577 units sold.\n",
    "> - Will find all the OrderIds that contain ProductId= 60-'Camembert Pierrot' and find the most frequent product bought with it"
   ]
  },
  {
   "cell_type": "code",
   "execution_count": 88,
   "metadata": {},
   "outputs": [],
   "source": [
    "#Get all OrderIds that contain ProductId = 60\n",
    "dfP60_OrderIds = pd.read_sql_query('''SELECT od.OrderId\n",
    "                            FROM 'OrderDetail' od\n",
    "                            JOIN 'Product' p ON p.Id = od.ProductId\n",
    "                            WHERE ProductId = 60\n",
    "                            ;''', cnx)"
   ]
  },
  {
   "cell_type": "code",
   "execution_count": 150,
   "metadata": {
    "collapsed": true
   },
   "outputs": [
    {
     "name": "stdout",
     "output_type": "stream",
     "text": [
      "<class 'pandas.core.frame.DataFrame'>\n",
      "RangeIndex: 51 entries, 0 to 50\n",
      "Data columns (total 1 columns):\n",
      "OrderId    51 non-null int64\n",
      "dtypes: int64(1)\n",
      "memory usage: 488.0 bytes\n"
     ]
    }
   ],
   "source": [
    "dfP60_OrderIds.info()"
   ]
  },
  {
   "cell_type": "code",
   "execution_count": 103,
   "metadata": {},
   "outputs": [],
   "source": [
    "#Find all the ProductIds and the quantities sold for all the OrderIds that contained ProductId=60\n",
    "#This will help find the product most selled with P60\n",
    "dfBestSeller2 = pd.read_sql_query('''SELECT od.ProductId, p.ProductName, p.CategoryId, c.CategoryName, od.Discount,\n",
    "                            SUM(od.Quantity) as 'UnitsSold'\n",
    "                            FROM 'OrderDetail' od\n",
    "                            JOIN 'Product' p ON p.Id = od.ProductId\n",
    "                            JOIN 'Category' c ON c.Id = p.CategoryId\n",
    "                            WHERE od.OrderId IN \n",
    "                                (SELECT od.OrderId\n",
    "                                FROM 'OrderDetail' od\n",
    "                                JOIN 'Product' p ON p.Id = od.ProductId\n",
    "                                WHERE ProductId = 60)\n",
    "                            GROUP BY od.ProductId\n",
    "                            ;''', cnx)"
   ]
  },
  {
   "cell_type": "code",
   "execution_count": 104,
   "metadata": {
    "collapsed": true
   },
   "outputs": [
    {
     "name": "stdout",
     "output_type": "stream",
     "text": [
      "<class 'pandas.core.frame.DataFrame'>\n",
      "RangeIndex: 63 entries, 0 to 62\n",
      "Data columns (total 6 columns):\n",
      "ProductId       63 non-null int64\n",
      "ProductName     63 non-null object\n",
      "CategoryId      63 non-null int64\n",
      "CategoryName    63 non-null object\n",
      "Discount        63 non-null float64\n",
      "UnitsSold       63 non-null int64\n",
      "dtypes: float64(1), int64(3), object(2)\n",
      "memory usage: 3.0+ KB\n"
     ]
    }
   ],
   "source": [
    "dfBestSeller2.info()"
   ]
  },
  {
   "cell_type": "code",
   "execution_count": 92,
   "metadata": {
    "collapsed": true
   },
   "outputs": [
    {
     "data": {
      "text/html": [
       "<div>\n",
       "<style scoped>\n",
       "    .dataframe tbody tr th:only-of-type {\n",
       "        vertical-align: middle;\n",
       "    }\n",
       "\n",
       "    .dataframe tbody tr th {\n",
       "        vertical-align: top;\n",
       "    }\n",
       "\n",
       "    .dataframe thead th {\n",
       "        text-align: right;\n",
       "    }\n",
       "</style>\n",
       "<table border=\"1\" class=\"dataframe\">\n",
       "  <thead>\n",
       "    <tr style=\"text-align: right;\">\n",
       "      <th></th>\n",
       "      <th>ProductId</th>\n",
       "      <th>ProductName</th>\n",
       "      <th>CategoryId</th>\n",
       "      <th>CategoryName</th>\n",
       "      <th>UnitsSold</th>\n",
       "    </tr>\n",
       "  </thead>\n",
       "  <tbody>\n",
       "    <tr>\n",
       "      <th>49</th>\n",
       "      <td>60</td>\n",
       "      <td>Camembert Pierrot</td>\n",
       "      <td>4</td>\n",
       "      <td>Dairy Products</td>\n",
       "      <td>1577</td>\n",
       "    </tr>\n",
       "    <tr>\n",
       "      <th>57</th>\n",
       "      <td>71</td>\n",
       "      <td>Flotemysost</td>\n",
       "      <td>4</td>\n",
       "      <td>Dairy Products</td>\n",
       "      <td>197</td>\n",
       "    </tr>\n",
       "    <tr>\n",
       "      <th>13</th>\n",
       "      <td>16</td>\n",
       "      <td>Pavlova</td>\n",
       "      <td>3</td>\n",
       "      <td>Confections</td>\n",
       "      <td>196</td>\n",
       "    </tr>\n",
       "    <tr>\n",
       "      <th>33</th>\n",
       "      <td>40</td>\n",
       "      <td>Boston Crab Meat</td>\n",
       "      <td>8</td>\n",
       "      <td>Seafood</td>\n",
       "      <td>187</td>\n",
       "    </tr>\n",
       "    <tr>\n",
       "      <th>25</th>\n",
       "      <td>31</td>\n",
       "      <td>Gorgonzola Telino</td>\n",
       "      <td>4</td>\n",
       "      <td>Dairy Products</td>\n",
       "      <td>165</td>\n",
       "    </tr>\n",
       "    <tr>\n",
       "      <th>0</th>\n",
       "      <td>1</td>\n",
       "      <td>Chai</td>\n",
       "      <td>1</td>\n",
       "      <td>Beverages</td>\n",
       "      <td>164</td>\n",
       "    </tr>\n",
       "    <tr>\n",
       "      <th>22</th>\n",
       "      <td>27</td>\n",
       "      <td>Schoggi Schokolade</td>\n",
       "      <td>3</td>\n",
       "      <td>Confections</td>\n",
       "      <td>135</td>\n",
       "    </tr>\n",
       "    <tr>\n",
       "      <th>20</th>\n",
       "      <td>24</td>\n",
       "      <td>Guaraná Fantástica</td>\n",
       "      <td>1</td>\n",
       "      <td>Beverages</td>\n",
       "      <td>132</td>\n",
       "    </tr>\n",
       "    <tr>\n",
       "      <th>32</th>\n",
       "      <td>39</td>\n",
       "      <td>Chartreuse verte</td>\n",
       "      <td>1</td>\n",
       "      <td>Beverages</td>\n",
       "      <td>129</td>\n",
       "    </tr>\n",
       "    <tr>\n",
       "      <th>8</th>\n",
       "      <td>10</td>\n",
       "      <td>Ikura</td>\n",
       "      <td>8</td>\n",
       "      <td>Seafood</td>\n",
       "      <td>117</td>\n",
       "    </tr>\n",
       "    <tr>\n",
       "      <th>46</th>\n",
       "      <td>56</td>\n",
       "      <td>Gnocchi di nonna Alice</td>\n",
       "      <td>5</td>\n",
       "      <td>Grains/Cereals</td>\n",
       "      <td>115</td>\n",
       "    </tr>\n",
       "    <tr>\n",
       "      <th>62</th>\n",
       "      <td>77</td>\n",
       "      <td>Original Frankfurter grüne Soße</td>\n",
       "      <td>2</td>\n",
       "      <td>Condiments</td>\n",
       "      <td>82</td>\n",
       "    </tr>\n",
       "    <tr>\n",
       "      <th>16</th>\n",
       "      <td>20</td>\n",
       "      <td>Sir Rodney's Marmalade</td>\n",
       "      <td>3</td>\n",
       "      <td>Confections</td>\n",
       "      <td>81</td>\n",
       "    </tr>\n",
       "    <tr>\n",
       "      <th>61</th>\n",
       "      <td>76</td>\n",
       "      <td>Lakkalikööri</td>\n",
       "      <td>1</td>\n",
       "      <td>Beverages</td>\n",
       "      <td>80</td>\n",
       "    </tr>\n",
       "    <tr>\n",
       "      <th>15</th>\n",
       "      <td>19</td>\n",
       "      <td>Teatime Chocolate Biscuits</td>\n",
       "      <td>3</td>\n",
       "      <td>Confections</td>\n",
       "      <td>80</td>\n",
       "    </tr>\n",
       "    <tr>\n",
       "      <th>58</th>\n",
       "      <td>72</td>\n",
       "      <td>Mozzarella di Giovanni</td>\n",
       "      <td>4</td>\n",
       "      <td>Dairy Products</td>\n",
       "      <td>80</td>\n",
       "    </tr>\n",
       "    <tr>\n",
       "      <th>29</th>\n",
       "      <td>36</td>\n",
       "      <td>Inlagd Sill</td>\n",
       "      <td>8</td>\n",
       "      <td>Seafood</td>\n",
       "      <td>73</td>\n",
       "    </tr>\n",
       "    <tr>\n",
       "      <th>27</th>\n",
       "      <td>33</td>\n",
       "      <td>Geitost</td>\n",
       "      <td>4</td>\n",
       "      <td>Dairy Products</td>\n",
       "      <td>71</td>\n",
       "    </tr>\n",
       "    <tr>\n",
       "      <th>12</th>\n",
       "      <td>15</td>\n",
       "      <td>Genen Shouyu</td>\n",
       "      <td>2</td>\n",
       "      <td>Condiments</td>\n",
       "      <td>70</td>\n",
       "    </tr>\n",
       "    <tr>\n",
       "      <th>38</th>\n",
       "      <td>45</td>\n",
       "      <td>Rogede sild</td>\n",
       "      <td>8</td>\n",
       "      <td>Seafood</td>\n",
       "      <td>66</td>\n",
       "    </tr>\n",
       "    <tr>\n",
       "      <th>10</th>\n",
       "      <td>13</td>\n",
       "      <td>Konbu</td>\n",
       "      <td>8</td>\n",
       "      <td>Seafood</td>\n",
       "      <td>64</td>\n",
       "    </tr>\n",
       "    <tr>\n",
       "      <th>17</th>\n",
       "      <td>21</td>\n",
       "      <td>Sir Rodney's Scones</td>\n",
       "      <td>3</td>\n",
       "      <td>Confections</td>\n",
       "      <td>63</td>\n",
       "    </tr>\n",
       "    <tr>\n",
       "      <th>6</th>\n",
       "      <td>8</td>\n",
       "      <td>Northwoods Cranberry Sauce</td>\n",
       "      <td>2</td>\n",
       "      <td>Condiments</td>\n",
       "      <td>62</td>\n",
       "    </tr>\n",
       "    <tr>\n",
       "      <th>30</th>\n",
       "      <td>37</td>\n",
       "      <td>Gravad lax</td>\n",
       "      <td>8</td>\n",
       "      <td>Seafood</td>\n",
       "      <td>60</td>\n",
       "    </tr>\n",
       "    <tr>\n",
       "      <th>39</th>\n",
       "      <td>46</td>\n",
       "      <td>Spegesild</td>\n",
       "      <td>8</td>\n",
       "      <td>Seafood</td>\n",
       "      <td>57</td>\n",
       "    </tr>\n",
       "    <tr>\n",
       "      <th>40</th>\n",
       "      <td>47</td>\n",
       "      <td>Zaanse koeken</td>\n",
       "      <td>3</td>\n",
       "      <td>Confections</td>\n",
       "      <td>56</td>\n",
       "    </tr>\n",
       "    <tr>\n",
       "      <th>18</th>\n",
       "      <td>22</td>\n",
       "      <td>Gustaf's Knäckebröd</td>\n",
       "      <td>5</td>\n",
       "      <td>Grains/Cereals</td>\n",
       "      <td>56</td>\n",
       "    </tr>\n",
       "    <tr>\n",
       "      <th>5</th>\n",
       "      <td>7</td>\n",
       "      <td>Uncle Bob's Organic Dried Pears</td>\n",
       "      <td>7</td>\n",
       "      <td>Produce</td>\n",
       "      <td>51</td>\n",
       "    </tr>\n",
       "    <tr>\n",
       "      <th>45</th>\n",
       "      <td>55</td>\n",
       "      <td>Pâté chinois</td>\n",
       "      <td>6</td>\n",
       "      <td>Meat/Poultry</td>\n",
       "      <td>49</td>\n",
       "    </tr>\n",
       "    <tr>\n",
       "      <th>42</th>\n",
       "      <td>51</td>\n",
       "      <td>Manjimup Dried Apples</td>\n",
       "      <td>7</td>\n",
       "      <td>Produce</td>\n",
       "      <td>48</td>\n",
       "    </tr>\n",
       "    <tr>\n",
       "      <th>...</th>\n",
       "      <td>...</td>\n",
       "      <td>...</td>\n",
       "      <td>...</td>\n",
       "      <td>...</td>\n",
       "      <td>...</td>\n",
       "    </tr>\n",
       "    <tr>\n",
       "      <th>31</th>\n",
       "      <td>38</td>\n",
       "      <td>Côte de Blaye</td>\n",
       "      <td>1</td>\n",
       "      <td>Beverages</td>\n",
       "      <td>40</td>\n",
       "    </tr>\n",
       "    <tr>\n",
       "      <th>24</th>\n",
       "      <td>30</td>\n",
       "      <td>Nord-Ost Matjeshering</td>\n",
       "      <td>8</td>\n",
       "      <td>Seafood</td>\n",
       "      <td>34</td>\n",
       "    </tr>\n",
       "    <tr>\n",
       "      <th>44</th>\n",
       "      <td>53</td>\n",
       "      <td>Perth Pasties</td>\n",
       "      <td>6</td>\n",
       "      <td>Meat/Poultry</td>\n",
       "      <td>32</td>\n",
       "    </tr>\n",
       "    <tr>\n",
       "      <th>54</th>\n",
       "      <td>68</td>\n",
       "      <td>Scottish Longbreads</td>\n",
       "      <td>3</td>\n",
       "      <td>Confections</td>\n",
       "      <td>32</td>\n",
       "    </tr>\n",
       "    <tr>\n",
       "      <th>51</th>\n",
       "      <td>64</td>\n",
       "      <td>Wimmers gute Semmelknödel</td>\n",
       "      <td>5</td>\n",
       "      <td>Grains/Cereals</td>\n",
       "      <td>32</td>\n",
       "    </tr>\n",
       "    <tr>\n",
       "      <th>56</th>\n",
       "      <td>70</td>\n",
       "      <td>Outback Lager</td>\n",
       "      <td>1</td>\n",
       "      <td>Beverages</td>\n",
       "      <td>30</td>\n",
       "    </tr>\n",
       "    <tr>\n",
       "      <th>55</th>\n",
       "      <td>69</td>\n",
       "      <td>Gudbrandsdalsost</td>\n",
       "      <td>4</td>\n",
       "      <td>Dairy Products</td>\n",
       "      <td>30</td>\n",
       "    </tr>\n",
       "    <tr>\n",
       "      <th>34</th>\n",
       "      <td>41</td>\n",
       "      <td>Jack's New England Clam Chowder</td>\n",
       "      <td>8</td>\n",
       "      <td>Seafood</td>\n",
       "      <td>27</td>\n",
       "    </tr>\n",
       "    <tr>\n",
       "      <th>14</th>\n",
       "      <td>17</td>\n",
       "      <td>Alice Mutton</td>\n",
       "      <td>6</td>\n",
       "      <td>Meat/Poultry</td>\n",
       "      <td>27</td>\n",
       "    </tr>\n",
       "    <tr>\n",
       "      <th>2</th>\n",
       "      <td>3</td>\n",
       "      <td>Aniseed Syrup</td>\n",
       "      <td>2</td>\n",
       "      <td>Condiments</td>\n",
       "      <td>24</td>\n",
       "    </tr>\n",
       "    <tr>\n",
       "      <th>47</th>\n",
       "      <td>57</td>\n",
       "      <td>Ravioli Angelo</td>\n",
       "      <td>5</td>\n",
       "      <td>Grains/Cereals</td>\n",
       "      <td>24</td>\n",
       "    </tr>\n",
       "    <tr>\n",
       "      <th>37</th>\n",
       "      <td>44</td>\n",
       "      <td>Gula Malacca</td>\n",
       "      <td>2</td>\n",
       "      <td>Condiments</td>\n",
       "      <td>21</td>\n",
       "    </tr>\n",
       "    <tr>\n",
       "      <th>48</th>\n",
       "      <td>59</td>\n",
       "      <td>Raclette Courdavault</td>\n",
       "      <td>4</td>\n",
       "      <td>Dairy Products</td>\n",
       "      <td>20</td>\n",
       "    </tr>\n",
       "    <tr>\n",
       "      <th>3</th>\n",
       "      <td>4</td>\n",
       "      <td>Chef Anton's Cajun Seasoning</td>\n",
       "      <td>2</td>\n",
       "      <td>Condiments</td>\n",
       "      <td>17</td>\n",
       "    </tr>\n",
       "    <tr>\n",
       "      <th>9</th>\n",
       "      <td>12</td>\n",
       "      <td>Queso Manchego La Pastora</td>\n",
       "      <td>4</td>\n",
       "      <td>Dairy Products</td>\n",
       "      <td>17</td>\n",
       "    </tr>\n",
       "    <tr>\n",
       "      <th>7</th>\n",
       "      <td>9</td>\n",
       "      <td>Mishi Kobe Niku</td>\n",
       "      <td>6</td>\n",
       "      <td>Meat/Poultry</td>\n",
       "      <td>16</td>\n",
       "    </tr>\n",
       "    <tr>\n",
       "      <th>21</th>\n",
       "      <td>26</td>\n",
       "      <td>Gumbär Gummibärchen</td>\n",
       "      <td>3</td>\n",
       "      <td>Confections</td>\n",
       "      <td>16</td>\n",
       "    </tr>\n",
       "    <tr>\n",
       "      <th>60</th>\n",
       "      <td>75</td>\n",
       "      <td>Rhönbräu Klosterbier</td>\n",
       "      <td>1</td>\n",
       "      <td>Beverages</td>\n",
       "      <td>10</td>\n",
       "    </tr>\n",
       "    <tr>\n",
       "      <th>23</th>\n",
       "      <td>29</td>\n",
       "      <td>Thüringer Rostbratwurst</td>\n",
       "      <td>6</td>\n",
       "      <td>Meat/Poultry</td>\n",
       "      <td>10</td>\n",
       "    </tr>\n",
       "    <tr>\n",
       "      <th>4</th>\n",
       "      <td>6</td>\n",
       "      <td>Grandma's Boysenberry Spread</td>\n",
       "      <td>2</td>\n",
       "      <td>Condiments</td>\n",
       "      <td>7</td>\n",
       "    </tr>\n",
       "    <tr>\n",
       "      <th>28</th>\n",
       "      <td>35</td>\n",
       "      <td>Steeleye Stout</td>\n",
       "      <td>1</td>\n",
       "      <td>Beverages</td>\n",
       "      <td>6</td>\n",
       "    </tr>\n",
       "    <tr>\n",
       "      <th>35</th>\n",
       "      <td>42</td>\n",
       "      <td>Singaporean Hokkien Fried Mee</td>\n",
       "      <td>5</td>\n",
       "      <td>Grains/Cereals</td>\n",
       "      <td>5</td>\n",
       "    </tr>\n",
       "    <tr>\n",
       "      <th>53</th>\n",
       "      <td>67</td>\n",
       "      <td>Laughing Lumberjack Lager</td>\n",
       "      <td>1</td>\n",
       "      <td>Beverages</td>\n",
       "      <td>5</td>\n",
       "    </tr>\n",
       "    <tr>\n",
       "      <th>50</th>\n",
       "      <td>61</td>\n",
       "      <td>Sirop d'érable</td>\n",
       "      <td>2</td>\n",
       "      <td>Condiments</td>\n",
       "      <td>4</td>\n",
       "    </tr>\n",
       "    <tr>\n",
       "      <th>11</th>\n",
       "      <td>14</td>\n",
       "      <td>Tofu</td>\n",
       "      <td>7</td>\n",
       "      <td>Produce</td>\n",
       "      <td>4</td>\n",
       "    </tr>\n",
       "    <tr>\n",
       "      <th>43</th>\n",
       "      <td>52</td>\n",
       "      <td>Filo Mix</td>\n",
       "      <td>5</td>\n",
       "      <td>Grains/Cereals</td>\n",
       "      <td>2</td>\n",
       "    </tr>\n",
       "    <tr>\n",
       "      <th>19</th>\n",
       "      <td>23</td>\n",
       "      <td>Tunnbröd</td>\n",
       "      <td>5</td>\n",
       "      <td>Grains/Cereals</td>\n",
       "      <td>2</td>\n",
       "    </tr>\n",
       "    <tr>\n",
       "      <th>59</th>\n",
       "      <td>73</td>\n",
       "      <td>Röd Kaviar</td>\n",
       "      <td>8</td>\n",
       "      <td>Seafood</td>\n",
       "      <td>2</td>\n",
       "    </tr>\n",
       "    <tr>\n",
       "      <th>52</th>\n",
       "      <td>66</td>\n",
       "      <td>Louisiana Hot Spiced Okra</td>\n",
       "      <td>2</td>\n",
       "      <td>Condiments</td>\n",
       "      <td>1</td>\n",
       "    </tr>\n",
       "    <tr>\n",
       "      <th>26</th>\n",
       "      <td>32</td>\n",
       "      <td>Mascarpone Fabioli</td>\n",
       "      <td>4</td>\n",
       "      <td>Dairy Products</td>\n",
       "      <td>1</td>\n",
       "    </tr>\n",
       "  </tbody>\n",
       "</table>\n",
       "<p>63 rows × 5 columns</p>\n",
       "</div>"
      ],
      "text/plain": [
       "    ProductId                      ProductName  CategoryId    CategoryName  \\\n",
       "49         60                Camembert Pierrot           4  Dairy Products   \n",
       "57         71                      Flotemysost           4  Dairy Products   \n",
       "13         16                          Pavlova           3     Confections   \n",
       "33         40                 Boston Crab Meat           8         Seafood   \n",
       "25         31                Gorgonzola Telino           4  Dairy Products   \n",
       "0           1                             Chai           1       Beverages   \n",
       "22         27               Schoggi Schokolade           3     Confections   \n",
       "20         24               Guaraná Fantástica           1       Beverages   \n",
       "32         39                 Chartreuse verte           1       Beverages   \n",
       "8          10                            Ikura           8         Seafood   \n",
       "46         56           Gnocchi di nonna Alice           5  Grains/Cereals   \n",
       "62         77  Original Frankfurter grüne Soße           2      Condiments   \n",
       "16         20           Sir Rodney's Marmalade           3     Confections   \n",
       "61         76                     Lakkalikööri           1       Beverages   \n",
       "15         19       Teatime Chocolate Biscuits           3     Confections   \n",
       "58         72           Mozzarella di Giovanni           4  Dairy Products   \n",
       "29         36                      Inlagd Sill           8         Seafood   \n",
       "27         33                          Geitost           4  Dairy Products   \n",
       "12         15                     Genen Shouyu           2      Condiments   \n",
       "38         45                      Rogede sild           8         Seafood   \n",
       "10         13                            Konbu           8         Seafood   \n",
       "17         21              Sir Rodney's Scones           3     Confections   \n",
       "6           8       Northwoods Cranberry Sauce           2      Condiments   \n",
       "30         37                       Gravad lax           8         Seafood   \n",
       "39         46                        Spegesild           8         Seafood   \n",
       "40         47                    Zaanse koeken           3     Confections   \n",
       "18         22              Gustaf's Knäckebröd           5  Grains/Cereals   \n",
       "5           7  Uncle Bob's Organic Dried Pears           7         Produce   \n",
       "45         55                     Pâté chinois           6    Meat/Poultry   \n",
       "42         51            Manjimup Dried Apples           7         Produce   \n",
       "..        ...                              ...         ...             ...   \n",
       "31         38                    Côte de Blaye           1       Beverages   \n",
       "24         30            Nord-Ost Matjeshering           8         Seafood   \n",
       "44         53                    Perth Pasties           6    Meat/Poultry   \n",
       "54         68              Scottish Longbreads           3     Confections   \n",
       "51         64        Wimmers gute Semmelknödel           5  Grains/Cereals   \n",
       "56         70                    Outback Lager           1       Beverages   \n",
       "55         69                 Gudbrandsdalsost           4  Dairy Products   \n",
       "34         41  Jack's New England Clam Chowder           8         Seafood   \n",
       "14         17                     Alice Mutton           6    Meat/Poultry   \n",
       "2           3                    Aniseed Syrup           2      Condiments   \n",
       "47         57                   Ravioli Angelo           5  Grains/Cereals   \n",
       "37         44                     Gula Malacca           2      Condiments   \n",
       "48         59             Raclette Courdavault           4  Dairy Products   \n",
       "3           4     Chef Anton's Cajun Seasoning           2      Condiments   \n",
       "9          12        Queso Manchego La Pastora           4  Dairy Products   \n",
       "7           9                  Mishi Kobe Niku           6    Meat/Poultry   \n",
       "21         26              Gumbär Gummibärchen           3     Confections   \n",
       "60         75             Rhönbräu Klosterbier           1       Beverages   \n",
       "23         29          Thüringer Rostbratwurst           6    Meat/Poultry   \n",
       "4           6     Grandma's Boysenberry Spread           2      Condiments   \n",
       "28         35                   Steeleye Stout           1       Beverages   \n",
       "35         42    Singaporean Hokkien Fried Mee           5  Grains/Cereals   \n",
       "53         67        Laughing Lumberjack Lager           1       Beverages   \n",
       "50         61                   Sirop d'érable           2      Condiments   \n",
       "11         14                             Tofu           7         Produce   \n",
       "43         52                         Filo Mix           5  Grains/Cereals   \n",
       "19         23                         Tunnbröd           5  Grains/Cereals   \n",
       "59         73                       Röd Kaviar           8         Seafood   \n",
       "52         66        Louisiana Hot Spiced Okra           2      Condiments   \n",
       "26         32               Mascarpone Fabioli           4  Dairy Products   \n",
       "\n",
       "    UnitsSold  \n",
       "49       1577  \n",
       "57        197  \n",
       "13        196  \n",
       "33        187  \n",
       "25        165  \n",
       "0         164  \n",
       "22        135  \n",
       "20        132  \n",
       "32        129  \n",
       "8         117  \n",
       "46        115  \n",
       "62         82  \n",
       "16         81  \n",
       "61         80  \n",
       "15         80  \n",
       "58         80  \n",
       "29         73  \n",
       "27         71  \n",
       "12         70  \n",
       "38         66  \n",
       "10         64  \n",
       "17         63  \n",
       "6          62  \n",
       "30         60  \n",
       "39         57  \n",
       "40         56  \n",
       "18         56  \n",
       "5          51  \n",
       "45         49  \n",
       "42         48  \n",
       "..        ...  \n",
       "31         40  \n",
       "24         34  \n",
       "44         32  \n",
       "54         32  \n",
       "51         32  \n",
       "56         30  \n",
       "55         30  \n",
       "34         27  \n",
       "14         27  \n",
       "2          24  \n",
       "47         24  \n",
       "37         21  \n",
       "48         20  \n",
       "3          17  \n",
       "9          17  \n",
       "7          16  \n",
       "21         16  \n",
       "60         10  \n",
       "23         10  \n",
       "4           7  \n",
       "28          6  \n",
       "35          5  \n",
       "53          5  \n",
       "50          4  \n",
       "11          4  \n",
       "43          2  \n",
       "19          2  \n",
       "59          2  \n",
       "52          1  \n",
       "26          1  \n",
       "\n",
       "[63 rows x 5 columns]"
      ]
     },
     "execution_count": 92,
     "metadata": {},
     "output_type": "execute_result"
    }
   ],
   "source": [
    "#Find the product that was paired the most times with ProductId=60\n",
    "dfBestSeller2.sort_values(by='UnitsSold', ascending=False)"
   ]
  },
  {
   "cell_type": "markdown",
   "metadata": {},
   "source": [
    "> - ProductId=71-'Flotemysost' was the product most frequently bought with ProductId=60\n",
    "> - Need to determine if the purchase of P71 increases the sales in P60"
   ]
  },
  {
   "cell_type": "code",
   "execution_count": 93,
   "metadata": {},
   "outputs": [],
   "source": [
    "#Get the OrderIds where P60 and P71\n",
    "#This will help classify the orderIds where P71 = yes or P71 = no\n",
    "dfP71_OrderId = pd.read_sql_query('''SELECT DISTINCT od.OrderId \n",
    "                            FROM 'OrderDetail' od\n",
    "                            JOIN 'Product' p ON p.Id = od.ProductId\n",
    "                            WHERE od.OrderId IN \n",
    "                                (SELECT od.OrderId\n",
    "                                FROM 'OrderDetail' od\n",
    "                                JOIN 'Product' p ON p.Id = od.ProductId\n",
    "                                WHERE ProductId = 60)\n",
    "                            AND od.OrderId IN \n",
    "                                (SELECT od.OrderId\n",
    "                                FROM 'OrderDetail' od\n",
    "                                JOIN 'Product' p ON p.Id = od.ProductId\n",
    "                                WHERE ProductId = 71)\n",
    "                            ;''', cnx)"
   ]
  },
  {
   "cell_type": "code",
   "execution_count": 94,
   "metadata": {
    "collapsed": true
   },
   "outputs": [
    {
     "name": "stdout",
     "output_type": "stream",
     "text": [
      "<class 'pandas.core.frame.DataFrame'>\n",
      "RangeIndex: 6 entries, 0 to 5\n",
      "Data columns (total 1 columns):\n",
      "OrderId    6 non-null int64\n",
      "dtypes: int64(1)\n",
      "memory usage: 128.0 bytes\n"
     ]
    }
   ],
   "source": [
    "dfP71_OrderId.info()"
   ]
  },
  {
   "cell_type": "code",
   "execution_count": 106,
   "metadata": {},
   "outputs": [],
   "source": [
    "#Will take Quantity of PId60 in orders containing PId71 and orders without PId71\n",
    "#This will let us compare if the purchase of PId71 influences the quantity of PId60 purchased\n",
    "dfP60vsP71 = pd.read_sql_query('''SELECT od.OrderId, od.ProductId, p.ProductName, p.CategoryId, c.CategoryName, od.Discount,\n",
    "                            od.Quantity\n",
    "                            FROM 'OrderDetail' od\n",
    "                            JOIN 'Product' p ON p.Id = od.ProductId\n",
    "                            JOIN 'Category' c ON c.Id = p.CategoryId\n",
    "                            WHERE od.OrderId IN \n",
    "                                (SELECT DISTINCT od.OrderId\n",
    "                                FROM 'OrderDetail' od\n",
    "                                JOIN 'Product' p ON p.Id = od.ProductId\n",
    "                                WHERE ProductId = 60)\n",
    "                            AND od.ProductId = 60\n",
    "                            ;''', cnx)"
   ]
  },
  {
   "cell_type": "code",
   "execution_count": 101,
   "metadata": {
    "collapsed": true
   },
   "outputs": [
    {
     "data": {
      "text/html": [
       "<div>\n",
       "<style scoped>\n",
       "    .dataframe tbody tr th:only-of-type {\n",
       "        vertical-align: middle;\n",
       "    }\n",
       "\n",
       "    .dataframe tbody tr th {\n",
       "        vertical-align: top;\n",
       "    }\n",
       "\n",
       "    .dataframe thead th {\n",
       "        text-align: right;\n",
       "    }\n",
       "</style>\n",
       "<table border=\"1\" class=\"dataframe\">\n",
       "  <thead>\n",
       "    <tr style=\"text-align: right;\">\n",
       "      <th></th>\n",
       "      <th>OrderId</th>\n",
       "      <th>ProductId</th>\n",
       "      <th>ProductName</th>\n",
       "      <th>CategoryId</th>\n",
       "      <th>CategoryName</th>\n",
       "      <th>Quantity</th>\n",
       "    </tr>\n",
       "  </thead>\n",
       "  <tbody>\n",
       "    <tr>\n",
       "      <th>0</th>\n",
       "      <td>10252</td>\n",
       "      <td>60</td>\n",
       "      <td>Camembert Pierrot</td>\n",
       "      <td>4</td>\n",
       "      <td>Dairy Products</td>\n",
       "      <td>40</td>\n",
       "    </tr>\n",
       "    <tr>\n",
       "      <th>1</th>\n",
       "      <td>10283</td>\n",
       "      <td>60</td>\n",
       "      <td>Camembert Pierrot</td>\n",
       "      <td>4</td>\n",
       "      <td>Dairy Products</td>\n",
       "      <td>35</td>\n",
       "    </tr>\n",
       "    <tr>\n",
       "      <th>2</th>\n",
       "      <td>10284</td>\n",
       "      <td>60</td>\n",
       "      <td>Camembert Pierrot</td>\n",
       "      <td>4</td>\n",
       "      <td>Dairy Products</td>\n",
       "      <td>20</td>\n",
       "    </tr>\n",
       "    <tr>\n",
       "      <th>3</th>\n",
       "      <td>10294</td>\n",
       "      <td>60</td>\n",
       "      <td>Camembert Pierrot</td>\n",
       "      <td>4</td>\n",
       "      <td>Dairy Products</td>\n",
       "      <td>21</td>\n",
       "    </tr>\n",
       "    <tr>\n",
       "      <th>4</th>\n",
       "      <td>10357</td>\n",
       "      <td>60</td>\n",
       "      <td>Camembert Pierrot</td>\n",
       "      <td>4</td>\n",
       "      <td>Dairy Products</td>\n",
       "      <td>8</td>\n",
       "    </tr>\n",
       "  </tbody>\n",
       "</table>\n",
       "</div>"
      ],
      "text/plain": [
       "   OrderId  ProductId        ProductName  CategoryId    CategoryName  Quantity\n",
       "0    10252         60  Camembert Pierrot           4  Dairy Products        40\n",
       "1    10283         60  Camembert Pierrot           4  Dairy Products        35\n",
       "2    10284         60  Camembert Pierrot           4  Dairy Products        20\n",
       "3    10294         60  Camembert Pierrot           4  Dairy Products        21\n",
       "4    10357         60  Camembert Pierrot           4  Dairy Products         8"
      ]
     },
     "execution_count": 101,
     "metadata": {},
     "output_type": "execute_result"
    }
   ],
   "source": [
    "dfP60vsP71.head()"
   ]
  },
  {
   "cell_type": "code",
   "execution_count": 96,
   "metadata": {},
   "outputs": [],
   "source": [
    "#Divide PId60 orders with PId71 and without PId71\n",
    "dfwithP71 = dfP60vsP71.loc[dfP60vsP71['OrderId'].isin(list(dfP71_OrderId['OrderId']))]\n",
    "dfwoP71 = dfP60vsP71.loc[~dfP60vsP71['OrderId'].isin(list(dfP71_OrderId['OrderId']))]"
   ]
  },
  {
   "cell_type": "code",
   "execution_count": 242,
   "metadata": {},
   "outputs": [
    {
     "name": "stdout",
     "output_type": "stream",
     "text": [
      "(6, 6) (45, 6)\n"
     ]
    }
   ],
   "source": [
    "print(dfwithP71.shape, dfwoP71.shape)"
   ]
  },
  {
   "cell_type": "code",
   "execution_count": 243,
   "metadata": {},
   "outputs": [
    {
     "name": "stdout",
     "output_type": "stream",
     "text": [
      "39.166666666666664 29.822222222222223\n"
     ]
    }
   ],
   "source": [
    "mu_withP71, mu_woP71 = np.mean(dfwithP71['Quantity']), np.mean( dfwoP71['Quantity'])\n",
    "print(mu_withP71, mu_woP71)"
   ]
  },
  {
   "cell_type": "code",
   "execution_count": 244,
   "metadata": {
    "scrolled": true
   },
   "outputs": [
    {
     "name": "stdout",
     "output_type": "stream",
     "text": [
      "18.451889394374287 23.153870700059237\n"
     ]
    }
   ],
   "source": [
    "sd_withP71, sd_woP71 = np.std(dfwithP71['Quantity']), np.std(dfwoP71['Quantity'])\n",
    "print(sd_withP71, sd_woP71)"
   ]
  },
  {
   "cell_type": "markdown",
   "metadata": {},
   "source": [
    "> From the sample  average and standard deviations we can see that the two groups are not so close in numbers. Need to investigate further to confirm if there is a real existing difference between groups."
   ]
  },
  {
   "cell_type": "markdown",
   "metadata": {},
   "source": [
    "##### Histogram to check normality"
   ]
  },
  {
   "cell_type": "code",
   "execution_count": 255,
   "metadata": {
    "scrolled": true
   },
   "outputs": [
    {
     "data": {
      "image/png": "[encoded data removed]",
      "text/plain": [
       "<Figure size 576x360 with 1 Axes>"
      ]
     },
     "metadata": {},
     "output_type": "display_data"
    }
   ],
   "source": [
    "sns.set(color_codes=True)\n",
    "sns.set(rc={'figure.figsize':(8,5)})\n",
    "sns.distplot(dfwithP71['Quantity'], label='WithP71')\n",
    "sns.distplot(dfwoP71['Quantity'], label='WithoutP71') \n",
    "plt.legend()\n",
    "plt.show();"
   ]
  },
  {
   "cell_type": "markdown",
   "metadata": {},
   "source": [
    "##### Check Outliers"
   ]
  },
  {
   "cell_type": "code",
   "execution_count": 272,
   "metadata": {
    "scrolled": true
   },
   "outputs": [
    {
     "data": {
      "image/png": "[encoded data removed]",
      "text/plain": [
       "<Figure size 216x216 with 1 Axes>"
      ]
     },
     "metadata": {},
     "output_type": "display_data"
    }
   ],
   "source": [
    "dfwithP71['Quantity'].plot(kind='box', ylim=(0, 100), figsize=(3,3));"
   ]
  },
  {
   "cell_type": "code",
   "execution_count": 273,
   "metadata": {},
   "outputs": [
    {
     "data": {
      "image/png": "[encoded data removed]",
      "text/plain": [
       "<Figure size 216x216 with 1 Axes>"
      ]
     },
     "metadata": {},
     "output_type": "display_data"
    }
   ],
   "source": [
    "dfwoP71['Quantity'].plot(kind='box', ylim=(0, 100), figsize=(3,3));"
   ]
  },
  {
   "cell_type": "markdown",
   "metadata": {},
   "source": [
    "##### Shapiro test to check normality\n",
    "- H0: distribution is normal\n",
    "- Ha: distribution is not normal"
   ]
  },
  {
   "cell_type": "code",
   "execution_count": 102,
   "metadata": {},
   "outputs": [
    {
     "name": "stdout",
     "output_type": "stream",
     "text": [
      "(0.9605991244316101, 0.8243460655212402) (0.8918686509132385, 0.0005341130308806896)\n"
     ]
    }
   ],
   "source": [
    "print(scs.shapiro(dfwithP71['Quantity']), scs.shapiro(dfwoP71['Quantity']))"
   ]
  },
  {
   "cell_type": "markdown",
   "metadata": {},
   "source": [
    "##### Levene test to check for equal variances\n",
    "- H0: v1=v2\n",
    "\n",
    "- Ha: v1!=v2"
   ]
  },
  {
   "cell_type": "code",
   "execution_count": 257,
   "metadata": {},
   "outputs": [
    {
     "data": {
      "text/plain": [
       "LeveneResult(statistic=0.06407726897311178, pvalue=0.801223004740049)"
      ]
     },
     "execution_count": 257,
     "metadata": {},
     "output_type": "execute_result"
    }
   ],
   "source": [
    "scs.levene(dfwithP71['Quantity'], dfwoP71['Quantity'])"
   ]
  },
  {
   "cell_type": "markdown",
   "metadata": {},
   "source": [
    "## Welch's T-Test\n",
    "- I will use a Welch's T-Test since my samples are not of equal size. \n",
    "- dfwithP71 passed the test for normality, dfwoP71 did not pass it. \n",
    "- Eventhough dfwoP71 did not come from a normal dustribution, I will continue using Welch's T-test since it remains robust for skewed distributions."
   ]
  },
  {
   "cell_type": "code",
   "execution_count": 329,
   "metadata": {},
   "outputs": [],
   "source": [
    "def Welch_test(a, b):\n",
    "    numerator = a.mean() - b.mean()\n",
    "    # “ddof = Delta Degrees of Freedom”: the divisor used in the calculation is N - ddof, \n",
    "    #  where N represents the number of elements. By default ddof is zero.\n",
    "    denominator = np.sqrt(a.var(ddof=1)/a.size + b.var(ddof=1)/b.size)\n",
    "    \n",
    "    return np.abs(numerator/denominator)"
   ]
  },
  {
   "cell_type": "code",
   "execution_count": 326,
   "metadata": {},
   "outputs": [],
   "source": [
    "def welch_df(a, b):\n",
    "    \"\"\" Calculate the effective degrees of freedom for two samples. \"\"\"\n",
    "    s1 = a.var(ddof=1) \n",
    "    s2 = b.var(ddof=1)\n",
    "    n1 = a.size\n",
    "    n2 = b.size\n",
    "    numerator = (s1/n1 + s2/n2)**2\n",
    "    denominator = (s1/ n1)**2/(n1 - 1) + (s2/ n2)**2/(n2 - 1)\n",
    "    return numerator/denominator"
   ]
  },
  {
   "cell_type": "code",
   "execution_count": 335,
   "metadata": {},
   "outputs": [
    {
     "data": {
      "text/plain": [
       "1.0429263972500478"
      ]
     },
     "execution_count": 335,
     "metadata": {},
     "output_type": "execute_result"
    }
   ],
   "source": [
    "t = Welch_test(dfwithP71['Quantity'], dfwoP71['Quantity'])\n",
    "t"
   ]
  },
  {
   "cell_type": "code",
   "execution_count": 336,
   "metadata": {},
   "outputs": [
    {
     "data": {
      "text/plain": [
       "6.924186837860065"
      ]
     },
     "execution_count": 336,
     "metadata": {},
     "output_type": "execute_result"
    }
   ],
   "source": [
    "df = welch_df(dfwithP71['Quantity'], dfwoP71['Quantity'])\n",
    "df"
   ]
  },
  {
   "cell_type": "code",
   "execution_count": 334,
   "metadata": {},
   "outputs": [
    {
     "name": "stdout",
     "output_type": "stream",
     "text": [
      "0.16601032001730298\n"
     ]
    }
   ],
   "source": [
    "#get the p-value with calculated t statistic and df\n",
    "p = 1 - scs.t.cdf(t, df)\n",
    "print(p)"
   ]
  },
  {
   "cell_type": "markdown",
   "metadata": {},
   "source": [
    "> In this case, there is a 16.6 % probability you would see t equal to or greater than what you saw from the data. Given that alpha was set at 0.05, this would NOT constitute sufficient evidence to reject the null hypothesis."
   ]
  },
  {
   "cell_type": "markdown",
   "metadata": {},
   "source": [
    "## Conclusions, Business Recommendations & Future Work"
   ]
  },
  {
   "cell_type": "markdown",
   "metadata": {},
   "source": [
    "##### Conclusions \n",
    "- A Shapiro test and a histogram were used to test normality on the samples. The tests showed that the normality assumption was not met for one of the samples.\n",
    "- A Welch's T-test was used since the sample sizes were different.\n",
    "- Eventhough dfwoP71 did not come from a normal dustribution, I used Welch's T-test since it remains robust for skewed distributions.\n",
    "- P-value = 0.16, therefore we do not have significant evidence to reject H0.\n",
    "- The conclusion of this experiment is that there is no significant difference in the number of units of P60 sold when P71 is purchased. Therefore, PId71 does not influence purchases of PId60."
   ]
  },
  {
   "cell_type": "markdown",
   "metadata": {},
   "source": [
    "##### Business Recommendations"
   ]
  },
  {
   "cell_type": "markdown",
   "metadata": {},
   "source": [
    "##### Future Work\n",
    "- Collect more data and perform test again in order to have more evidence to prove Ha"
   ]
  },
  {
   "cell_type": "markdown",
   "metadata": {},
   "source": [
    "# Hypothesis 4 - Is there a difference on sales between the top 10 best seller products? \n",
    "- H0: There is no difference between the top 10 best seller quantity means \n",
    "\n",
    "> $H_0: \\mu_1 = \\mu_2 = .... = \\mu_n $\n",
    "\n",
    "- Ha: There is a difference between the top 10 best seller quantity means \n",
    "\n",
    "> $H_a:  \\mu_1 != \\mu_2 != .... != \\mu_n $\n",
    "\n",
    "This will help us find out if our customers are coming to shop mostly for a particular product or if there is no significant difference on the sales of our top 10 best seller products"
   ]
  },
  {
   "cell_type": "markdown",
   "metadata": {},
   "source": [
    "## Data Exploration"
   ]
  },
  {
   "cell_type": "code",
   "execution_count": 58,
   "metadata": {},
   "outputs": [],
   "source": [
    "#Find out what the best seller products are and understand if our customers are coming to shop for \n",
    "#particular products or if there is no significant difference between our products\n",
    "dfBestSeller = pd.read_sql_query('''SELECT od.ProductId, p.ProductName, p.CategoryId, c.CategoryName, \n",
    "                            SUM(od.Quantity) as 'UnitsSold'\n",
    "                            FROM 'OrderDetail' od\n",
    "                            JOIN 'Product' p ON p.Id = od.ProductId\n",
    "                            JOIN 'Category' c ON c.Id = p.CategoryId\n",
    "                            GROUP BY od.ProductId\n",
    "                            ;''', cnx)"
   ]
  },
  {
   "cell_type": "code",
   "execution_count": 63,
   "metadata": {},
   "outputs": [
    {
     "data": {
      "text/html": [
       "<div>\n",
       "<style scoped>\n",
       "    .dataframe tbody tr th:only-of-type {\n",
       "        vertical-align: middle;\n",
       "    }\n",
       "\n",
       "    .dataframe tbody tr th {\n",
       "        vertical-align: top;\n",
       "    }\n",
       "\n",
       "    .dataframe thead th {\n",
       "        text-align: right;\n",
       "    }\n",
       "</style>\n",
       "<table border=\"1\" class=\"dataframe\">\n",
       "  <thead>\n",
       "    <tr style=\"text-align: right;\">\n",
       "      <th></th>\n",
       "      <th>ProductId</th>\n",
       "      <th>ProductName</th>\n",
       "      <th>CategoryId</th>\n",
       "      <th>CategoryName</th>\n",
       "      <th>UnitsSold</th>\n",
       "    </tr>\n",
       "  </thead>\n",
       "  <tbody>\n",
       "    <tr>\n",
       "      <th>0</th>\n",
       "      <td>1</td>\n",
       "      <td>Chai</td>\n",
       "      <td>1</td>\n",
       "      <td>Beverages</td>\n",
       "      <td>828</td>\n",
       "    </tr>\n",
       "    <tr>\n",
       "      <th>1</th>\n",
       "      <td>2</td>\n",
       "      <td>Chang</td>\n",
       "      <td>1</td>\n",
       "      <td>Beverages</td>\n",
       "      <td>1057</td>\n",
       "    </tr>\n",
       "  </tbody>\n",
       "</table>\n",
       "</div>"
      ],
      "text/plain": [
       "   ProductId ProductName  CategoryId CategoryName  UnitsSold\n",
       "0          1        Chai           1    Beverages        828\n",
       "1          2       Chang           1    Beverages       1057"
      ]
     },
     "execution_count": 63,
     "metadata": {},
     "output_type": "execute_result"
    }
   ],
   "source": [
    "dfBestSeller.head(2)"
   ]
  },
  {
   "cell_type": "code",
   "execution_count": 60,
   "metadata": {
    "collapsed": true
   },
   "outputs": [
    {
     "name": "stdout",
     "output_type": "stream",
     "text": [
      "<class 'pandas.core.frame.DataFrame'>\n",
      "RangeIndex: 77 entries, 0 to 76\n",
      "Data columns (total 5 columns):\n",
      "ProductId       77 non-null int64\n",
      "ProductName     77 non-null object\n",
      "CategoryId      77 non-null int64\n",
      "CategoryName    77 non-null object\n",
      "UnitsSold       77 non-null int64\n",
      "dtypes: int64(3), object(2)\n",
      "memory usage: 3.1+ KB\n"
     ]
    }
   ],
   "source": [
    "dfBestSeller.info()"
   ]
  },
  {
   "cell_type": "code",
   "execution_count": 61,
   "metadata": {
    "collapsed": true
   },
   "outputs": [
    {
     "data": {
      "text/html": [
       "<div>\n",
       "<style scoped>\n",
       "    .dataframe tbody tr th:only-of-type {\n",
       "        vertical-align: middle;\n",
       "    }\n",
       "\n",
       "    .dataframe tbody tr th {\n",
       "        vertical-align: top;\n",
       "    }\n",
       "\n",
       "    .dataframe thead th {\n",
       "        text-align: right;\n",
       "    }\n",
       "</style>\n",
       "<table border=\"1\" class=\"dataframe\">\n",
       "  <thead>\n",
       "    <tr style=\"text-align: right;\">\n",
       "      <th></th>\n",
       "      <th>ProductId</th>\n",
       "      <th>ProductName</th>\n",
       "      <th>CategoryId</th>\n",
       "      <th>CategoryName</th>\n",
       "      <th>UnitsSold</th>\n",
       "    </tr>\n",
       "  </thead>\n",
       "  <tbody>\n",
       "    <tr>\n",
       "      <th>59</th>\n",
       "      <td>60</td>\n",
       "      <td>Camembert Pierrot</td>\n",
       "      <td>4</td>\n",
       "      <td>Dairy Products</td>\n",
       "      <td>1577</td>\n",
       "    </tr>\n",
       "    <tr>\n",
       "      <th>58</th>\n",
       "      <td>59</td>\n",
       "      <td>Raclette Courdavault</td>\n",
       "      <td>4</td>\n",
       "      <td>Dairy Products</td>\n",
       "      <td>1496</td>\n",
       "    </tr>\n",
       "    <tr>\n",
       "      <th>30</th>\n",
       "      <td>31</td>\n",
       "      <td>Gorgonzola Telino</td>\n",
       "      <td>4</td>\n",
       "      <td>Dairy Products</td>\n",
       "      <td>1397</td>\n",
       "    </tr>\n",
       "    <tr>\n",
       "      <th>55</th>\n",
       "      <td>56</td>\n",
       "      <td>Gnocchi di nonna Alice</td>\n",
       "      <td>5</td>\n",
       "      <td>Grains/Cereals</td>\n",
       "      <td>1263</td>\n",
       "    </tr>\n",
       "    <tr>\n",
       "      <th>15</th>\n",
       "      <td>16</td>\n",
       "      <td>Pavlova</td>\n",
       "      <td>3</td>\n",
       "      <td>Confections</td>\n",
       "      <td>1158</td>\n",
       "    </tr>\n",
       "    <tr>\n",
       "      <th>74</th>\n",
       "      <td>75</td>\n",
       "      <td>Rhönbräu Klosterbier</td>\n",
       "      <td>1</td>\n",
       "      <td>Beverages</td>\n",
       "      <td>1155</td>\n",
       "    </tr>\n",
       "    <tr>\n",
       "      <th>23</th>\n",
       "      <td>24</td>\n",
       "      <td>Guaraná Fantástica</td>\n",
       "      <td>1</td>\n",
       "      <td>Beverages</td>\n",
       "      <td>1125</td>\n",
       "    </tr>\n",
       "    <tr>\n",
       "      <th>39</th>\n",
       "      <td>40</td>\n",
       "      <td>Boston Crab Meat</td>\n",
       "      <td>8</td>\n",
       "      <td>Seafood</td>\n",
       "      <td>1103</td>\n",
       "    </tr>\n",
       "    <tr>\n",
       "      <th>61</th>\n",
       "      <td>62</td>\n",
       "      <td>Tarte au sucre</td>\n",
       "      <td>3</td>\n",
       "      <td>Confections</td>\n",
       "      <td>1083</td>\n",
       "    </tr>\n",
       "    <tr>\n",
       "      <th>70</th>\n",
       "      <td>71</td>\n",
       "      <td>Flotemysost</td>\n",
       "      <td>4</td>\n",
       "      <td>Dairy Products</td>\n",
       "      <td>1057</td>\n",
       "    </tr>\n",
       "    <tr>\n",
       "      <th>1</th>\n",
       "      <td>2</td>\n",
       "      <td>Chang</td>\n",
       "      <td>1</td>\n",
       "      <td>Beverages</td>\n",
       "      <td>1057</td>\n",
       "    </tr>\n",
       "    <tr>\n",
       "      <th>20</th>\n",
       "      <td>21</td>\n",
       "      <td>Sir Rodney's Scones</td>\n",
       "      <td>3</td>\n",
       "      <td>Confections</td>\n",
       "      <td>1016</td>\n",
       "    </tr>\n",
       "    <tr>\n",
       "      <th>75</th>\n",
       "      <td>76</td>\n",
       "      <td>Lakkalikööri</td>\n",
       "      <td>1</td>\n",
       "      <td>Beverages</td>\n",
       "      <td>981</td>\n",
       "    </tr>\n",
       "    <tr>\n",
       "      <th>40</th>\n",
       "      <td>41</td>\n",
       "      <td>Jack's New England Clam Chowder</td>\n",
       "      <td>8</td>\n",
       "      <td>Seafood</td>\n",
       "      <td>981</td>\n",
       "    </tr>\n",
       "    <tr>\n",
       "      <th>16</th>\n",
       "      <td>17</td>\n",
       "      <td>Alice Mutton</td>\n",
       "      <td>6</td>\n",
       "      <td>Meat/Poultry</td>\n",
       "      <td>978</td>\n",
       "    </tr>\n",
       "    <tr>\n",
       "      <th>54</th>\n",
       "      <td>55</td>\n",
       "      <td>Pâté chinois</td>\n",
       "      <td>6</td>\n",
       "      <td>Meat/Poultry</td>\n",
       "      <td>903</td>\n",
       "    </tr>\n",
       "    <tr>\n",
       "      <th>12</th>\n",
       "      <td>13</td>\n",
       "      <td>Konbu</td>\n",
       "      <td>8</td>\n",
       "      <td>Seafood</td>\n",
       "      <td>891</td>\n",
       "    </tr>\n",
       "    <tr>\n",
       "      <th>50</th>\n",
       "      <td>51</td>\n",
       "      <td>Manjimup Dried Apples</td>\n",
       "      <td>7</td>\n",
       "      <td>Produce</td>\n",
       "      <td>886</td>\n",
       "    </tr>\n",
       "    <tr>\n",
       "      <th>34</th>\n",
       "      <td>35</td>\n",
       "      <td>Steeleye Stout</td>\n",
       "      <td>1</td>\n",
       "      <td>Beverages</td>\n",
       "      <td>883</td>\n",
       "    </tr>\n",
       "    <tr>\n",
       "      <th>0</th>\n",
       "      <td>1</td>\n",
       "      <td>Chai</td>\n",
       "      <td>1</td>\n",
       "      <td>Beverages</td>\n",
       "      <td>828</td>\n",
       "    </tr>\n",
       "    <tr>\n",
       "      <th>69</th>\n",
       "      <td>70</td>\n",
       "      <td>Outback Lager</td>\n",
       "      <td>1</td>\n",
       "      <td>Beverages</td>\n",
       "      <td>817</td>\n",
       "    </tr>\n",
       "    <tr>\n",
       "      <th>71</th>\n",
       "      <td>72</td>\n",
       "      <td>Mozzarella di Giovanni</td>\n",
       "      <td>4</td>\n",
       "      <td>Dairy Products</td>\n",
       "      <td>806</td>\n",
       "    </tr>\n",
       "    <tr>\n",
       "      <th>35</th>\n",
       "      <td>36</td>\n",
       "      <td>Inlagd Sill</td>\n",
       "      <td>8</td>\n",
       "      <td>Seafood</td>\n",
       "      <td>805</td>\n",
       "    </tr>\n",
       "    <tr>\n",
       "      <th>67</th>\n",
       "      <td>68</td>\n",
       "      <td>Scottish Longbreads</td>\n",
       "      <td>3</td>\n",
       "      <td>Confections</td>\n",
       "      <td>799</td>\n",
       "    </tr>\n",
       "    <tr>\n",
       "      <th>38</th>\n",
       "      <td>39</td>\n",
       "      <td>Chartreuse verte</td>\n",
       "      <td>1</td>\n",
       "      <td>Beverages</td>\n",
       "      <td>793</td>\n",
       "    </tr>\n",
       "    <tr>\n",
       "      <th>76</th>\n",
       "      <td>77</td>\n",
       "      <td>Original Frankfurter grüne Soße</td>\n",
       "      <td>2</td>\n",
       "      <td>Condiments</td>\n",
       "      <td>791</td>\n",
       "    </tr>\n",
       "    <tr>\n",
       "      <th>6</th>\n",
       "      <td>7</td>\n",
       "      <td>Uncle Bob's Organic Dried Pears</td>\n",
       "      <td>7</td>\n",
       "      <td>Produce</td>\n",
       "      <td>763</td>\n",
       "    </tr>\n",
       "    <tr>\n",
       "      <th>32</th>\n",
       "      <td>33</td>\n",
       "      <td>Geitost</td>\n",
       "      <td>4</td>\n",
       "      <td>Dairy Products</td>\n",
       "      <td>755</td>\n",
       "    </tr>\n",
       "    <tr>\n",
       "      <th>53</th>\n",
       "      <td>54</td>\n",
       "      <td>Tourtière</td>\n",
       "      <td>6</td>\n",
       "      <td>Meat/Poultry</td>\n",
       "      <td>755</td>\n",
       "    </tr>\n",
       "    <tr>\n",
       "      <th>25</th>\n",
       "      <td>26</td>\n",
       "      <td>Gumbär Gummibärchen</td>\n",
       "      <td>3</td>\n",
       "      <td>Confections</td>\n",
       "      <td>753</td>\n",
       "    </tr>\n",
       "    <tr>\n",
       "      <th>...</th>\n",
       "      <td>...</td>\n",
       "      <td>...</td>\n",
       "      <td>...</td>\n",
       "      <td>...</td>\n",
       "      <td>...</td>\n",
       "    </tr>\n",
       "    <tr>\n",
       "      <th>17</th>\n",
       "      <td>18</td>\n",
       "      <td>Carnarvon Tigers</td>\n",
       "      <td>8</td>\n",
       "      <td>Seafood</td>\n",
       "      <td>539</td>\n",
       "    </tr>\n",
       "    <tr>\n",
       "      <th>57</th>\n",
       "      <td>58</td>\n",
       "      <td>Escargots de Bourgogne</td>\n",
       "      <td>8</td>\n",
       "      <td>Seafood</td>\n",
       "      <td>534</td>\n",
       "    </tr>\n",
       "    <tr>\n",
       "      <th>48</th>\n",
       "      <td>49</td>\n",
       "      <td>Maxilaku</td>\n",
       "      <td>3</td>\n",
       "      <td>Confections</td>\n",
       "      <td>520</td>\n",
       "    </tr>\n",
       "    <tr>\n",
       "      <th>44</th>\n",
       "      <td>45</td>\n",
       "      <td>Rogede sild</td>\n",
       "      <td>8</td>\n",
       "      <td>Seafood</td>\n",
       "      <td>508</td>\n",
       "    </tr>\n",
       "    <tr>\n",
       "      <th>33</th>\n",
       "      <td>34</td>\n",
       "      <td>Sasquatch Ale</td>\n",
       "      <td>1</td>\n",
       "      <td>Beverages</td>\n",
       "      <td>506</td>\n",
       "    </tr>\n",
       "    <tr>\n",
       "      <th>51</th>\n",
       "      <td>52</td>\n",
       "      <td>Filo Mix</td>\n",
       "      <td>5</td>\n",
       "      <td>Grains/Cereals</td>\n",
       "      <td>500</td>\n",
       "    </tr>\n",
       "    <tr>\n",
       "      <th>46</th>\n",
       "      <td>47</td>\n",
       "      <td>Zaanse koeken</td>\n",
       "      <td>3</td>\n",
       "      <td>Confections</td>\n",
       "      <td>485</td>\n",
       "    </tr>\n",
       "    <tr>\n",
       "      <th>3</th>\n",
       "      <td>4</td>\n",
       "      <td>Chef Anton's Cajun Seasoning</td>\n",
       "      <td>2</td>\n",
       "      <td>Condiments</td>\n",
       "      <td>453</td>\n",
       "    </tr>\n",
       "    <tr>\n",
       "      <th>62</th>\n",
       "      <td>63</td>\n",
       "      <td>Vegie-spread</td>\n",
       "      <td>2</td>\n",
       "      <td>Condiments</td>\n",
       "      <td>445</td>\n",
       "    </tr>\n",
       "    <tr>\n",
       "      <th>56</th>\n",
       "      <td>57</td>\n",
       "      <td>Ravioli Angelo</td>\n",
       "      <td>5</td>\n",
       "      <td>Grains/Cereals</td>\n",
       "      <td>434</td>\n",
       "    </tr>\n",
       "    <tr>\n",
       "      <th>13</th>\n",
       "      <td>14</td>\n",
       "      <td>Tofu</td>\n",
       "      <td>7</td>\n",
       "      <td>Produce</td>\n",
       "      <td>404</td>\n",
       "    </tr>\n",
       "    <tr>\n",
       "      <th>7</th>\n",
       "      <td>8</td>\n",
       "      <td>Northwoods Cranberry Sauce</td>\n",
       "      <td>2</td>\n",
       "      <td>Condiments</td>\n",
       "      <td>372</td>\n",
       "    </tr>\n",
       "    <tr>\n",
       "      <th>26</th>\n",
       "      <td>27</td>\n",
       "      <td>Schoggi Schokolade</td>\n",
       "      <td>3</td>\n",
       "      <td>Confections</td>\n",
       "      <td>365</td>\n",
       "    </tr>\n",
       "    <tr>\n",
       "      <th>21</th>\n",
       "      <td>22</td>\n",
       "      <td>Gustaf's Knäckebröd</td>\n",
       "      <td>5</td>\n",
       "      <td>Grains/Cereals</td>\n",
       "      <td>348</td>\n",
       "    </tr>\n",
       "    <tr>\n",
       "      <th>11</th>\n",
       "      <td>12</td>\n",
       "      <td>Queso Manchego La Pastora</td>\n",
       "      <td>4</td>\n",
       "      <td>Dairy Products</td>\n",
       "      <td>344</td>\n",
       "    </tr>\n",
       "    <tr>\n",
       "      <th>2</th>\n",
       "      <td>3</td>\n",
       "      <td>Aniseed Syrup</td>\n",
       "      <td>2</td>\n",
       "      <td>Condiments</td>\n",
       "      <td>328</td>\n",
       "    </tr>\n",
       "    <tr>\n",
       "      <th>24</th>\n",
       "      <td>25</td>\n",
       "      <td>NuNuCa Nuß-Nougat-Creme</td>\n",
       "      <td>3</td>\n",
       "      <td>Confections</td>\n",
       "      <td>318</td>\n",
       "    </tr>\n",
       "    <tr>\n",
       "      <th>19</th>\n",
       "      <td>20</td>\n",
       "      <td>Sir Rodney's Marmalade</td>\n",
       "      <td>3</td>\n",
       "      <td>Confections</td>\n",
       "      <td>313</td>\n",
       "    </tr>\n",
       "    <tr>\n",
       "      <th>5</th>\n",
       "      <td>6</td>\n",
       "      <td>Grandma's Boysenberry Spread</td>\n",
       "      <td>2</td>\n",
       "      <td>Condiments</td>\n",
       "      <td>301</td>\n",
       "    </tr>\n",
       "    <tr>\n",
       "      <th>4</th>\n",
       "      <td>5</td>\n",
       "      <td>Chef Anton's Gumbo Mix</td>\n",
       "      <td>2</td>\n",
       "      <td>Condiments</td>\n",
       "      <td>298</td>\n",
       "    </tr>\n",
       "    <tr>\n",
       "      <th>73</th>\n",
       "      <td>74</td>\n",
       "      <td>Longlife Tofu</td>\n",
       "      <td>7</td>\n",
       "      <td>Produce</td>\n",
       "      <td>297</td>\n",
       "    </tr>\n",
       "    <tr>\n",
       "      <th>31</th>\n",
       "      <td>32</td>\n",
       "      <td>Mascarpone Fabioli</td>\n",
       "      <td>4</td>\n",
       "      <td>Dairy Products</td>\n",
       "      <td>297</td>\n",
       "    </tr>\n",
       "    <tr>\n",
       "      <th>72</th>\n",
       "      <td>73</td>\n",
       "      <td>Röd Kaviar</td>\n",
       "      <td>8</td>\n",
       "      <td>Seafood</td>\n",
       "      <td>293</td>\n",
       "    </tr>\n",
       "    <tr>\n",
       "      <th>65</th>\n",
       "      <td>66</td>\n",
       "      <td>Louisiana Hot Spiced Okra</td>\n",
       "      <td>2</td>\n",
       "      <td>Condiments</td>\n",
       "      <td>239</td>\n",
       "    </tr>\n",
       "    <tr>\n",
       "      <th>49</th>\n",
       "      <td>50</td>\n",
       "      <td>Valkoinen suklaa</td>\n",
       "      <td>3</td>\n",
       "      <td>Confections</td>\n",
       "      <td>235</td>\n",
       "    </tr>\n",
       "    <tr>\n",
       "      <th>66</th>\n",
       "      <td>67</td>\n",
       "      <td>Laughing Lumberjack Lager</td>\n",
       "      <td>1</td>\n",
       "      <td>Beverages</td>\n",
       "      <td>184</td>\n",
       "    </tr>\n",
       "    <tr>\n",
       "      <th>47</th>\n",
       "      <td>48</td>\n",
       "      <td>Chocolade</td>\n",
       "      <td>3</td>\n",
       "      <td>Confections</td>\n",
       "      <td>138</td>\n",
       "    </tr>\n",
       "    <tr>\n",
       "      <th>36</th>\n",
       "      <td>37</td>\n",
       "      <td>Gravad lax</td>\n",
       "      <td>8</td>\n",
       "      <td>Seafood</td>\n",
       "      <td>125</td>\n",
       "    </tr>\n",
       "    <tr>\n",
       "      <th>14</th>\n",
       "      <td>15</td>\n",
       "      <td>Genen Shouyu</td>\n",
       "      <td>2</td>\n",
       "      <td>Condiments</td>\n",
       "      <td>122</td>\n",
       "    </tr>\n",
       "    <tr>\n",
       "      <th>8</th>\n",
       "      <td>9</td>\n",
       "      <td>Mishi Kobe Niku</td>\n",
       "      <td>6</td>\n",
       "      <td>Meat/Poultry</td>\n",
       "      <td>95</td>\n",
       "    </tr>\n",
       "  </tbody>\n",
       "</table>\n",
       "<p>77 rows × 5 columns</p>\n",
       "</div>"
      ],
      "text/plain": [
       "    ProductId                      ProductName  CategoryId    CategoryName  \\\n",
       "59         60                Camembert Pierrot           4  Dairy Products   \n",
       "58         59             Raclette Courdavault           4  Dairy Products   \n",
       "30         31                Gorgonzola Telino           4  Dairy Products   \n",
       "55         56           Gnocchi di nonna Alice           5  Grains/Cereals   \n",
       "15         16                          Pavlova           3     Confections   \n",
       "74         75             Rhönbräu Klosterbier           1       Beverages   \n",
       "23         24               Guaraná Fantástica           1       Beverages   \n",
       "39         40                 Boston Crab Meat           8         Seafood   \n",
       "61         62                   Tarte au sucre           3     Confections   \n",
       "70         71                      Flotemysost           4  Dairy Products   \n",
       "1           2                            Chang           1       Beverages   \n",
       "20         21              Sir Rodney's Scones           3     Confections   \n",
       "75         76                     Lakkalikööri           1       Beverages   \n",
       "40         41  Jack's New England Clam Chowder           8         Seafood   \n",
       "16         17                     Alice Mutton           6    Meat/Poultry   \n",
       "54         55                     Pâté chinois           6    Meat/Poultry   \n",
       "12         13                            Konbu           8         Seafood   \n",
       "50         51            Manjimup Dried Apples           7         Produce   \n",
       "34         35                   Steeleye Stout           1       Beverages   \n",
       "0           1                             Chai           1       Beverages   \n",
       "69         70                    Outback Lager           1       Beverages   \n",
       "71         72           Mozzarella di Giovanni           4  Dairy Products   \n",
       "35         36                      Inlagd Sill           8         Seafood   \n",
       "67         68              Scottish Longbreads           3     Confections   \n",
       "38         39                 Chartreuse verte           1       Beverages   \n",
       "76         77  Original Frankfurter grüne Soße           2      Condiments   \n",
       "6           7  Uncle Bob's Organic Dried Pears           7         Produce   \n",
       "32         33                          Geitost           4  Dairy Products   \n",
       "53         54                        Tourtière           6    Meat/Poultry   \n",
       "25         26              Gumbär Gummibärchen           3     Confections   \n",
       "..        ...                              ...         ...             ...   \n",
       "17         18                 Carnarvon Tigers           8         Seafood   \n",
       "57         58           Escargots de Bourgogne           8         Seafood   \n",
       "48         49                         Maxilaku           3     Confections   \n",
       "44         45                      Rogede sild           8         Seafood   \n",
       "33         34                    Sasquatch Ale           1       Beverages   \n",
       "51         52                         Filo Mix           5  Grains/Cereals   \n",
       "46         47                    Zaanse koeken           3     Confections   \n",
       "3           4     Chef Anton's Cajun Seasoning           2      Condiments   \n",
       "62         63                     Vegie-spread           2      Condiments   \n",
       "56         57                   Ravioli Angelo           5  Grains/Cereals   \n",
       "13         14                             Tofu           7         Produce   \n",
       "7           8       Northwoods Cranberry Sauce           2      Condiments   \n",
       "26         27               Schoggi Schokolade           3     Confections   \n",
       "21         22              Gustaf's Knäckebröd           5  Grains/Cereals   \n",
       "11         12        Queso Manchego La Pastora           4  Dairy Products   \n",
       "2           3                    Aniseed Syrup           2      Condiments   \n",
       "24         25          NuNuCa Nuß-Nougat-Creme           3     Confections   \n",
       "19         20           Sir Rodney's Marmalade           3     Confections   \n",
       "5           6     Grandma's Boysenberry Spread           2      Condiments   \n",
       "4           5           Chef Anton's Gumbo Mix           2      Condiments   \n",
       "73         74                    Longlife Tofu           7         Produce   \n",
       "31         32               Mascarpone Fabioli           4  Dairy Products   \n",
       "72         73                       Röd Kaviar           8         Seafood   \n",
       "65         66        Louisiana Hot Spiced Okra           2      Condiments   \n",
       "49         50                 Valkoinen suklaa           3     Confections   \n",
       "66         67        Laughing Lumberjack Lager           1       Beverages   \n",
       "47         48                        Chocolade           3     Confections   \n",
       "36         37                       Gravad lax           8         Seafood   \n",
       "14         15                     Genen Shouyu           2      Condiments   \n",
       "8           9                  Mishi Kobe Niku           6    Meat/Poultry   \n",
       "\n",
       "    UnitsSold  \n",
       "59       1577  \n",
       "58       1496  \n",
       "30       1397  \n",
       "55       1263  \n",
       "15       1158  \n",
       "74       1155  \n",
       "23       1125  \n",
       "39       1103  \n",
       "61       1083  \n",
       "70       1057  \n",
       "1        1057  \n",
       "20       1016  \n",
       "75        981  \n",
       "40        981  \n",
       "16        978  \n",
       "54        903  \n",
       "12        891  \n",
       "50        886  \n",
       "34        883  \n",
       "0         828  \n",
       "69        817  \n",
       "71        806  \n",
       "35        805  \n",
       "67        799  \n",
       "38        793  \n",
       "76        791  \n",
       "6         763  \n",
       "32        755  \n",
       "53        755  \n",
       "25        753  \n",
       "..        ...  \n",
       "17        539  \n",
       "57        534  \n",
       "48        520  \n",
       "44        508  \n",
       "33        506  \n",
       "51        500  \n",
       "46        485  \n",
       "3         453  \n",
       "62        445  \n",
       "56        434  \n",
       "13        404  \n",
       "7         372  \n",
       "26        365  \n",
       "21        348  \n",
       "11        344  \n",
       "2         328  \n",
       "24        318  \n",
       "19        313  \n",
       "5         301  \n",
       "4         298  \n",
       "73        297  \n",
       "31        297  \n",
       "72        293  \n",
       "65        239  \n",
       "49        235  \n",
       "66        184  \n",
       "47        138  \n",
       "36        125  \n",
       "14        122  \n",
       "8          95  \n",
       "\n",
       "[77 rows x 5 columns]"
      ]
     },
     "execution_count": 61,
     "metadata": {},
     "output_type": "execute_result"
    }
   ],
   "source": [
    "dfBestSeller.sort_values(by='UnitsSold', ascending=False)"
   ]
  },
  {
   "cell_type": "markdown",
   "metadata": {},
   "source": [
    "> - There are 70 different products in the company. \n",
    "> - The best seller is  ProductId= 60-'Camembert Pierrot' with 1577 units sold.\n",
    "> - Top 5 seller products are 60, 59, 31, 56, 16\n",
    "> - Will find out if the quantity mean difference between those products are the same or if they differ from each other "
   ]
  },
  {
   "cell_type": "code",
   "execution_count": 110,
   "metadata": {},
   "outputs": [],
   "source": [
    "#Find all the ProductIds and the quantities sold for all the OrderIds\n",
    "dfBestSeller2 = pd.read_sql_query('''SELECT od.ProductId, p.ProductName, p.CategoryId, c.CategoryName, od.Quantity\n",
    "                            FROM 'OrderDetail' od\n",
    "                            JOIN 'Product' p ON p.Id = od.ProductId\n",
    "                            JOIN 'Category' c ON c.Id = p.CategoryId\n",
    "                            ;''', cnx)"
   ]
  },
  {
   "cell_type": "code",
   "execution_count": 69,
   "metadata": {
    "collapsed": true
   },
   "outputs": [
    {
     "name": "stdout",
     "output_type": "stream",
     "text": [
      "<class 'pandas.core.frame.DataFrame'>\n",
      "RangeIndex: 2155 entries, 0 to 2154\n",
      "Data columns (total 5 columns):\n",
      "ProductId       2155 non-null int64\n",
      "ProductName     2155 non-null object\n",
      "CategoryId      2155 non-null int64\n",
      "CategoryName    2155 non-null object\n",
      "Quantity        2155 non-null int64\n",
      "dtypes: int64(3), object(2)\n",
      "memory usage: 84.3+ KB\n"
     ]
    }
   ],
   "source": [
    "dfBestSeller2.info()"
   ]
  },
  {
   "cell_type": "code",
   "execution_count": 126,
   "metadata": {
    "collapsed": true
   },
   "outputs": [
    {
     "data": {
      "text/plain": [
       "59    54\n",
       "60    51\n",
       "31    51\n",
       "24    51\n",
       "56    50\n",
       "62    48\n",
       "75    46\n",
       "16    43\n",
       "71    42\n",
       "40    41\n",
       "Name: ProductId, dtype: int64"
      ]
     },
     "execution_count": 126,
     "metadata": {},
     "output_type": "execute_result"
    }
   ],
   "source": [
    "#Will keep top 10 best seller product rows\n",
    "top10 = (dfBestSeller2['ProductId'] == 60) | (dfBestSeller2['ProductId'] == 59) | (dfBestSeller2['ProductId'] == 31) | (dfBestSeller2['ProductId'] == 56) | (dfBestSeller2['ProductId'] == 16) | (dfBestSeller2['ProductId'] == 75) | (dfBestSeller2['ProductId'] == 24) | (dfBestSeller2['ProductId'] == 40) | (dfBestSeller2['ProductId'] == 62) | (dfBestSeller2['ProductId'] == 71)\n",
    "\n",
    "dftop10 = dfBestSeller2.loc[top10]\n",
    "dftop10['ProductId'].value_counts()"
   ]
  },
  {
   "cell_type": "code",
   "execution_count": 127,
   "metadata": {
    "collapsed": true
   },
   "outputs": [
    {
     "name": "stdout",
     "output_type": "stream",
     "text": [
      "<class 'pandas.core.frame.DataFrame'>\n",
      "Int64Index: 477 entries, 13 to 2153\n",
      "Data columns (total 5 columns):\n",
      "ProductId       477 non-null int64\n",
      "ProductName     477 non-null object\n",
      "CategoryId      477 non-null int64\n",
      "CategoryName    477 non-null object\n",
      "Quantity        477 non-null int64\n",
      "dtypes: int64(3), object(2)\n",
      "memory usage: 22.4+ KB\n"
     ]
    }
   ],
   "source": [
    "dftop10.info()"
   ]
  },
  {
   "cell_type": "code",
   "execution_count": 291,
   "metadata": {
    "scrolled": true
   },
   "outputs": [
    {
     "data": {
      "image/png": "[encoded data removed]",
      "text/plain": [
       "<Figure size 360x360 with 1 Axes>"
      ]
     },
     "metadata": {},
     "output_type": "display_data"
    }
   ],
   "source": [
    "#Visualize the mean of top 10 product sales \n",
    "plt.figure(figsize=(5,5))\n",
    "ax = sns.barplot(x=\"ProductId\", y=\"Quantity\", data=dftop10)"
   ]
  },
  {
   "cell_type": "markdown",
   "metadata": {},
   "source": [
    "> We can see that the mean of units sold between product Ids are pretty similar. We will conduct a hypothesis test to confirm if the means are actually similar or if these similarities are due to chance."
   ]
  },
  {
   "cell_type": "markdown",
   "metadata": {},
   "source": [
    "##### Visually check normality"
   ]
  },
  {
   "cell_type": "code",
   "execution_count": 114,
   "metadata": {
    "scrolled": true
   },
   "outputs": [
    {
     "data": {
      "image/png": "[encoded data removed]",
      "text/plain": [
       "<Figure size 864x216 with 10 Axes>"
      ]
     },
     "metadata": {},
     "output_type": "display_data"
    }
   ],
   "source": [
    "PIds = [60, 59, 31, 56, 16, 75, 24, 40, 62, 71]\n",
    "\n",
    "fig, axes = plt.subplots(2,5, figsize=(12, 3))\n",
    "plt.subplots_adjust(hspace = 0.3, wspace = 0.5)\n",
    "\n",
    "for i, ax in zip(PIds, axes.flat):\n",
    "    df = dfBestSeller2.loc[dfBestSeller2['ProductId'] == i]['Quantity']\n",
    "    sns.distplot(df, ax=ax)\n",
    "plt.show()"
   ]
  },
  {
   "cell_type": "markdown",
   "metadata": {},
   "source": [
    "##### Shapiro test to check normality\n",
    "- H0: distribution is normal\n",
    "- Ha: distribution is not normal"
   ]
  },
  {
   "cell_type": "code",
   "execution_count": 115,
   "metadata": {
    "collapsed": true
   },
   "outputs": [
    {
     "name": "stdout",
     "output_type": "stream",
     "text": [
      "1.(0.9093694686889648, 0.0008774914313107729)\n",
      "2.(0.8504878282546997, 8.21371122583514e-06)\n",
      "3.(0.9390310645103455, 0.011232258751988411)\n",
      "4.(0.8743551969528198, 7.575890776934102e-05)\n",
      "5.(0.9496062994003296, 0.05767016485333443)\n",
      "6.(0.8007105588912964, 2.0126001345488476e-06)\n",
      "7.(0.6939018964767456, 5.095299737689629e-09)\n",
      "8.(0.9039749503135681, 0.002176965121179819)\n",
      "9.(0.8706983327865601, 8.089869515970349e-05)\n",
      "10.(0.8940113186836243, 0.0009574673022143543)\n"
     ]
    }
   ],
   "source": [
    "PIds = [60, 59, 31, 56, 16, 75, 24, 40, 62, 71]\n",
    "for i, value in enumerate(PIds):\n",
    "    df = dfBestSeller2.loc[dfBestSeller2['ProductId'] == value]['Quantity']\n",
    "    print('{}.{}'.format(i+1,scs.shapiro(df)))"
   ]
  },
  {
   "cell_type": "markdown",
   "metadata": {},
   "source": [
    "> Shapiro test p-values < 0.05; therefore, we reject the null hypothesis (normality assumption is not met). \n",
    "We will continue using an ANOVA test since our sample sizes are the same and ANOVA remains robust under that condition"
   ]
  },
  {
   "cell_type": "markdown",
   "metadata": {},
   "source": [
    "## ANOVA"
   ]
  },
  {
   "cell_type": "code",
   "execution_count": 123,
   "metadata": {},
   "outputs": [],
   "source": [
    "#Create same size sample groups to ensure reliable results\n",
    "PIds = [60, 59, 31, 56, 16, 75, 24, 40, 62, 71]\n",
    "dfANOVA = pd.DataFrame() #creates a new dataframe that's empty\n",
    "for i, value in enumerate(PIds):\n",
    "    df = dfBestSeller2.loc[dfBestSeller2['ProductId'] == value]\n",
    "    sample = df.sample(replace=False, n=40)\n",
    "    dfANOVA = dfANOVA.append(sample, ignore_index = True)"
   ]
  },
  {
   "cell_type": "code",
   "execution_count": 124,
   "metadata": {
    "collapsed": true
   },
   "outputs": [
    {
     "data": {
      "text/plain": [
       "75    40\n",
       "71    40\n",
       "62    40\n",
       "60    40\n",
       "59    40\n",
       "56    40\n",
       "40    40\n",
       "31    40\n",
       "24    40\n",
       "16    40\n",
       "Name: ProductId, dtype: int64"
      ]
     },
     "execution_count": 124,
     "metadata": {},
     "output_type": "execute_result"
    }
   ],
   "source": [
    "dfANOVA['ProductId'].value_counts()"
   ]
  },
  {
   "cell_type": "code",
   "execution_count": 125,
   "metadata": {},
   "outputs": [
    {
     "name": "stdout",
     "output_type": "stream",
     "text": [
      "                   sum_sq     df         F   PR(>F)\n",
      "C(ProductId)    1318.2525    9.0  0.373602  0.94741\n",
      "Residual      152901.3250  390.0       NaN      NaN\n"
     ]
    }
   ],
   "source": [
    "#ANOVA\n",
    "formula = 'Quantity ~ C(ProductId)'\n",
    "lm = ols(formula, dfANOVA).fit()\n",
    "table = sm.stats.anova_lm(lm, typ=2)\n",
    "print(table)"
   ]
  },
  {
   "cell_type": "markdown",
   "metadata": {},
   "source": [
    "> - F-statistic for ANOVA is greater than 0.05 (our alpha level) therefore we fail to reject the null hypothesis. We have significant evidence to confirm that there is no difference between the means of the top 10 best seller products.\n",
    "- Since group sizes were equal there is no need to confirm normality of residuals and equal variances of residuals since ANOVA test remains robust for such violations (if they existed)"
   ]
  },
  {
   "cell_type": "markdown",
   "metadata": {},
   "source": [
    "## Conclusions, Business Recommendations & Future Work"
   ]
  },
  {
   "cell_type": "markdown",
   "metadata": {},
   "source": [
    "##### Conclusions\n",
    "- Shapiro test p-values < 0.05; therefore, we rejected the null hypothesis (normality assumption is not met). \n",
    "- We used an ANOVA test since our sample sizes were the same and ANOVA remains robust under that condition\n",
    "- ANOVA test was used to analyze the differences (if any) between mean sales of the top 10 best seller products\n",
    "- F-Statistic > 0.05, therefore we do have significant evidence to reject H0.\n",
    "- The conclusion of this experiment is that among the top 10 best seller products, there is no particular product driving sales. Therefore, we can conclude that Northwind customers are not loyal to the company due to the availability of a particular product."
   ]
  },
  {
   "cell_type": "markdown",
   "metadata": {},
   "source": [
    "##### Business Recommendations\n",
    "- Study the marketing campaigns used for the top 10 best seller products and learn from them as they all have similar effect in sales\n",
    "- Negotiate better terms with top 10 best seller product suppliers\n",
    "- Continue collecting data for the top 10 best seller to perform product-pairs that significantly influence product sales"
   ]
  },
  {
   "cell_type": "markdown",
   "metadata": {},
   "source": [
    "##### Future Work\n",
    "- Study the product pairs that improve sales"
   ]
  },
  {
   "cell_type": "markdown",
   "metadata": {},
   "source": [
    "# Hypothesis 5 - Effect of Discount on Product Quantity Sales\n",
    "\n",
    "- H0: There is no difference between the mean quantity products sold with discounts and without discounts\n",
    "\n",
    "> $H_0: \\mu_d = \\mu_n$\n",
    "\n",
    "- Ha: The mean of the quantity of products sold with discounts is different than the mean of the quantity of products sold without discount\n",
    "\n",
    "> $H_a:  \\mu_d  !=  \\mu_n$"
   ]
  },
  {
   "cell_type": "markdown",
   "metadata": {},
   "source": [
    "## Data Exploration"
   ]
  },
  {
   "cell_type": "code",
   "execution_count": 7,
   "metadata": {},
   "outputs": [],
   "source": [
    "dfOrderDetail = pd.read_sql_query('''SELECT * FROM 'OrderDetail'\n",
    "                            ;''', cnx)"
   ]
  },
  {
   "cell_type": "code",
   "execution_count": 9,
   "metadata": {
    "collapsed": true
   },
   "outputs": [
    {
     "data": {
      "text/plain": [
       "0.00    1317\n",
       "0.05     185\n",
       "0.10     173\n",
       "0.20     161\n",
       "0.15     157\n",
       "0.25     154\n",
       "0.03       3\n",
       "0.02       2\n",
       "0.01       1\n",
       "0.04       1\n",
       "0.06       1\n",
       "Name: Discount, dtype: int64"
      ]
     },
     "execution_count": 9,
     "metadata": {},
     "output_type": "execute_result"
    }
   ],
   "source": [
    "#Check the number of products with discounts and their level\n",
    "dfOrderDetail['Discount'].value_counts()"
   ]
  },
  {
   "cell_type": "code",
   "execution_count": 15,
   "metadata": {
    "collapsed": true
   },
   "outputs": [
    {
     "data": {
      "text/plain": [
       "0.00    1317\n",
       "0.05     185\n",
       "0.10     173\n",
       "0.20     161\n",
       "0.15     157\n",
       "0.25     154\n",
       "Name: Discount, dtype: int64"
      ]
     },
     "execution_count": 15,
     "metadata": {},
     "output_type": "execute_result"
    }
   ],
   "source": [
    "#Will keep rows with significant number of row counts to have a better testing\n",
    "DiscountLevel = (dfOrderDetail['Discount'] == 0.00) | (dfOrderDetail['Discount'] == 0.05) | (dfOrderDetail['Discount'] == 0.10) | (dfOrderDetail['Discount'] == 0.15) | (dfOrderDetail['Discount'] == 0.20) | (dfOrderDetail['Discount'] == 0.25)\n",
    "\n",
    "discountdf = dfOrderDetail.loc[DiscountLevel]\n",
    "discountdf['Discount'].value_counts()"
   ]
  },
  {
   "cell_type": "markdown",
   "metadata": {},
   "source": [
    "> Sample size between discount levels are very similar, which will make it ideal for the hypothesis testing. \n",
    "We will use the ANOVA test, which remains pretty robust for same size samples."
   ]
  },
  {
   "cell_type": "code",
   "execution_count": 18,
   "metadata": {
    "collapsed": true
   },
   "outputs": [
    {
     "data": {
      "image/png": "[encoded data removed]",
      "text/plain": [
       "<Figure size 576x360 with 1 Axes>"
      ]
     },
     "metadata": {},
     "output_type": "display_data"
    }
   ],
   "source": [
    "#Check for outliers in the data\n",
    "discountdf.boxplot('Quantity', by='Discount', figsize=(8, 5));"
   ]
  },
  {
   "cell_type": "markdown",
   "metadata": {},
   "source": [
    "> No significant outliers in the data"
   ]
  },
  {
   "cell_type": "markdown",
   "metadata": {},
   "source": [
    "##### Visually check normality"
   ]
  },
  {
   "cell_type": "code",
   "execution_count": 20,
   "metadata": {},
   "outputs": [
    {
     "data": {
      "image/png": "[encoded data removed]",
      "text/plain": [
       "<Figure size 576x360 with 6 Axes>"
      ]
     },
     "metadata": {},
     "output_type": "display_data"
    }
   ],
   "source": [
    "discountLevel = [0.00, 0.05, 0.10 , 0.15, 0.20, 0.25]\n",
    "\n",
    "fig, axes = plt.subplots(2,3, figsize=(8, 5))\n",
    "plt.subplots_adjust(hspace = 0.3, wspace = 0.5)\n",
    "\n",
    "for i, ax in zip(discountLevel, axes.flat):\n",
    "    df = discountdf.loc[discountdf['Discount'] == i]['Quantity']\n",
    "    sns.distplot(df, ax=ax)\n",
    "plt.show()"
   ]
  },
  {
   "cell_type": "markdown",
   "metadata": {},
   "source": [
    "##### Shapiro test to check normality\n",
    "- H0: distribution is normal\n",
    "- Ha: distribution is not normal"
   ]
  },
  {
   "cell_type": "code",
   "execution_count": 21,
   "metadata": {},
   "outputs": [
    {
     "name": "stdout",
     "output_type": "stream",
     "text": [
      "1.(0.8434571027755737, 3.803856556577728e-34)\n",
      "2.(0.8356332778930664, 3.5543719660233175e-13)\n",
      "3.(0.8002723455429077, 4.159971249851485e-14)\n",
      "4.(0.8827876448631287, 8.372069704165597e-10)\n",
      "5.(0.9130357503890991, 3.249125413162801e-08)\n",
      "6.(0.8902021646499634, 2.6962121424389807e-09)\n"
     ]
    }
   ],
   "source": [
    "discountLevel = [0.00, 0.05, 0.10 , 0.15, 0.20, 0.25]\n",
    "for i, value in enumerate(discountLevel):\n",
    "    df = discountdf.loc[discountdf['Discount'] == value]['Quantity']\n",
    "    print('{}.{}'.format(i+1,scs.shapiro(df)))"
   ]
  },
  {
   "cell_type": "markdown",
   "metadata": {},
   "source": [
    "> Shapiro test shows that sample groups are not normal. We will continue with the ANOVA test since the group sizes are equal and ANOVA remains robust to normality violations with same group sizes."
   ]
  },
  {
   "cell_type": "markdown",
   "metadata": {},
   "source": [
    "## ANOVA\n",
    "\n",
    "- An ANOVA test will be used to check if any of the mean quantity products differ by discount level\n",
    "- Equal variance and normality assumptions were not met, but ANOVA remains robust for equal sized sample groups"
   ]
  },
  {
   "cell_type": "code",
   "execution_count": 81,
   "metadata": {},
   "outputs": [],
   "source": [
    "#Create same size sample groups to ensure reliable results\n",
    "discountLevel = [0.00, 0.05, 0.10 , 0.15, 0.20, 0.25]\n",
    "dfANOVA = pd.DataFrame() #creates a new dataframe that's empty\n",
    "for i, value in enumerate(discountLevel):\n",
    "    df = discountdf.loc[discountdf['Discount'] == value]\n",
    "    sample = df.sample(replace=False, n=154)\n",
    "    dfANOVA = dfANOVA.append(sample, ignore_index = True)"
   ]
  },
  {
   "cell_type": "code",
   "execution_count": 31,
   "metadata": {
    "collapsed": true
   },
   "outputs": [
    {
     "data": {
      "text/plain": [
       "0.10    154\n",
       "0.15    154\n",
       "0.20    154\n",
       "0.05    154\n",
       "0.25    154\n",
       "0.00    154\n",
       "Name: Discount, dtype: int64"
      ]
     },
     "execution_count": 31,
     "metadata": {},
     "output_type": "execute_result"
    }
   ],
   "source": [
    "dfANOVA['Discount'].value_counts()"
   ]
  },
  {
   "cell_type": "code",
   "execution_count": 44,
   "metadata": {},
   "outputs": [
    {
     "name": "stdout",
     "output_type": "stream",
     "text": [
      "                    sum_sq     df         F    PR(>F)\n",
      "C(Discount)   12352.343074    5.0  6.178832  0.000012\n",
      "Residual     367041.902597  918.0       NaN       NaN\n"
     ]
    }
   ],
   "source": [
    "#ANOVA\n",
    "formula = 'Quantity ~ C(Discount)'\n",
    "lm = ols(formula, dfANOVA).fit()\n",
    "table = sm.stats.anova_lm(lm, typ=2)\n",
    "print(table)"
   ]
  },
  {
   "cell_type": "markdown",
   "metadata": {},
   "source": [
    "> The ANOVA test p-value < 0.05, therefore we have enough evidence to reject H0 and infere that discount have some influence in the quantity of products sold"
   ]
  },
  {
   "cell_type": "markdown",
   "metadata": {},
   "source": [
    "##### Check Effect Size"
   ]
  },
  {
   "cell_type": "code",
   "execution_count": 45,
   "metadata": {},
   "outputs": [
    {
     "data": {
      "text/html": [
       "<div>\n",
       "<style scoped>\n",
       "    .dataframe tbody tr th:only-of-type {\n",
       "        vertical-align: middle;\n",
       "    }\n",
       "\n",
       "    .dataframe tbody tr th {\n",
       "        vertical-align: top;\n",
       "    }\n",
       "\n",
       "    .dataframe thead th {\n",
       "        text-align: right;\n",
       "    }\n",
       "</style>\n",
       "<table border=\"1\" class=\"dataframe\">\n",
       "  <thead>\n",
       "    <tr style=\"text-align: right;\">\n",
       "      <th></th>\n",
       "      <th>sum_sq</th>\n",
       "      <th>df</th>\n",
       "      <th>F</th>\n",
       "      <th>PR(&gt;F)</th>\n",
       "      <th>mean_sq</th>\n",
       "      <th>eta_sq</th>\n",
       "      <th>omega_sq</th>\n",
       "    </tr>\n",
       "  </thead>\n",
       "  <tbody>\n",
       "    <tr>\n",
       "      <th>C(Discount)</th>\n",
       "      <td>12352.343074</td>\n",
       "      <td>5.0</td>\n",
       "      <td>6.178832</td>\n",
       "      <td>0.000012</td>\n",
       "      <td>2470.468615</td>\n",
       "      <td>0.032558</td>\n",
       "      <td>0.02726</td>\n",
       "    </tr>\n",
       "    <tr>\n",
       "      <th>Residual</th>\n",
       "      <td>367041.902597</td>\n",
       "      <td>918.0</td>\n",
       "      <td>NaN</td>\n",
       "      <td>NaN</td>\n",
       "      <td>399.827781</td>\n",
       "      <td>NaN</td>\n",
       "      <td>NaN</td>\n",
       "    </tr>\n",
       "  </tbody>\n",
       "</table>\n",
       "</div>"
      ],
      "text/plain": [
       "                    sum_sq     df         F    PR(>F)      mean_sq    eta_sq  \\\n",
       "C(Discount)   12352.343074    5.0  6.178832  0.000012  2470.468615  0.032558   \n",
       "Residual     367041.902597  918.0       NaN       NaN   399.827781       NaN   \n",
       "\n",
       "             omega_sq  \n",
       "C(Discount)   0.02726  \n",
       "Residual          NaN  "
      ]
     },
     "execution_count": 45,
     "metadata": {},
     "output_type": "execute_result"
    }
   ],
   "source": [
    "#This code was taken from Britta Bettendorf Notebook\n",
    "#GitHub https://github.com/BrittaInData\n",
    "\n",
    "def anova_effect_size(aov):       \n",
    "    \"\"\" This function takes the Anova table performed with statsmodels\n",
    "    and appends two effect size measures: eta-squared and omega-squared. \"\"\"\n",
    "    \n",
    "    # mean squared\n",
    "    aov['mean_sq'] = aov[:]['sum_sq']/aov[:]['df']\n",
    "    \n",
    "    # eta-squared (η2) \n",
    "    aov['eta_sq'] = aov[:-1]['sum_sq']/sum(aov['sum_sq'])\n",
    "    \n",
    "    # omega-squared (ω2)\n",
    "    num = (aov[:-1]['sum_sq'] - (aov[:-1]['df']*aov['mean_sq'][-1]))\n",
    "    denom = (sum(aov['sum_sq']) + aov['mean_sq'][-1])\n",
    "    aov['omega_sq'] = num / denom    \n",
    "    \n",
    "    return aov\n",
    "\n",
    "anova_effect_size(table)"
   ]
  },
  {
   "cell_type": "markdown",
   "metadata": {},
   "source": [
    "> According to both measures (around 0.03), the discount only has a small effect. Will check which discount level is the most different."
   ]
  },
  {
   "cell_type": "markdown",
   "metadata": {},
   "source": [
    "##### Post-Hoc Testing\n",
    "Will use a tukey test to see which discount has the most significant influence"
   ]
  },
  {
   "cell_type": "code",
   "execution_count": 46,
   "metadata": {},
   "outputs": [],
   "source": [
    "from statsmodels.stats.multicomp import pairwise_tukeyhsd, MultiComparison"
   ]
  },
  {
   "cell_type": "code",
   "execution_count": 49,
   "metadata": {},
   "outputs": [],
   "source": [
    "mod = MultiComparison(dfANOVA.Quantity, dfANOVA.Discount)\n",
    "mc_results = mod.tukeyhsd()"
   ]
  },
  {
   "cell_type": "code",
   "execution_count": 50,
   "metadata": {
    "collapsed": true
   },
   "outputs": [
    {
     "name": "stdout",
     "output_type": "stream",
     "text": [
      "Multiple Comparison of Means - Tukey HSD,FWER=0.05\n",
      "=============================================\n",
      "group1 group2 meandiff  lower   upper  reject\n",
      "---------------------------------------------\n",
      " 0.0    0.05   9.7468   3.2394 16.2541  True \n",
      " 0.0    0.1    7.2922   0.7848 13.7996  True \n",
      " 0.0    0.15  10.6299   4.1225 17.1373  True \n",
      " 0.0    0.2    9.0195   2.5121 15.5269  True \n",
      " 0.0    0.25  10.2143   3.7069 16.7217  True \n",
      " 0.05   0.1   -2.4545  -8.9619  4.0528 False \n",
      " 0.05   0.15   0.8831  -5.6243  7.3905 False \n",
      " 0.05   0.2   -0.7273  -7.2347  5.7801 False \n",
      " 0.05   0.25   0.4675  -6.0399  6.9749 False \n",
      " 0.1    0.15   3.3377  -3.1697  9.845  False \n",
      " 0.1    0.2    1.7273  -4.7801  8.2347 False \n",
      " 0.1    0.25   2.9221  -3.5853  9.4295 False \n",
      " 0.15   0.2   -1.6104  -8.1178  4.897  False \n",
      " 0.15   0.25  -0.4156   -6.923  6.0918 False \n",
      " 0.2    0.25   1.1948  -5.3126  7.7022 False \n",
      "---------------------------------------------\n"
     ]
    }
   ],
   "source": [
    "print(mod.tukeyhsd())"
   ]
  },
  {
   "cell_type": "code",
   "execution_count": 51,
   "metadata": {
    "scrolled": true
   },
   "outputs": [
    {
     "data": {
      "image/png": "[encoded data removed]",
      "text/plain": [
       "<Figure size 432x288 with 1 Axes>"
      ]
     },
     "metadata": {},
     "output_type": "display_data"
    }
   ],
   "source": [
    "#Visiualize significant differences in a plot with one confidence interval per group\n",
    "mc_results.plot_simultaneous(comparison_name=0.0, figsize=(6,4), \n",
    "                             ylabel='Discount Level\\n', xlabel='\\nAverage Number of Products in Order');"
   ]
  },
  {
   "cell_type": "markdown",
   "metadata": {},
   "source": [
    "> TukeyHSDResults.plot_simultaneous color in RED all significantly different groups. The most different one (the one with higher number of products in order) is 0.15 discount level."
   ]
  },
  {
   "cell_type": "markdown",
   "metadata": {},
   "source": [
    "## Conclusions, Business Recommendations & Future Work"
   ]
  },
  {
   "cell_type": "code",
   "execution_count": null,
   "metadata": {},
   "outputs": [],
   "source": []
  },
  {
   "cell_type": "code",
   "execution_count": null,
   "metadata": {},
   "outputs": [],
   "source": []
  }
 ],
 "metadata": {
  "kernelspec": {
   "display_name": "Python 3",
   "language": "python",
   "name": "python3"
  },
  "language_info": {
   "codemirror_mode": {
    "name": "ipython",
    "version": 3
   },
   "file_extension": ".py",
   "mimetype": "text/x-python",
   "name": "python",
   "nbconvert_exporter": "python",
   "pygments_lexer": "ipython3",
   "version": "3.7.3"
  },
  "toc": {
   "base_numbering": 1,
   "nav_menu": {},
   "number_sections": true,
   "sideBar": true,
   "skip_h1_title": false,
   "title_cell": "Table of Contents",
   "title_sidebar": "Contents",
   "toc_cell": false,
   "toc_position": {
    "height": "calc(100% - 180px)",
    "left": "10px",
    "top": "150px",
    "width": "273.188px"
   },
   "toc_section_display": true,
   "toc_window_display": true
  }
 },
 "nbformat": 4,
 "nbformat_minor": 2
}
