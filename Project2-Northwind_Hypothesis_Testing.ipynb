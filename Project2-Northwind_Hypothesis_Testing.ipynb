{
 "cells": [
  {
   "cell_type": "markdown",
   "metadata": {},
   "source": [
    "## Final Project Module 3: Statistical Analysis and Hypothesis Testing\n",
    "\n",
    "\n",
    "* Student name: Francis Morales\n",
    "* Instructor name: Eli Thomas\n",
    "* Blog post URL: \n",
    "* Presentation Link:\n"
   ]
  },
  {
   "cell_type": "markdown",
   "metadata": {},
   "source": [
    "## Project Northwind Database"
   ]
  },
  {
   "cell_type": "markdown",
   "metadata": {},
   "source": [
    "<img src=\"Northwind_ERD_updated.png\" height=\"100%\" width=\"100%\">"
   ]
  },
  {
   "cell_type": "code",
   "execution_count": 233,
   "metadata": {},
   "outputs": [],
   "source": [
    "# import libraries\n",
    "import pandas as pd\n",
    "import numpy as np\n",
    "import sqlite3 as sql\n",
    "\n",
    "import scipy.stats as scs\n",
    "import matplotlib.pyplot as plt\n",
    "import seaborn as sns\n",
    "plt.style.use('seaborn')"
   ]
  },
  {
   "cell_type": "code",
   "execution_count": 160,
   "metadata": {},
   "outputs": [],
   "source": [
    "# Create a connection object that represents the database\n",
    "cnx = sql.connect(r'Northwind_small.sqlite')\n",
    "#Create a cursor instance to use execute/fetchall methods\n",
    "c = cnx.cursor()"
   ]
  },
  {
   "cell_type": "code",
   "execution_count": 14,
   "metadata": {
    "scrolled": true
   },
   "outputs": [
    {
     "data": {
      "text/plain": [
       "[('Employee',),\n",
       " ('Category',),\n",
       " ('Customer',),\n",
       " ('Shipper',),\n",
       " ('Supplier',),\n",
       " ('Order',),\n",
       " ('Product',),\n",
       " ('OrderDetail',),\n",
       " ('CustomerCustomerDemo',),\n",
       " ('CustomerDemographic',),\n",
       " ('Region',),\n",
       " ('Territory',),\n",
       " ('EmployeeTerritory',)]"
      ]
     },
     "execution_count": 14,
     "metadata": {},
     "output_type": "execute_result"
    }
   ],
   "source": [
    "#Every SQLite database has an SQLITE_MASTER table that defines the schema for the database\n",
    "#For tables, the type field will always be 'table' and the name field will be the name of the table\n",
    "c.execute(''' SELECT name FROM sqlite_master WHERE type = 'table';''')\n",
    "\n",
    "table_names = c.fetchall()\n",
    "table_names"
   ]
  },
  {
   "cell_type": "code",
   "execution_count": 258,
   "metadata": {},
   "outputs": [],
   "source": [
    "#Function taken from BRITTA BETTENDORF\n",
    "#Function that prints the columns of a table and each column's type\n",
    "def get_columns_info(table_name):    \n",
    "    \"\"\" Function takes in table name and prints columns' names\n",
    "    and datatypes \"\"\"\n",
    "    \n",
    "    cols_list = inspector.get_columns(table_name)    \n",
    "    print(f\"Table Name: {table_name}\\n\")\n",
    "    for col in cols_list:\n",
    "        print(f\"Name: {col['name']} \\t Type: {col['type']}\")"
   ]
  },
  {
   "cell_type": "code",
   "execution_count": null,
   "metadata": {},
   "outputs": [],
   "source": []
  },
  {
   "cell_type": "markdown",
   "metadata": {},
   "source": [
    "## Hypothesis 1 - Do customers with more orders placed generate higher sales amounts?\n",
    "- $H_0: \\mu_1 = \\mu_2$ Customers with more orders placed spend the same amount on average as customers with less orders placed\n",
    "- $H_a: \\mu_1 > \\mu_2$ Customers with more orders placed spend more than customers with less orders placed"
   ]
  },
  {
   "cell_type": "markdown",
   "metadata": {},
   "source": [
    "### Data Exploration"
   ]
  },
  {
   "cell_type": "code",
   "execution_count": 261,
   "metadata": {},
   "outputs": [],
   "source": [
    "#Get the total sales amount per customer ID\n",
    "#Get the count of number of orders placed by customer\n",
    "\n",
    "data1 = pd.read_sql_query('''SELECT o.CustomerId, \n",
    "                            SUM((od.UnitPrice * od.Quantity) - (od.UnitPrice * od.Quantity * od.Discount )) as 'TotalAmount',\n",
    "                            COUNT(o.Id) as 'CountOrders'\n",
    "                            FROM 'Order' o\n",
    "                            JOIN 'OrderDetail' od ON o.Id = od.OrderId\n",
    "                            GROUP BY o.CustomerId\n",
    "                            ;''', cnx)"
   ]
  },
  {
   "cell_type": "code",
   "execution_count": 263,
   "metadata": {},
   "outputs": [
    {
     "name": "stdout",
     "output_type": "stream",
     "text": [
      "<class 'pandas.core.frame.DataFrame'>\n",
      "RangeIndex: 89 entries, 0 to 88\n",
      "Data columns (total 3 columns):\n",
      "CustomerId     89 non-null object\n",
      "TotalAmount    89 non-null float64\n",
      "CountOrders    89 non-null int64\n",
      "dtypes: float64(1), int64(1), object(1)\n",
      "memory usage: 2.2+ KB\n"
     ]
    }
   ],
   "source": [
    "data1.info()"
   ]
  },
  {
   "cell_type": "code",
   "execution_count": 277,
   "metadata": {},
   "outputs": [
    {
     "data": {
      "text/html": [
       "<div>\n",
       "<style scoped>\n",
       "    .dataframe tbody tr th:only-of-type {\n",
       "        vertical-align: middle;\n",
       "    }\n",
       "\n",
       "    .dataframe tbody tr th {\n",
       "        vertical-align: top;\n",
       "    }\n",
       "\n",
       "    .dataframe thead th {\n",
       "        text-align: right;\n",
       "    }\n",
       "</style>\n",
       "<table border=\"1\" class=\"dataframe\">\n",
       "  <thead>\n",
       "    <tr style=\"text-align: right;\">\n",
       "      <th></th>\n",
       "      <th>CustomerId</th>\n",
       "      <th>TotalAmount</th>\n",
       "      <th>CountOrders</th>\n",
       "    </tr>\n",
       "  </thead>\n",
       "  <tbody>\n",
       "    <tr>\n",
       "      <th>0</th>\n",
       "      <td>ALFKI</td>\n",
       "      <td>4273.0000</td>\n",
       "      <td>12</td>\n",
       "    </tr>\n",
       "    <tr>\n",
       "      <th>1</th>\n",
       "      <td>ANATR</td>\n",
       "      <td>1402.9500</td>\n",
       "      <td>10</td>\n",
       "    </tr>\n",
       "    <tr>\n",
       "      <th>2</th>\n",
       "      <td>ANTO</td>\n",
       "      <td>7023.9775</td>\n",
       "      <td>17</td>\n",
       "    </tr>\n",
       "    <tr>\n",
       "      <th>3</th>\n",
       "      <td>AROUT</td>\n",
       "      <td>13390.6500</td>\n",
       "      <td>30</td>\n",
       "    </tr>\n",
       "    <tr>\n",
       "      <th>4</th>\n",
       "      <td>BERGS</td>\n",
       "      <td>24927.5775</td>\n",
       "      <td>52</td>\n",
       "    </tr>\n",
       "  </tbody>\n",
       "</table>\n",
       "</div>"
      ],
      "text/plain": [
       "  CustomerId  TotalAmount  CountOrders\n",
       "0      ALFKI    4273.0000           12\n",
       "1      ANATR    1402.9500           10\n",
       "2       ANTO    7023.9775           17\n",
       "3      AROUT   13390.6500           30\n",
       "4      BERGS   24927.5775           52"
      ]
     },
     "execution_count": 277,
     "metadata": {},
     "output_type": "execute_result"
    }
   ],
   "source": [
    "data1.head()"
   ]
  },
  {
   "cell_type": "code",
   "execution_count": 264,
   "metadata": {},
   "outputs": [
    {
     "data": {
      "text/plain": [
       "20.0"
      ]
     },
     "execution_count": 264,
     "metadata": {},
     "output_type": "execute_result"
    }
   ],
   "source": [
    "#get the median of frequency orders to create the samples\n",
    "data1['CountOrders'].median()"
   ]
  },
  {
   "cell_type": "code",
   "execution_count": 265,
   "metadata": {},
   "outputs": [],
   "source": [
    "#create 2 sample groups \n",
    "#sample groups are divided by the median order frequency (our independent variable)\n",
    "#This will allow to check if the TotalAmount means between groups are significantly different\n",
    "high_frequency = data1.loc[data1['CountOrders'] > data1['CountOrders'].median()]\n",
    "low_frequency = data1.loc[data1['CountOrders'] <= data1['CountOrders'].median()]"
   ]
  },
  {
   "cell_type": "markdown",
   "metadata": {},
   "source": [
    "#### Histogram to check normality"
   ]
  },
  {
   "cell_type": "code",
   "execution_count": 274,
   "metadata": {},
   "outputs": [
    {
     "data": {
      "image/png": "[encoded data removed]",
      "text/plain": [
       "<Figure size 576x396 with 2 Axes>"
      ]
     },
     "metadata": {},
     "output_type": "display_data"
    }
   ],
   "source": [
    "#Check normality in data\n",
    "fig, (ax1, ax2) = plt.subplots(1,2)\n",
    "\n",
    "ax1.hist(low_frequency['TotalAmount'], bins=20, color='b', alpha=0.7, label='low frequency customers')\n",
    "ax1.set_xlabel('\\nTotal Amount for Low Freq Customers', fontweight='bold')\n",
    "ax1.set_ylabel('Num of Customers\\n')\n",
    "ax1.legend()\n",
    "\n",
    "ax2.hist(high_frequency['TotalAmount'], bins=20, color='r', alpha=0.7, label='high frequency customers')\n",
    "ax2.set_xlabel('\\nTotal Amount for High Freq Customers', fontweight='bold')\n",
    "ax2.legend();"
   ]
  },
  {
   "cell_type": "markdown",
   "metadata": {},
   "source": [
    "#### Shapiro test to check normality\n",
    "- H0: distribution is normal\n",
    "- Ha: distribution is not normal"
   ]
  },
  {
   "cell_type": "code",
   "execution_count": 276,
   "metadata": {},
   "outputs": [
    {
     "name": "stdout",
     "output_type": "stream",
     "text": [
      "(0.6320275068283081, 3.807205661843227e-09) (0.8364682793617249, 1.392168542224681e-05)\n"
     ]
    }
   ],
   "source": [
    "print(scs.shapiro(high_frequency['TotalAmount']), scs.shapiro(low_frequency['TotalAmount']))"
   ]
  },
  {
   "cell_type": "markdown",
   "metadata": {},
   "source": [
    "> With p-values below the alpha level (0.05) we reject H0 and have significant evidence to assume that the samples do not follow a normal distribution."
   ]
  },
  {
   "cell_type": "markdown",
   "metadata": {},
   "source": [
    "#### Levene test to check for equal variances\n",
    "- H0: v1=v2\n",
    "\n",
    "- Ha: v1!=v2"
   ]
  },
  {
   "cell_type": "code",
   "execution_count": 275,
   "metadata": {},
   "outputs": [
    {
     "data": {
      "text/plain": [
       "LeveneResult(statistic=11.818379956321802, pvalue=0.0009019045930232378)"
      ]
     },
     "execution_count": 275,
     "metadata": {},
     "output_type": "execute_result"
    }
   ],
   "source": [
    "# Levene Test for testing homogeneity of variances\n",
    "# I will be evaluating if the total amount comes from a normal distribution\n",
    "\n",
    "scs.levene(high_frequency['TotalAmount'], low_frequency['TotalAmount'])"
   ]
  },
  {
   "cell_type": "markdown",
   "metadata": {},
   "source": [
    "> We have significant evidence to reject H0 and conclude that the variances in the samples are different.\n",
    "Since the variances between the two groups are not equal, we cannot use a T-test"
   ]
  },
  {
   "cell_type": "markdown",
   "metadata": {},
   "source": [
    "**After inspection of the sample distributions we determined that a non-parametric method will be used since the sample distributions do not comply with the normality and equal variance assumptions.**"
   ]
  },
  {
   "cell_type": "markdown",
   "metadata": {},
   "source": [
    "#### Monte Carlo Simulation"
   ]
  },
  {
   "cell_type": "code",
   "execution_count": 283,
   "metadata": {},
   "outputs": [
    {
     "data": {
      "text/plain": [
       "21086.921466632968"
      ]
     },
     "execution_count": 283,
     "metadata": {},
     "output_type": "execute_result"
    }
   ],
   "source": [
    "#get the mean difference \n",
    "mean_diff = high_frequency['TotalAmount'].mean() - low_frequency['TotalAmount'].mean()\n",
    "mean_diff"
   ]
  },
  {
   "cell_type": "markdown",
   "metadata": {},
   "source": [
    "- On average, high frequency customers spent $21086 more than low frequency customers.\n",
    "- We will take 10000 random sample mean differences from our data and check if the random mean difference is greater than the study mean difference (high_frequency - low_frequency).\n",
    "- If not many random sample mean differences are greater than the study mean difference, then we can conclude that the study mean difference is not due to chance\n",
    "- We also calculate the p-value to check the percentage of random mean differences that are greater than the study mean difference"
   ]
  },
  {
   "cell_type": "code",
   "execution_count": 285,
   "metadata": {},
   "outputs": [],
   "source": [
    "#Monte Carlo Simulation\n",
    "sample_diffs = []\n",
    "counter = 0\n",
    "\n",
    "for i in range(10000):\n",
    "    sample_high = data1.sample(replace=False, n=len(high_frequency['TotalAmount']))\n",
    "    sample_low = data1.drop(sample_high.index, axis=0)\n",
    "    sample_diff = sample_high['TotalAmount'].mean() - sample_low['TotalAmount'].mean()\n",
    "    sample_diffs.append(sample_diff)\n",
    "    if sample_diff > mean_diff:\n",
    "        counter += 1"
   ]
  },
  {
   "cell_type": "code",
   "execution_count": 288,
   "metadata": {
    "scrolled": false
   },
   "outputs": [
    {
     "data": {
      "image/png": "[encoded data removed]",
      "text/plain": [
       "<Figure size 576x396 with 1 Axes>"
      ]
     },
     "metadata": {},
     "output_type": "display_data"
    }
   ],
   "source": [
    "plt.hist(sample_diffs)\n",
    "plt.axvline(mean_diff, color = 'k')\n",
    "plt.title(f'p value: {np.round(counter / 10000, 3)}');"
   ]
  },
  {
   "cell_type": "markdown",
   "metadata": {},
   "source": [
    "### Hypothesis 1: Conclusions & Business Recommendations"
   ]
  },
  {
   "cell_type": "markdown",
   "metadata": {},
   "source": [
    "- A Shapiro test and a Levene test were used to check normality and equal variance assumptions. The results from these tests along with the plotted histograms confirmed that the data did not come from a normal distribution \n",
    "- A Monte Carlo simulation was used to evaluate our hypothesis and ensure reliable results\n",
    "- P-value = 0.0, therefore we have significant evidence to reject H0\n",
    "- The final conclusion is that customers with more orders placed spend more than customers with less orders placed"
   ]
  },
  {
   "cell_type": "markdown",
   "metadata": {},
   "source": [
    "## Test 2"
   ]
  },
  {
   "cell_type": "markdown",
   "metadata": {},
   "source": [
    "I want to check the best seller product per region"
   ]
  },
  {
   "cell_type": "code",
   "execution_count": null,
   "metadata": {},
   "outputs": [],
   "source": [
    "#get all the products \n",
    "datatest2 = pd.read_sql_query('''SELECT o.CustomerId, o.OrderDate, \n",
    "                            FROM 'Order' o\n",
    "                            JOIN 'OrderDetail' od ON o.Id = od.OrderId\n",
    "                            GROUP BY o.CustomerId\n",
    "                            ;''', cnx)"
   ]
  },
  {
   "cell_type": "markdown",
   "metadata": {
    "heading_collapsed": true
   },
   "source": [
    "## Francis Hypothesis - Does order handling time affect the sales amount?\n",
    "\n",
    "- H0 = Sales Amount for High order handling time >= Sales Amount for lower handling time \n",
    "- Ha = Sales Amount for High order handling time < Sales Amount for lower order handling time\n",
    "\n",
    "Order handling time = ShippedDate - OrderedDate\n"
   ]
  },
  {
   "cell_type": "code",
   "execution_count": 187,
   "metadata": {
    "hidden": true
   },
   "outputs": [],
   "source": [
    "#Get the total amount per order ID\n",
    "#Get the order handling time in days per order ID\n",
    "#handling time = ShippedDate - OrderDate\n",
    "\n",
    "data = pd.read_sql_query('''SELECT o.Id as OrderId, o.CustomerId, o.OrderDate, o.ShippedDate, \n",
    "                            julianday(o.ShippedDate) - julianday(o.OrderDate) as \"HandlingTime\",\n",
    "                            SUM((od.UnitPrice * od.Quantity) - (od.UnitPrice * od.Quantity * od.Discount )) as 'TotalAmount'\n",
    "                            FROM 'Order' o\n",
    "                            JOIN 'OrderDetail' od ON o.Id = od.OrderId\n",
    "                            GROUP BY o.Id\n",
    "                            ;''', cnx)"
   ]
  },
  {
   "cell_type": "code",
   "execution_count": 188,
   "metadata": {
    "hidden": true
   },
   "outputs": [
    {
     "data": {
      "text/html": [
       "<div>\n",
       "<style scoped>\n",
       "    .dataframe tbody tr th:only-of-type {\n",
       "        vertical-align: middle;\n",
       "    }\n",
       "\n",
       "    .dataframe tbody tr th {\n",
       "        vertical-align: top;\n",
       "    }\n",
       "\n",
       "    .dataframe thead th {\n",
       "        text-align: right;\n",
       "    }\n",
       "</style>\n",
       "<table border=\"1\" class=\"dataframe\">\n",
       "  <thead>\n",
       "    <tr style=\"text-align: right;\">\n",
       "      <th></th>\n",
       "      <th>OrderId</th>\n",
       "      <th>CustomerId</th>\n",
       "      <th>OrderDate</th>\n",
       "      <th>ShippedDate</th>\n",
       "      <th>HandlingTime</th>\n",
       "      <th>TotalAmount</th>\n",
       "    </tr>\n",
       "  </thead>\n",
       "  <tbody>\n",
       "    <tr>\n",
       "      <th>0</th>\n",
       "      <td>10248</td>\n",
       "      <td>VINET</td>\n",
       "      <td>2012-07-04</td>\n",
       "      <td>2012-07-16</td>\n",
       "      <td>12.0</td>\n",
       "      <td>440.00</td>\n",
       "    </tr>\n",
       "    <tr>\n",
       "      <th>1</th>\n",
       "      <td>10249</td>\n",
       "      <td>TOMSP</td>\n",
       "      <td>2012-07-05</td>\n",
       "      <td>2012-07-10</td>\n",
       "      <td>5.0</td>\n",
       "      <td>1863.40</td>\n",
       "    </tr>\n",
       "    <tr>\n",
       "      <th>2</th>\n",
       "      <td>10250</td>\n",
       "      <td>HANAR</td>\n",
       "      <td>2012-07-08</td>\n",
       "      <td>2012-07-12</td>\n",
       "      <td>4.0</td>\n",
       "      <td>1552.60</td>\n",
       "    </tr>\n",
       "    <tr>\n",
       "      <th>3</th>\n",
       "      <td>10251</td>\n",
       "      <td>VICTE</td>\n",
       "      <td>2012-07-08</td>\n",
       "      <td>2012-07-15</td>\n",
       "      <td>7.0</td>\n",
       "      <td>654.06</td>\n",
       "    </tr>\n",
       "    <tr>\n",
       "      <th>4</th>\n",
       "      <td>10252</td>\n",
       "      <td>SUPRD</td>\n",
       "      <td>2012-07-09</td>\n",
       "      <td>2012-07-11</td>\n",
       "      <td>2.0</td>\n",
       "      <td>3597.90</td>\n",
       "    </tr>\n",
       "  </tbody>\n",
       "</table>\n",
       "</div>"
      ],
      "text/plain": [
       "   OrderId CustomerId   OrderDate ShippedDate  HandlingTime  TotalAmount\n",
       "0    10248      VINET  2012-07-04  2012-07-16          12.0       440.00\n",
       "1    10249      TOMSP  2012-07-05  2012-07-10           5.0      1863.40\n",
       "2    10250      HANAR  2012-07-08  2012-07-12           4.0      1552.60\n",
       "3    10251      VICTE  2012-07-08  2012-07-15           7.0       654.06\n",
       "4    10252      SUPRD  2012-07-09  2012-07-11           2.0      3597.90"
      ]
     },
     "execution_count": 188,
     "metadata": {},
     "output_type": "execute_result"
    }
   ],
   "source": [
    "data.head()"
   ]
  },
  {
   "cell_type": "code",
   "execution_count": 191,
   "metadata": {
    "hidden": true
   },
   "outputs": [
    {
     "data": {
      "text/plain": [
       "7.0"
      ]
     },
     "execution_count": 191,
     "metadata": {},
     "output_type": "execute_result"
    }
   ],
   "source": [
    "#get the median amount to create the samples\n",
    "data['HandlingTime'].median()"
   ]
  },
  {
   "cell_type": "code",
   "execution_count": 194,
   "metadata": {
    "hidden": true
   },
   "outputs": [],
   "source": [
    "#create 2 sample groups \n",
    "#sample groups are divided by the median handling time. This will allow to check\n",
    "#if the Total_Amount means between groups are significantly different\n",
    "\n",
    "large_handling = data.loc[data['HandlingTime'] > data['HandlingTime'].median()]\n",
    "\n",
    "small_handling = data.loc[data['HandlingTime'] <= data['HandlingTime'].median()]\n"
   ]
  },
  {
   "cell_type": "code",
   "execution_count": 227,
   "metadata": {
    "hidden": true,
    "scrolled": true
   },
   "outputs": [
    {
     "data": {
      "image/png": "[encoded data removed]",
      "text/plain": [
       "<Figure size 576x396 with 2 Axes>"
      ]
     },
     "metadata": {},
     "output_type": "display_data"
    }
   ],
   "source": [
    "#Check normality in data\n",
    "fig, (ax1, ax2) = plt.subplots(1,2)\n",
    "\n",
    "ax1.hist(small_handling['TotalAmount'], bins=100, color='b', alpha=0.5, label='small handling time')\n",
    "ax2.hist(large_handling['TotalAmount'], bins=100, color='r', alpha=0.7, label='large handling time')\n",
    "ax1.legend()\n",
    "ax2.legend();"
   ]
  },
  {
   "cell_type": "code",
   "execution_count": 242,
   "metadata": {
    "hidden": true
   },
   "outputs": [],
   "source": [
    "#Take some sample means \n",
    "sample_means_small = []\n",
    "sample_means_large = []\n",
    "\n",
    "for i in range(50):\n",
    "    samp = np.random.choice(small_handling['TotalAmount'], size=50).mean()\n",
    "    sample_means_small.append(samp)\n",
    "    \n",
    "for i in range(50):\n",
    "    samp = np.random.choice(large_handling['TotalAmount'], size=50).mean()\n",
    "    sample_means_large.append(samp)"
   ]
  },
  {
   "cell_type": "code",
   "execution_count": 248,
   "metadata": {
    "hidden": true
   },
   "outputs": [
    {
     "name": "stdout",
     "output_type": "stream",
     "text": [
      "224.10302291338158 258.322114456781\n"
     ]
    }
   ],
   "source": [
    "sd_small = np.std(sample_means_small, ddof=1)\n",
    "sd_large = np.std(sample_means_large, ddof=1)\n",
    "print(sd_small, sd_large)"
   ]
  },
  {
   "cell_type": "code",
   "execution_count": 249,
   "metadata": {
    "hidden": true
   },
   "outputs": [
    {
     "name": "stdout",
     "output_type": "stream",
     "text": [
      "224.10302291338158 221.8506740610389\n",
      "258.322114456781 255.72584640797226\n"
     ]
    }
   ],
   "source": [
    "print(sd_small, np.std(sample_means_small))\n",
    "print(sd_large, np.std(sample_means_large))"
   ]
  },
  {
   "cell_type": "code",
   "execution_count": 253,
   "metadata": {
    "hidden": true,
    "scrolled": false
   },
   "outputs": [
    {
     "data": {
      "image/png": "[encoded data removed]",
      "text/plain": [
       "<Figure size 360x216 with 1 Axes>"
      ]
     },
     "metadata": {},
     "output_type": "display_data"
    },
    {
     "data": {
      "image/png": "[encoded data removed]",
      "text/plain": [
       "<Figure size 360x216 with 1 Axes>"
      ]
     },
     "metadata": {},
     "output_type": "display_data"
    }
   ],
   "source": [
    "plt.figure(figsize=(5, 3))\n",
    "plt.hist(sample_means_small, bins=20, color='r', alpha=0.5)\n",
    "plt.show()\n",
    "\n",
    "plt.figure(figsize=(5, 3))\n",
    "plt.hist(sample_means_large, bins=20, color='b', alpha=0.5)\n",
    "plt.show();"
   ]
  },
  {
   "cell_type": "markdown",
   "metadata": {
    "hidden": true
   },
   "source": [
    "#### Using Shapiro test for normality\n",
    "- H0: distribution is normal\n",
    "- Ha: distribution is not normal"
   ]
  },
  {
   "cell_type": "code",
   "execution_count": 257,
   "metadata": {
    "hidden": true
   },
   "outputs": [
    {
     "name": "stdout",
     "output_type": "stream",
     "text": [
      "(0.9694462418556213, 0.21973472833633423) (0.9831778407096863, 0.6913372278213501)\n"
     ]
    }
   ],
   "source": [
    "print(scs.shapiro(sample_means_small), scs.shapiro(sample_means_large))"
   ]
  },
  {
   "cell_type": "markdown",
   "metadata": {
    "hidden": true
   },
   "source": [
    "With p-values greater than 0.05 we faild to reject H0; therefore, we have enough evidence to believe that the sample means come from a normal distribution."
   ]
  },
  {
   "cell_type": "markdown",
   "metadata": {
    "hidden": true
   },
   "source": [
    "#### Using the Levene test for equal variances of 2 distributions\n",
    "- H0: v1=v2\n",
    "\n",
    "- Ha: v1!=v2"
   ]
  },
  {
   "cell_type": "code",
   "execution_count": null,
   "metadata": {
    "hidden": true
   },
   "outputs": [],
   "source": []
  }
 ],
 "metadata": {
  "kernelspec": {
   "display_name": "Python 3",
   "language": "python",
   "name": "python3"
  },
  "language_info": {
   "codemirror_mode": {
    "name": "ipython",
    "version": 3
   },
   "file_extension": ".py",
   "mimetype": "text/x-python",
   "name": "python",
   "nbconvert_exporter": "python",
   "pygments_lexer": "ipython3",
   "version": "3.7.3"
  }
 },
 "nbformat": 4,
 "nbformat_minor": 2
}
